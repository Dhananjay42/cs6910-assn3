{
  "cells": [
    {
      "cell_type": "markdown",
      "metadata": {
        "id": "view-in-github",
        "colab_type": "text"
      },
      "source": [
        "<a href=\"https://colab.research.google.com/github/Dhananjay42/cs6910-assn3/blob/main/assn3_nb.ipynb\" target=\"_parent\"><img src=\"https://colab.research.google.com/assets/colab-badge.svg\" alt=\"Open In Colab\"/></a>"
      ]
    },
    {
      "cell_type": "markdown",
      "metadata": {
        "id": "90nAoRsb0UqA"
      },
      "source": [
        "##CS6910: Assignment-3\n",
        "-- Submitted by Dhananjay Balakrishnan, ME19B012"
      ]
    },
    {
      "cell_type": "markdown",
      "metadata": {
        "id": "ixsJcIep0eUZ"
      },
      "source": [
        "##Setup and Loading the Dataset"
      ]
    },
    {
      "cell_type": "code",
      "execution_count": 1,
      "metadata": {
        "colab": {
          "base_uri": "https://localhost:8080/"
        },
        "id": "cdw6pniAfp28",
        "outputId": "c37164d1-0603-4457-90eb-a9b97211d0df"
      },
      "outputs": [
        {
          "output_type": "stream",
          "name": "stdout",
          "text": [
            "Looking in indexes: https://pypi.org/simple, https://us-python.pkg.dev/colab-wheels/public/simple/\n",
            "Collecting python-Levenshtein\n",
            "  Downloading python_Levenshtein-0.21.0-py3-none-any.whl (9.4 kB)\n",
            "Collecting Levenshtein==0.21.0 (from python-Levenshtein)\n",
            "  Downloading Levenshtein-0.21.0-cp310-cp310-manylinux_2_17_x86_64.manylinux2014_x86_64.whl (174 kB)\n",
            "\u001b[2K     \u001b[90m━━━━━━━━━━━━━━━━━━━━━━━━━━━━━━━━━━━━━━\u001b[0m \u001b[32m174.1/174.1 kB\u001b[0m \u001b[31m15.5 MB/s\u001b[0m eta \u001b[36m0:00:00\u001b[0m\n",
            "\u001b[?25hCollecting rapidfuzz<4.0.0,>=2.3.0 (from Levenshtein==0.21.0->python-Levenshtein)\n",
            "  Downloading rapidfuzz-3.0.0-cp310-cp310-manylinux_2_17_x86_64.manylinux2014_x86_64.whl (3.0 MB)\n",
            "\u001b[2K     \u001b[90m━━━━━━━━━━━━━━━━━━━━━━━━━━━━━━━━━━━━━━━━\u001b[0m \u001b[32m3.0/3.0 MB\u001b[0m \u001b[31m106.5 MB/s\u001b[0m eta \u001b[36m0:00:00\u001b[0m\n",
            "\u001b[?25hInstalling collected packages: rapidfuzz, Levenshtein, python-Levenshtein\n",
            "Successfully installed Levenshtein-0.21.0 python-Levenshtein-0.21.0 rapidfuzz-3.0.0\n"
          ]
        }
      ],
      "source": [
        "!pip install python-Levenshtein"
      ]
    },
    {
      "cell_type": "code",
      "execution_count": 2,
      "metadata": {
        "id": "AF-X9IyU3Kru"
      },
      "outputs": [],
      "source": [
        "import csv\n",
        "from __future__ import unicode_literals, print_function, division\n",
        "from io import open\n",
        "import unicodedata\n",
        "import string\n",
        "import re\n",
        "import random\n",
        "\n",
        "import torch\n",
        "import torch.nn as nn\n",
        "from torch import optim\n",
        "import torch.nn.functional as F\n",
        "\n",
        "device = torch.device(\"cuda\" if torch.cuda.is_available() else \"cpu\")\n",
        "import Levenshtein\n",
        "import math"
      ]
    },
    {
      "cell_type": "code",
      "execution_count": 3,
      "metadata": {
        "colab": {
          "base_uri": "https://localhost:8080/"
        },
        "id": "UVnNtzrR0pUt",
        "outputId": "0d55968d-a33b-4971-bc7e-ad8ef6e9d78c"
      },
      "outputs": [
        {
          "output_type": "stream",
          "name": "stdout",
          "text": [
            "Mounted at /content/gdrive/\n"
          ]
        }
      ],
      "source": [
        "from google.colab import drive\n",
        "drive.mount('/content/gdrive/')"
      ]
    },
    {
      "cell_type": "code",
      "execution_count": 4,
      "metadata": {
        "id": "QUrlh1ep0bLk"
      },
      "outputs": [],
      "source": [
        "data_dir = '/content/gdrive/MyDrive/CS6910_A3/aksharantar_sampled/tam/'"
      ]
    },
    {
      "cell_type": "code",
      "execution_count": 5,
      "metadata": {
        "id": "i2Dr1QDU0qGD"
      },
      "outputs": [],
      "source": [
        "def obtain_data(dir):\n",
        "  x = []\n",
        "  y = []\n",
        "\n",
        "  with open(dir, 'r') as file:\n",
        "    reader = csv.DictReader(file, fieldnames=['x', 'y'])\n",
        "  \n",
        "    for row in reader:\n",
        "      x.append(row['x'])\n",
        "      y.append(row['y'])\n",
        "    \n",
        "  return x, y"
      ]
    },
    {
      "cell_type": "code",
      "execution_count": 6,
      "metadata": {
        "id": "faHyeHRY3lVl"
      },
      "outputs": [],
      "source": [
        "x_train, y_train = obtain_data(data_dir + 'tam_train.csv')\n",
        "x_test, y_test = obtain_data(data_dir + 'tam_test.csv')\n",
        "x_val, y_val = obtain_data(data_dir + 'tam_valid.csv')"
      ]
    },
    {
      "cell_type": "code",
      "execution_count": 7,
      "metadata": {
        "colab": {
          "base_uri": "https://localhost:8080/"
        },
        "id": "3ya5oC143xZ8",
        "outputId": "094c1522-b93b-485f-dd87-bef3dc66982e"
      },
      "outputs": [
        {
          "output_type": "stream",
          "name": "stdout",
          "text": [
            "thottacharya தொட்டாச்சார்ய\n",
            "menmaithaan மென்மைதான்\n"
          ]
        }
      ],
      "source": [
        "for i in range(0, 2):\n",
        "  print(x_train[i], y_train[i])"
      ]
    },
    {
      "cell_type": "code",
      "execution_count": 8,
      "metadata": {
        "id": "0s9Mght5EB7b"
      },
      "outputs": [],
      "source": [
        "start_token = 0\n",
        "end_token = 1"
      ]
    },
    {
      "cell_type": "code",
      "execution_count": 9,
      "metadata": {
        "id": "NkOaYBL_-qy2"
      },
      "outputs": [],
      "source": [
        "eng_characters = {}"
      ]
    },
    {
      "cell_type": "code",
      "execution_count": 10,
      "metadata": {
        "id": "KItsHUzs9zPP"
      },
      "outputs": [],
      "source": [
        "class Language:\n",
        "  def __init__(self, name):\n",
        "    self.name = name\n",
        "    self.char2index = {}\n",
        "    self.index2char = {0: \"SOS\", 1: \"EOS\", 2: \"unknown\"}\n",
        "    self.n_chars = 3  # Count SOS and EOS\n",
        "    self.max_size = 2\n",
        "\n",
        "  def update_vocab(self, x):\n",
        "    for word in x:\n",
        "      if len(word) + 2 > self.max_size:\n",
        "        self.max_size = len(word) + 2\n",
        "\n",
        "      for letter in word:\n",
        "        if letter not in self.char2index.keys():\n",
        "          self.char2index[letter] = self.n_chars\n",
        "          self.index2char[self.n_chars] = letter\n",
        "          self.n_chars = self.n_chars + 1\n",
        "  \n",
        "  def get_index(self, character):\n",
        "    if character in self.char2index.keys():\n",
        "      return self.char2index[character]\n",
        "    else:\n",
        "      return 2\n",
        "  \n",
        "  def get_character(self, index):\n",
        "    if index == 2:\n",
        "      return '$'\n",
        "    else:\n",
        "      return self.index2char[index]"
      ]
    },
    {
      "cell_type": "code",
      "execution_count": 11,
      "metadata": {
        "id": "Dt5eia4S_tLQ"
      },
      "outputs": [],
      "source": [
        "english = Language('eng')\n",
        "tamil = Language('tam')"
      ]
    },
    {
      "cell_type": "code",
      "execution_count": 12,
      "metadata": {
        "id": "OQBYGHJl_2fQ"
      },
      "outputs": [],
      "source": [
        "english.update_vocab(x_train)\n",
        "tamil.update_vocab(y_train)"
      ]
    },
    {
      "cell_type": "code",
      "execution_count": 13,
      "metadata": {
        "id": "yCsWlmkwAlwC"
      },
      "outputs": [],
      "source": [
        "def encoded_word(language, word):\n",
        "  coded = [language.get_index(letter) for letter in word]\n",
        "  coded.append(end_token)\n",
        "  return coded\n",
        "\n",
        "def get_pairs(lang1, lang2, inputs, targets):\n",
        "  return [(torch.tensor(encoded_word(lang1, x), dtype=torch.long, device=device).view(-1, 1), torch.tensor(encoded_word(lang2, y), dtype=torch.long, device=device).view(-1, 1)) \n",
        "  for (x,y) in zip(inputs,targets)]\n",
        "\n",
        "def decoded_word(language, encoded_word):\n",
        "  characters = [language.get_character(num) for num in encoded_word[:-1]]\n",
        "  decoded = ''.join(characters)\n",
        "  return decoded"
      ]
    },
    {
      "cell_type": "code",
      "execution_count": 14,
      "metadata": {
        "id": "4VDupcI8m3aS"
      },
      "outputs": [],
      "source": [
        "train_data = get_pairs(english, tamil, x_train, y_train)\n",
        "test_data = get_pairs(english, tamil, x_test, y_test)\n",
        "val_data = get_pairs(english, tamil, x_val, y_val)"
      ]
    },
    {
      "cell_type": "markdown",
      "metadata": {
        "id": "63vUwSCMWDMn"
      },
      "source": [
        "#RNN without Attention"
      ]
    },
    {
      "cell_type": "code",
      "execution_count": 15,
      "metadata": {
        "id": "0zU4N_wh70Wc"
      },
      "outputs": [],
      "source": [
        "class Encoder(nn.Module):\n",
        "  def __init__(self, inp_vocab_size, embedding_size, n_layers, hl_size, dropout, cell_type, bidirectional):\n",
        "    super(Encoder, self).__init__()\n",
        "    self.vocab_size = inp_vocab_size\n",
        "    self.embedding_size = embedding_size\n",
        "    self.n_layers = n_layers\n",
        "    self.hl_size = hl_size\n",
        "    self.bidirectional = bidirectional\n",
        "    self.cell_type = cell_type\n",
        "    self.dropout = dropout\n",
        "\n",
        "    if cell_type == 'RNN':\n",
        "      self.cell = nn.RNN(self.embedding_size, self.hl_size, num_layers = self.n_layers, dropout = self.dropout, bidirectional = self.bidirectional).to(device)\n",
        "    elif cell_type == 'GRU':\n",
        "      self.cell = nn.GRU(self.embedding_size, self.hl_size, num_layers = self.n_layers, dropout = self.dropout, bidirectional = self.bidirectional).to(device)\n",
        "    elif cell_type == 'LSTM':\n",
        "      self.cell = nn.LSTM(self.embedding_size, self.hl_size, num_layers = self.n_layers, dropout = self.dropout, bidirectional = self.bidirectional).to(device)\n",
        "    else:\n",
        "      print('Wrong Cell Type.')\n",
        "      exit()\n",
        "    self.embedding_layer = nn.Embedding(self.vocab_size, self.embedding_size).to(device)\n",
        "  \n",
        "  def forward(self, input, hidden, c = 0):\n",
        "    embedded = self.embedding_layer(input).view(1, 1, -1)\n",
        "    if self.cell_type != 'LSTM':\n",
        "      output, hidden = self.cell(embedded, hidden)\n",
        "      \n",
        "      return output, hidden\n",
        "\n",
        "    else:\n",
        "      output, (hidden, c) = self.cell(embedded, (hidden, c))\n",
        "\n",
        "      return output, hidden, c\n",
        "  \n",
        "  def init_hidden(self):\n",
        "    if self.bidirectional:\n",
        "      return torch.zeros(self.n_layers*2, 1, self.hl_size, device = device)\n",
        "    else:\n",
        "      return torch.zeros(self.n_layers, 1, self.hl_size, device = device)"
      ]
    },
    {
      "cell_type": "code",
      "execution_count": 16,
      "metadata": {
        "id": "FU3vbDoy1cm8"
      },
      "outputs": [],
      "source": [
        "class DecoderVanilla(nn.Module):\n",
        "  def __init__(self, out_vocab_size, embedding_size, n_layers, hl_size, dropout, cell_type, bidirectional):\n",
        "    super(DecoderVanilla, self).__init__()\n",
        "    self.vocab_size = out_vocab_size\n",
        "    self.embedding_size = embedding_size\n",
        "    self.n_layers = n_layers\n",
        "    self.hl_size = hl_size\n",
        "    self.softmax = nn.LogSoftmax(dim=1)\n",
        "    self.cell_type = cell_type\n",
        "    self.bidirectional = bidirectional\n",
        "    self.dropout = dropout\n",
        "\n",
        "    if self.bidirectional:\n",
        "      self.linear = nn.Linear(2*self.hl_size, self.vocab_size).to(device)\n",
        "    else:\n",
        "      self.linear = nn.Linear(self.hl_size, self.vocab_size).to(device)\n",
        "\n",
        "    if cell_type == 'RNN':\n",
        "      self.cell = nn.RNN(self.embedding_size, self.hl_size, num_layers = self.n_layers, dropout = self.dropout, bidirectional = self.bidirectional).to(device)\n",
        "    elif cell_type == 'GRU':\n",
        "      self.cell = nn.GRU(self.embedding_size, self.hl_size, num_layers = self.n_layers, dropout = self.dropout, bidirectional = self.bidirectional).to(device)\n",
        "    elif cell_type == 'LSTM':\n",
        "      self.cell = nn.LSTM(self.embedding_size, self.hl_size, num_layers = self.n_layers, dropout = self.dropout, bidirectional = self.bidirectional).to(device)\n",
        "    else:\n",
        "      print('Wrong Cell Type.')\n",
        "      exit()\n",
        "    \n",
        "    self.embedding_layer = nn.Embedding(self.vocab_size, self.embedding_size).to(device)\n",
        "  \n",
        "  def forward(self, input, hidden, c = 0):\n",
        "    embedded = self.embedding_layer(input).view(1, 1, -1)\n",
        "    output = F.relu(embedded)\n",
        "\n",
        "    if self.cell_type != 'LSTM':\n",
        "      output, hidden = self.cell(output, hidden)\n",
        "      output = self.linear(output[0])\n",
        "      output = self.softmax(output)\n",
        "      return output, hidden\n",
        "    else:\n",
        "      output, (hidden, c) = self.cell(output, (hidden, c))\n",
        "      output = self.linear(output[0])\n",
        "      output = self.softmax(output)\n",
        "      return output, hidden, c"
      ]
    },
    {
      "cell_type": "code",
      "execution_count": 17,
      "metadata": {
        "id": "XtBOmSCGcuka"
      },
      "outputs": [],
      "source": [
        "class seq2seq_vanilla():\n",
        "  def __init__(self, inp_language, out_language, embedding_size, n_layers, hl_size, dropout = 0.2, cell_type = 'LSTM', lr = 0.01, teacher_forcing_ratio = 0.5,bidirectional_flag = False):\n",
        "    self.encoder = Encoder(inp_language.n_chars, embedding_size, n_layers, hl_size, dropout, cell_type, bidirectional = bidirectional_flag)\n",
        "    self.decoder = DecoderVanilla(out_language.n_chars, embedding_size, n_layers, hl_size, dropout, cell_type, bidirectional = bidirectional_flag)\n",
        "    self.lr = lr\n",
        "    self.teacher_forcing = teacher_forcing_ratio\n",
        "    self.max_length = out_language.max_size\n",
        "    self.cell_type = cell_type\n",
        "\n",
        "    self.encoder_optimizer = optim.SGD(self.encoder.parameters(), lr=self.lr)\n",
        "    self.decoder_optimizer = optim.SGD(self.decoder.parameters(), lr = self.lr)\n",
        "\n",
        "    self.loss_fn = nn.NLLLoss()\n",
        "\n",
        "  def train_step(self, input, target):\n",
        "    encoder_hidden = self.encoder.init_hidden()\n",
        "    encoder_c = self.encoder.init_hidden()\n",
        "\n",
        "    self.encoder_optimizer.zero_grad()\n",
        "    self.decoder_optimizer.zero_grad()\n",
        "\n",
        "    input_length = input.size(0)\n",
        "    target_length = target.size(0)\n",
        "\n",
        "    loss = 0\n",
        "\n",
        "    for i in range(0, input_length):\n",
        "      if self.cell_type != 'LSTM':\n",
        "        encoder_output, encoder_hidden = self.encoder.forward(input[i], encoder_hidden)\n",
        "      else:\n",
        "        encoder_output, encoder_hidden, encoder_c = self.encoder.forward(input[i], encoder_hidden, encoder_c)\n",
        "    \n",
        "    decoder_input = torch.tensor([[start_token]], device=device)\n",
        "\n",
        "    decoder_hidden = encoder_hidden\n",
        "    decoder_c = encoder_c\n",
        "\n",
        "    num = random.random()\n",
        "\n",
        "    if num < self.teacher_forcing:\n",
        "      #here, we use teacher forcing. \n",
        "      for j in range(0, target_length):\n",
        "        if self.cell_type != 'LSTM':\n",
        "          decoder_output, decoder_hidden = self.decoder.forward(decoder_input, decoder_hidden)\n",
        "        else:\n",
        "          decoder_output, decoder_hidden, decoder_c = self.decoder.forward(decoder_input, decoder_hidden, decoder_c)\n",
        "\n",
        "        loss = loss + self.loss_fn(decoder_output, target[j])\n",
        "        decoder_input = target[j]#.unsqueeze(0)\n",
        "\n",
        "    else:\n",
        "      #here, there is no teacher forcing. the predictions themselves are used. \n",
        "      for j in range(0, target_length):\n",
        "        if self.cell_type != 'LSTM':\n",
        "          decoder_output, decoder_hidden = self.decoder.forward(decoder_input, decoder_hidden)\n",
        "        else:\n",
        "          decoder_output, decoder_hidden, decoder_c = self.decoder.forward(decoder_input, decoder_hidden, decoder_c)\n",
        "\n",
        "        loss = loss + self.loss_fn(decoder_output, target[j])\n",
        "        value, index = decoder_output.topk(1)\n",
        "        decoder_input = index.squeeze().detach()\n",
        "        if decoder_input.item() == end_token:\n",
        "          break\n",
        "      \n",
        "            \n",
        "    loss.backward()\n",
        "    self.encoder_optimizer.step()\n",
        "    self.decoder_optimizer.step()\n",
        "\n",
        "    return loss.item()/target_length\n",
        "  \n",
        "  def predict(self, input, target):\n",
        "    with torch.no_grad():\n",
        "      encoder_hidden = self.encoder.init_hidden()\n",
        "      encoder_c = self.encoder.init_hidden()\n",
        "\n",
        "      input_length = input.size(0)\n",
        "      for i in range(0, input_length):\n",
        "        if self.cell_type != 'LSTM':\n",
        "          encoder_output, encoder_hidden = self.encoder.forward(input[i], encoder_hidden)\n",
        "        else:\n",
        "          encoder_output, encoder_hidden, encoder_c = self.encoder.forward(input[i], encoder_hidden, encoder_c)\n",
        "\n",
        "      decoder_input = torch.tensor([[start_token]], device=device)\n",
        "      decoder_hidden = encoder_hidden\n",
        "      decoder_c = encoder_c\n",
        "\n",
        "      outputs = []\n",
        "      for i in range(0, self.max_length):\n",
        "        if self.cell_type != 'LSTM':\n",
        "          decoder_output, decoder_hidden = self.decoder.forward(decoder_input, decoder_hidden)\n",
        "        else:\n",
        "          decoder_output, decoder_hidden, decoder_c = self.decoder.forward(decoder_input, decoder_hidden, decoder_c)\n",
        "\n",
        "        value, index = decoder_output.data.topk(1)\n",
        "        decoder_input = index.squeeze().detach()\n",
        "        outputs.append(decoder_input.item())\n",
        "        if decoder_input.item() == end_token:\n",
        "          break\n",
        "\n",
        "      return outputs\n",
        "\n",
        "\n",
        "  def evaluate(self, data):\n",
        "    correct = 0\n",
        "    character_wise = 0\n",
        "    count = 0\n",
        "    total_distance = 0\n",
        "\n",
        "    for pair in data:\n",
        "      input = pair[0]\n",
        "      target = pair[1]\n",
        "      pred = self.predict(input, target)\n",
        "      target = target.tolist()\n",
        "      target = [t[0] for t in target]\n",
        "\n",
        "      #if count%500 == 0:\n",
        "        #print(decoded_word(tamil,pred), decoded_word(tamil,target))\n",
        "      #count = count + 1\n",
        "\n",
        "      pred_word = decoded_word(tamil,pred)\n",
        "      tar_word = decoded_word(tamil,target)\n",
        "      \n",
        "      if pred_word == tar_word:\n",
        "        correct = correct + 1\n",
        "      \n",
        "      total_distance = total_distance + min((Levenshtein.distance(pred_word, tar_word)/max(len(tar_word),len(pred_word))), 1)\n",
        "    \n",
        "    avg_distance = total_distance/len(data)\n",
        "    char_acc = 1 - avg_distance\n",
        "    acc = correct/len(data)\n",
        "\n",
        "\n",
        "    return acc, char_acc"
      ]
    },
    {
      "cell_type": "code",
      "execution_count": 18,
      "metadata": {
        "id": "-UWaDWHPnXPN"
      },
      "outputs": [],
      "source": [
        "model = seq2seq_vanilla(inp_language = english, out_language = tamil, embedding_size = 64, n_layers = 2, hl_size = 128)"
      ]
    },
    {
      "cell_type": "code",
      "execution_count": 19,
      "metadata": {
        "id": "uKHso_WvDWjg"
      },
      "outputs": [],
      "source": [
        "n_iters = 75000"
      ]
    },
    {
      "cell_type": "code",
      "execution_count": 20,
      "metadata": {
        "colab": {
          "base_uri": "https://localhost:8080/"
        },
        "id": "asm1dpLKgJTi",
        "outputId": "4bcb2a85-8de5-42be-a5bc-fa33ec26bc53"
      },
      "outputs": [
        {
          "output_type": "stream",
          "name": "stdout",
          "text": [
            "4096\n"
          ]
        }
      ],
      "source": [
        "print(len(val_data))"
      ]
    },
    {
      "cell_type": "code",
      "execution_count": 21,
      "metadata": {
        "id": "-_nDKVgTNmnE"
      },
      "outputs": [],
      "source": [
        "training_pairs = [random.choice(train_data) for i in range(0, n_iters)]"
      ]
    },
    {
      "cell_type": "code",
      "execution_count": 22,
      "metadata": {
        "id": "8yiauv0nN19Q"
      },
      "outputs": [],
      "source": [
        "# train_loss = 0\n",
        "# for i in range(0, n_iters):\n",
        "#   training_pair = training_pairs[i]\n",
        "#   x = training_pair[0]\n",
        "#   y = training_pair[1]\n",
        "#   loss = model.train_step(x, y)\n",
        "#   train_loss = train_loss + loss\n",
        "\n",
        "#   if (i+1)%5000 == 0:\n",
        "#     print('------------------------------------------------')\n",
        "#     print('train loss is:', train_loss/5000)\n",
        "#     test_acc, char_acc = model.evaluate(val_data)\n",
        "#     print(f'test accuracy is {test_acc} and character-wise accuracy is {char_acc}')\n",
        "#     train_loss = 0"
      ]
    },
    {
      "cell_type": "markdown",
      "source": [
        "#RNN with Attention"
      ],
      "metadata": {
        "id": "NzzXCox-cqpB"
      }
    },
    {
      "cell_type": "code",
      "source": [
        "class DecoderAttn(nn.Module):\n",
        "  def __init__(self, out_vocab_size, max_length, embedding_size, hl_size, dropout, cell_type, bidirectional):\n",
        "    super(DecoderAttn, self).__init__()\n",
        "    self.vocab_size = out_vocab_size\n",
        "    self.embedding_size = embedding_size\n",
        "    self.hl_size = hl_size\n",
        "    self.softmax = nn.LogSoftmax(dim=1)\n",
        "    self.cell_type = cell_type\n",
        "    self.bidirectional = bidirectional\n",
        "    self.dropout = dropout\n",
        "    self.max_length = max_length\n",
        "\n",
        "    self.dropout_layer = nn.Dropout(self.dropout).to(device)\n",
        "\n",
        "\n",
        "    if self.bidirectional:\n",
        "      self.linear = nn.Linear(2*self.hl_size, self.vocab_size).to(device)\n",
        "      self.attention = nn.Linear(2*self.hl_size + self.embedding_size, self.max_length).to(device)\n",
        "      self.attn_combine = nn.Linear(2*self.hl_size + self.embedding_size, self.embedding_size).to(device)\n",
        "\n",
        "    else:\n",
        "      self.linear = nn.Linear(self.hl_size, self.vocab_size).to(device)\n",
        "      self.attention = nn.Linear(self.hl_size + self.embedding_size, self.max_length).to(device)\n",
        "      self.attn_combine = nn.Linear(self.hl_size + self.embedding_size, self.embedding_size).to(device)\n",
        "\n",
        "\n",
        "    if cell_type == 'RNN':\n",
        "      self.cell = nn.RNN(self.embedding_size, self.hl_size, num_layers = 1, bidirectional = self.bidirectional).to(device)\n",
        "    elif cell_type == 'GRU':\n",
        "      self.cell = nn.GRU(self.embedding_size, self.hl_size, num_layers = 1, bidirectional = self.bidirectional).to(device)\n",
        "    elif cell_type == 'LSTM':\n",
        "      self.cell = nn.LSTM(self.embedding_size, self.hl_size, num_layers = 1, bidirectional = self.bidirectional).to(device)\n",
        "    else:\n",
        "      print('Wrong Cell Type.')\n",
        "      exit()\n",
        "    \n",
        "    self.embedding_layer = nn.Embedding(self.vocab_size, self.embedding_size).to(device)\n",
        "  \n",
        "  def forward(self, input, hidden, encoder_outputs, c = 0):\n",
        "    embedded = self.embedding_layer(input).view(1, 1, -1)\n",
        "    embedded = self.dropout_layer(embedded)\n",
        "\n",
        "    if self.bidirectional:\n",
        "      concatenated = torch.cat((embedded[0], hidden[0], hidden[1]), 1)\n",
        "    else:\n",
        "      concatenated = torch.cat((embedded[0], hidden[0]), 1)\n",
        "    #print(embedded.shape, hidden.shape, concatenated.shape)\n",
        "    #print(embedded.shape, hidden.shape, concatenated.shape)\n",
        "\n",
        "    attn_weights = F.softmax(self.attention(concatenated), dim=1)\n",
        "    attn_applied = torch.bmm(attn_weights.unsqueeze(0), encoder_outputs.unsqueeze(0))\n",
        "\n",
        "    output = torch.cat((embedded[0], attn_applied[0]), 1)\n",
        "    output = self.attn_combine(output).unsqueeze(0)\n",
        "\n",
        "    if self.cell_type != 'LSTM':\n",
        "      output, hidden = self.cell(output, hidden)\n",
        "      output = self.linear(output[0])\n",
        "      output = self.softmax(output)\n",
        "      return output, hidden, attn_weights\n",
        "    else:\n",
        "      output, (hidden, c) = self.cell(output, (hidden, c))\n",
        "      output = self.linear(output[0])\n",
        "      output = self.softmax(output)\n",
        "      return output, hidden, c, attn_weights"
      ],
      "metadata": {
        "id": "45CGDuE99oVG"
      },
      "execution_count": 49,
      "outputs": []
    },
    {
      "cell_type": "code",
      "source": [
        "class seq2seq_attn():\n",
        "  #out_vocab_size, max_length, embedding_size, hl_size, dropout, cell_type, bidirectional\n",
        "  #self, inp_vocab_size, embedding_size, n_layers, hl_size, dropout, cell_type, bidirectional):\n",
        "  def __init__(self, inp_language, out_language, embedding_size, hl_size, dropout = 0.2, cell_type = 'LSTM', lr = 0.005, teacher_forcing_ratio = 0.5,bidirectional_flag = True):\n",
        "    self.max_length = max(out_language.max_size,  inp_language.max_size)\n",
        "    self.encoder = Encoder(inp_language.n_chars, embedding_size, 1, hl_size, dropout, cell_type, bidirectional = bidirectional_flag)\n",
        "    self.decoder = DecoderAttn(out_language.n_chars, self.max_length, embedding_size, hl_size, dropout, cell_type, bidirectional = bidirectional_flag)\n",
        "    self.lr = lr\n",
        "    self.teacher_forcing = teacher_forcing_ratio\n",
        "    self.cell_type = cell_type\n",
        "    self.bidir = bidirectional_flag\n",
        "\n",
        "    self.encoder_optimizer = optim.SGD(self.encoder.parameters(), lr=self.lr)\n",
        "    self.decoder_optimizer = optim.SGD(self.decoder.parameters(), lr = self.lr)\n",
        "\n",
        "    self.loss_fn = nn.NLLLoss()\n",
        "    #decay^30000 = 0.2\n",
        "    self.decay_rate = 2**(math.log2(0.2)/30000)\n",
        "    #self.decay = lambda epoch: self.decay_rate\n",
        "    self.encoder_scheduler = torch.optim.lr_scheduler.MultiplicativeLR(self.encoder_optimizer, lr_lambda=self.decay)\n",
        "    self.decoder_scheduler = torch.optim.lr_scheduler.MultiplicativeLR(self.decoder_optimizer, lr_lambda=self.decay)\n",
        "  \n",
        "  def decay(self, epoch):\n",
        "    return self.decay_rate\n",
        "\n",
        "  def train_step(self, input, target):\n",
        "    encoder_hidden = self.encoder.init_hidden()\n",
        "    encoder_c = self.encoder.init_hidden()\n",
        "\n",
        "    self.encoder_optimizer.zero_grad()\n",
        "    self.decoder_optimizer.zero_grad()\n",
        "\n",
        "    input_length = input.size(0)\n",
        "    target_length = target.size(0)\n",
        "\n",
        "    loss = 0\n",
        "\n",
        "    if self.bidir == True:\n",
        "      encoder_outputs = torch.zeros(self.max_length, 2*self.encoder.hl_size, device=device)\n",
        "    else:\n",
        "      encoder_outputs = torch.zeros(self.max_length, self.encoder.hl_size, device=device)\n",
        "\n",
        "    for i in range(0, input_length):\n",
        "      if self.cell_type != 'LSTM':\n",
        "        encoder_output, encoder_hidden = self.encoder.forward(input[i], encoder_hidden)\n",
        "        encoder_outputs[i] = encoder_output[0, 0]\n",
        "      else:\n",
        "        encoder_output, encoder_hidden, encoder_c = self.encoder.forward(input[i], encoder_hidden, encoder_c)\n",
        "        encoder_outputs[i] = encoder_output[0, 0]\n",
        "    \n",
        "    decoder_input = torch.tensor([[start_token]], device=device)\n",
        "\n",
        "    decoder_hidden = encoder_hidden\n",
        "    decoder_c = encoder_c\n",
        "\n",
        "    num = random.random()\n",
        "\n",
        "    if num < self.teacher_forcing:\n",
        "      #here, we use teacher forcing. \n",
        "      for j in range(0, target_length):\n",
        "        if self.cell_type != 'LSTM':\n",
        "          decoder_output, decoder_hidden, decoder_attention = self.decoder.forward(decoder_input, decoder_hidden, encoder_outputs)\n",
        "        else:\n",
        "          decoder_output, decoder_hidden, decoder_c, decoder_attention = self.decoder.forward(decoder_input, decoder_hidden, encoder_outputs, decoder_c)\n",
        "\n",
        "        loss = loss + self.loss_fn(decoder_output, target[j])\n",
        "        decoder_input = target[j]#.unsqueeze(0)\n",
        "\n",
        "    else:\n",
        "      #here, there is no teacher forcing. the predictions themselves are used. \n",
        "      for j in range(0, target_length):\n",
        "        if self.cell_type != 'LSTM':\n",
        "          decoder_output, decoder_hidden, decoder_attention = self.decoder.forward(decoder_input, decoder_hidden, encoder_outputs)\n",
        "        else:\n",
        "          decoder_output, decoder_hidden, decoder_c, decoder_attention = self.decoder.forward(decoder_input, decoder_hidden, encoder_outputs, decoder_c)\n",
        "\n",
        "        loss = loss + self.loss_fn(decoder_output, target[j])\n",
        "        value, index = decoder_output.topk(1)\n",
        "        decoder_input = index.squeeze().detach()\n",
        "        if decoder_input.item() == end_token:\n",
        "          break\n",
        "      \n",
        "            \n",
        "    loss.backward()\n",
        "    self.encoder_optimizer.step()\n",
        "    self.decoder_optimizer.step()\n",
        "\n",
        "    self.encoder_scheduler.step()\n",
        "    self.decoder_scheduler.step()\n",
        "\n",
        "    return loss.item()/target_length\n",
        "  \n",
        "  def predict(self, input, target):\n",
        "    with torch.no_grad():\n",
        "      encoder_hidden = self.encoder.init_hidden()\n",
        "      encoder_c = self.encoder.init_hidden()\n",
        "\n",
        "      if self.bidir == True:\n",
        "        encoder_outputs = torch.zeros(self.max_length, 2*self.encoder.hl_size, device=device)\n",
        "      else:\n",
        "        encoder_outputs = torch.zeros(self.max_length, self.encoder.hl_size, device=device)\n",
        "\n",
        "      input_length = input.size(0)\n",
        "      for i in range(0, min(input_length, self.max_length)):\n",
        "        if self.cell_type != 'LSTM':\n",
        "          encoder_output, encoder_hidden = self.encoder.forward(input[i], encoder_hidden)\n",
        "          encoder_outputs[i] = encoder_output[0, 0]\n",
        "        else:\n",
        "          encoder_output, encoder_hidden, encoder_c = self.encoder.forward(input[i], encoder_hidden, encoder_c)\n",
        "          encoder_outputs[i] = encoder_output[0, 0]\n",
        "\n",
        "      decoder_input = torch.tensor([[start_token]], device=device)\n",
        "      decoder_hidden = encoder_hidden\n",
        "      decoder_c = encoder_c\n",
        "\n",
        "      outputs = []\n",
        "      for i in range(0, self.max_length):\n",
        "        if self.cell_type != 'LSTM':\n",
        "          decoder_output, decoder_hidden, decoder_attention = self.decoder.forward(decoder_input, decoder_hidden, encoder_outputs)\n",
        "        else:\n",
        "          decoder_output, decoder_hidden, decoder_c, decoder_attention = self.decoder.forward(decoder_input, decoder_hidden, encoder_outputs, decoder_c)\n",
        "\n",
        "        value, index = decoder_output.data.topk(1)\n",
        "        decoder_input = index.squeeze().detach()\n",
        "        outputs.append(decoder_input.item())\n",
        "        if decoder_input.item() == end_token:\n",
        "          break\n",
        "\n",
        "      return outputs\n",
        "\n",
        "\n",
        "  def evaluate(self, data):\n",
        "    correct = 0\n",
        "    character_wise = 0\n",
        "    count = 0\n",
        "    total_distance = 0\n",
        "\n",
        "    for pair in data:\n",
        "      input = pair[0]\n",
        "      target = pair[1]\n",
        "      pred = self.predict(input, target)\n",
        "      target = target.tolist()\n",
        "      target = [t[0] for t in target]\n",
        "\n",
        "      if count%500 == 0:\n",
        "        print(decoded_word(tamil,pred), decoded_word(tamil,target))\n",
        "      count = count + 1\n",
        "\n",
        "      pred_word = decoded_word(tamil,pred)\n",
        "      tar_word = decoded_word(tamil,target)\n",
        "      \n",
        "      if pred_word == tar_word:\n",
        "        correct = correct + 1\n",
        "      \n",
        "      total_distance = total_distance + min((Levenshtein.distance(pred_word, tar_word)/max(len(tar_word),len(pred_word))), 1)\n",
        "    \n",
        "    avg_distance = total_distance/len(data)\n",
        "    char_acc = 1 - avg_distance\n",
        "    acc = correct/len(data)\n",
        "\n",
        "\n",
        "    return acc, char_acc"
      ],
      "metadata": {
        "id": "YkdMjiL8B5Kx"
      },
      "execution_count": 53,
      "outputs": []
    },
    {
      "cell_type": "code",
      "source": [
        "model = seq2seq_attn(inp_language = english, out_language = tamil, embedding_size = 128, hl_size = 128)"
      ],
      "metadata": {
        "id": "3lD7KsLN_FCF"
      },
      "execution_count": 54,
      "outputs": []
    },
    {
      "cell_type": "code",
      "source": [
        "train_loss = 0\n",
        "for i in range(0, n_iters):\n",
        "  training_pair = training_pairs[i]\n",
        "  x = training_pair[0]\n",
        "  y = training_pair[1]\n",
        "  loss = model.train_step(x, y)\n",
        "  train_loss = train_loss + loss\n",
        "\n",
        "  if (i+1)%5000 == 0:\n",
        "    print('------------------------------------------------')\n",
        "    print('train loss is:', train_loss/5000)\n",
        "    test_acc, char_acc = model.evaluate(val_data)\n",
        "    print(f'test accuracy is {test_acc} and character-wise accuracy is {char_acc}')\n",
        "    train_loss = 0"
      ],
      "metadata": {
        "id": "FA4xyw70_FCH",
        "colab": {
          "base_uri": "https://localhost:8080/"
        },
        "outputId": "e7869f56-aef8-4e00-c35e-6264d8d6da3b"
      },
      "execution_count": 55,
      "outputs": [
        {
          "output_type": "stream",
          "name": "stdout",
          "text": [
            "------------------------------------------------\n",
            "train loss is: 2.5637444081916625\n",
            "சார்கககக்ககக்கக்கும் நாணயக்குற்றிகளும்\n",
            "குத்தத்் கௌரவத்தை\n",
            "பி்்்்் போயிங்\n",
            "சார்கில் அடிகளை\n",
            "பெட்டும் பிஸினஸ்\n",
            "கு்திர்ககக்கு கோட்பாடுகளில்\n",
            "குக்க்் கோவலர்\n",
            "பி்்்்் தாலி\n",
            "பெர்்் வண\n",
            "test accuracy is 0.0 and character-wise accuracy is 0.26914009182847065\n",
            "------------------------------------------------\n",
            "train loss is: 1.872706409942668\n",
            "நனனாக்குக்கிறும்முமமும் நாணயக்குற்றிகளும்\n",
            "கொரவவத்தால் கௌரவத்தை\n",
            "போயிக் போயிங்\n",
            "அடகளிலா அடிகளை\n",
            "புசிந்செ பிஸினஸ்\n",
            "கொட்பாக்களில் கோட்பாடுகளில்\n",
            "கொலல்ரா கோவலர்\n",
            "அலின் தாலி\n",
            "சென் வண\n",
            "test accuracy is 0.050537109375 and character-wise accuracy is 0.612077025535356\n",
            "------------------------------------------------\n",
            "train loss is: 1.1699905734935776\n",
            "நானயக்குட்றிில்் நாணயக்குற்றிகளும்\n",
            "கொர்வாத்தால் கௌரவத்தை\n",
            "போயிங்க போயிங்\n",
            "அடிகளை அடிகளை\n",
            "புசினெச்ச் பிஸினஸ்\n",
            "கொட்பாடுகளளில் கோட்பாடுகளில்\n",
            "கொவலலர் கோவலர்\n",
            "டலில் தாலி\n",
            "வென்்் வண\n",
            "test accuracy is 0.182373046875 and character-wise accuracy is 0.7100039629199719\n",
            "------------------------------------------------\n",
            "train loss is: 0.819662180649678\n",
            "நானயக்குட்றிகள்ளமும் நாணயக்குற்றிகளும்\n",
            "கூரவத்தைய் கௌரவத்தை\n",
            "போயிங்க போயிங்\n",
            "அடிகளை அடிகளை\n",
            "புசின்செச் பிஸினஸ்\n",
            "கூட்பாடுகளில் கோட்பாடுகளில்\n",
            "கூவலர் கோவலர்\n",
            "டலில் தாலி\n",
            "வென் வண\n",
            "test accuracy is 0.294189453125 and character-wise accuracy is 0.788932049866385\n",
            "------------------------------------------------\n",
            "train loss is: 0.6418564532988229\n",
            "நாணயக்குற்றிகள்ளும் நாணயக்குற்றிகளும்\n",
            "கொரவவத்தை கௌரவத்தை\n",
            "போயிங்க போயிங்\n",
            "அடிகளை அடிகளை\n",
            "புசின்சீஸ் பிஸினஸ்\n",
            "கூட்படுகளில் கோட்பாடுகளில்\n",
            "கூவலர்் கோவலர்\n",
            "டலில் தாலி\n",
            "வேன்் வண\n",
            "test accuracy is 0.323974609375 and character-wise accuracy is 0.8009979067338867\n",
            "------------------------------------------------\n",
            "train loss is: 0.5461711488224731\n",
            "நானயக்குட்றிகளும் நாணயக்குற்றிகளும்\n",
            "கொருவத்தை கௌரவத்தை\n",
            "போயிங் போயிங்\n",
            "அடிகளை அடிகளை\n",
            "புசினஸ்ச் பிஸினஸ்\n",
            "கூட்பாடுகளில் கோட்பாடுகளில்\n",
            "கொவலார் கோவலர்\n",
            "டலி தாலி\n",
            "வேன் வண\n",
            "test accuracy is 0.3828125 and character-wise accuracy is 0.8251105498742417\n",
            "------------------------------------------------\n",
            "train loss is: 0.49279778662076723\n",
            "நானயக்குற்றிகளும் நாணயக்குற்றிகளும்\n",
            "கூரவத்தை கௌரவத்தை\n",
            "போயிங் போயிங்\n",
            "அடிகளை அடிகளை\n",
            "புசினீஸ் பிஸினஸ்\n",
            "கூட்பாடுகளில் கோட்பாடுகளில்\n",
            "கோவலர் கோவலர்\n",
            "டலில் தாலி\n",
            "வென் வண\n",
            "test accuracy is 0.415283203125 and character-wise accuracy is 0.8377769345484676\n",
            "------------------------------------------------\n",
            "train loss is: 0.441135014833221\n",
            "நானயக்குற்றிகளும் நாணயக்குற்றிகளும்\n",
            "கூரவத்தை கௌரவத்தை\n",
            "போயிங்க போயிங்\n",
            "அடிகளை அடிகளை\n",
            "புசினீஸ்ச் பிஸினஸ்\n",
            "கூட்பாடுகளில் கோட்பாடுகளில்\n",
            "கூவலர் கோவலர்\n",
            "தலி தாலி\n",
            "வேன் வண\n",
            "test accuracy is 0.423583984375 and character-wise accuracy is 0.8422025083596857\n",
            "------------------------------------------------\n",
            "train loss is: 0.4246118464255053\n",
            "நானயக்குற்றிகளும் நாணயக்குற்றிகளும்\n",
            "கூரவத்தை கௌரவத்தை\n",
            "போயிங் போயிங்\n",
            "அடிகளை அடிகளை\n",
            "புசினஸ்ஸ் பிஸினஸ்\n",
            "கூட்பாடுகளில் கோட்பாடுகளில்\n",
            "கோவலர் கோவலர்\n",
            "தலி தாலி\n",
            "வேன் வண\n",
            "test accuracy is 0.4482421875 and character-wise accuracy is 0.8472596618267225\n",
            "------------------------------------------------\n",
            "train loss is: 0.4086223082231882\n",
            "நானயக்குற்றிகள்ளும் நாணயக்குற்றிகளும்\n",
            "கூரவத்தய் கௌரவத்தை\n",
            "போயிங் போயிங்\n",
            "அடிகளை அடிகளை\n",
            "புசினஸ்சஸ் பிஸினஸ்\n",
            "கூட்பாடுகளில் கோட்பாடுகளில்\n",
            "கோவலர் கோவலர்\n",
            "தலி தாலி\n",
            "வேன் வண\n",
            "test accuracy is 0.453369140625 and character-wise accuracy is 0.8474623181457248\n",
            "------------------------------------------------\n",
            "train loss is: 0.39647633215233224\n",
            "நானயக்குற்றிகளும் நாணயக்குற்றிகளும்\n",
            "கொரவவத்தய் கௌரவத்தை\n",
            "போயிங் போயிங்\n",
            "அடிகளை அடிகளை\n",
            "புசின்சஸ் பிஸினஸ்\n",
            "கூட்பாடுகளில் கோட்பாடுகளில்\n",
            "கோவலர் கோவலர்\n",
            "டலி தாலி\n",
            "வேன் வண\n",
            "test accuracy is 0.453857421875 and character-wise accuracy is 0.847551037420137\n",
            "------------------------------------------------\n",
            "train loss is: 0.3779509344461925\n",
            "நானயக்குற்றிகளும் நாணயக்குற்றிகளும்\n",
            "கொருவத்தய் கௌரவத்தை\n",
            "போயிங் போயிங்\n",
            "அடிகளை அடிகளை\n",
            "புசினஸ்ஸ் பிஸினஸ்\n",
            "கூட்பாடுகளில் கோட்பாடுகளில்\n",
            "கூவலர் கோவலர்\n",
            "தலி தாலி\n",
            "வேன் வண\n",
            "test accuracy is 0.46484375 and character-wise accuracy is 0.8505950536645929\n",
            "------------------------------------------------\n",
            "train loss is: 0.38187341647208967\n",
            "நானயக்குற்றிகளும் நாணயக்குற்றிகளும்\n",
            "கூரவத்தய் கௌரவத்தை\n",
            "போயிங் போயிங்\n",
            "அடிகளை அடிகளை\n",
            "புசினசஸ்ஸ் பிஸினஸ்\n",
            "கூட்பாடுகளில் கோட்பாடுகளில்\n",
            "கூவலர் கோவலர்\n",
            "டலி தாலி\n",
            "வேன் வண\n",
            "test accuracy is 0.466796875 and character-wise accuracy is 0.8510380982570117\n",
            "------------------------------------------------\n",
            "train loss is: 0.38327746246281086\n",
            "நானயக்குக்றிகளும் நாணயக்குற்றிகளும்\n",
            "கூறவத்தய் கௌரவத்தை\n",
            "போயிங் போயிங்\n",
            "அடிகளை அடிகளை\n",
            "புசினஸ்ஸ் பிஸினஸ்\n",
            "கூட்பாடுகளில் கோட்பாடுகளில்\n",
            "கூவலர் கோவலர்\n",
            "தலி தாலி\n",
            "வென் வண\n",
            "test accuracy is 0.46630859375 and character-wise accuracy is 0.8507449957350678\n",
            "------------------------------------------------\n",
            "train loss is: 0.36119479137736654\n",
            "நானயக்குற்றிகளும் நாணயக்குற்றிகளும்\n",
            "கூறவத்தய் கௌரவத்தை\n",
            "போயிங் போயிங்\n",
            "அடிகளை அடிகளை\n",
            "புசினிஸ்ஸ் பிஸினஸ்\n",
            "கூட்பாடுகளில் கோட்பாடுகளில்\n",
            "கூவலர் கோவலர்\n",
            "டலிி தாலி\n",
            "வேன் வண\n",
            "test accuracy is 0.47265625 and character-wise accuracy is 0.8513878198670968\n"
          ]
        }
      ]
    },
    {
      "cell_type": "code",
      "source": [
        "import pickle\n",
        "with open('lstm_attn_0.2_max_model_bidir.pkl', 'wb') as file:\n",
        "    pickle.dump(model, file)\n",
        "    print('Object successfully saved.')"
      ],
      "metadata": {
        "id": "xCtpitncj_8L",
        "colab": {
          "base_uri": "https://localhost:8080/"
        },
        "outputId": "b54b0214-fb06-4227-ef70-f61d70939b3a"
      },
      "execution_count": 56,
      "outputs": [
        {
          "output_type": "stream",
          "name": "stdout",
          "text": [
            "Object successfully saved.\n"
          ]
        }
      ]
    },
    {
      "cell_type": "markdown",
      "metadata": {
        "id": "voDdPUQRcmr9"
      },
      "source": [
        "#Setting up wandb and hyperparameter sweep\n"
      ]
    },
    {
      "cell_type": "code",
      "execution_count": null,
      "metadata": {
        "colab": {
          "base_uri": "https://localhost:8080/"
        },
        "id": "nslhYuf3cr-k",
        "outputId": "e283de1d-4de9-4b14-e82e-efe2e3abf2d2"
      },
      "outputs": [
        {
          "output_type": "stream",
          "name": "stdout",
          "text": [
            "Looking in indexes: https://pypi.org/simple, https://us-python.pkg.dev/colab-wheels/public/simple/\n",
            "Collecting wandb\n",
            "  Downloading wandb-0.15.2-py3-none-any.whl (2.0 MB)\n",
            "\u001b[2K     \u001b[90m━━━━━━━━━━━━━━━━━━━━━━━━━━━━━━━━━━━━━━━━\u001b[0m \u001b[32m2.0/2.0 MB\u001b[0m \u001b[31m56.0 MB/s\u001b[0m eta \u001b[36m0:00:00\u001b[0m\n",
            "\u001b[?25hRequirement already satisfied: Click!=8.0.0,>=7.0 in /usr/local/lib/python3.10/dist-packages (from wandb) (8.1.3)\n",
            "Collecting GitPython!=3.1.29,>=1.0.0 (from wandb)\n",
            "  Downloading GitPython-3.1.31-py3-none-any.whl (184 kB)\n",
            "\u001b[2K     \u001b[90m━━━━━━━━━━━━━━━━━━━━━━━━━━━━━━━━━━━━━━\u001b[0m \u001b[32m184.3/184.3 kB\u001b[0m \u001b[31m23.6 MB/s\u001b[0m eta \u001b[36m0:00:00\u001b[0m\n",
            "\u001b[?25hRequirement already satisfied: requests<3,>=2.0.0 in /usr/local/lib/python3.10/dist-packages (from wandb) (2.27.1)\n",
            "Requirement already satisfied: psutil>=5.0.0 in /usr/local/lib/python3.10/dist-packages (from wandb) (5.9.5)\n",
            "Collecting sentry-sdk>=1.0.0 (from wandb)\n",
            "  Downloading sentry_sdk-1.23.0-py2.py3-none-any.whl (205 kB)\n",
            "\u001b[2K     \u001b[90m━━━━━━━━━━━━━━━━━━━━━━━━━━━━━━━━━━━━━━\u001b[0m \u001b[32m205.1/205.1 kB\u001b[0m \u001b[31m28.5 MB/s\u001b[0m eta \u001b[36m0:00:00\u001b[0m\n",
            "\u001b[?25hCollecting docker-pycreds>=0.4.0 (from wandb)\n",
            "  Downloading docker_pycreds-0.4.0-py2.py3-none-any.whl (9.0 kB)\n",
            "Requirement already satisfied: PyYAML in /usr/local/lib/python3.10/dist-packages (from wandb) (6.0)\n",
            "Collecting pathtools (from wandb)\n",
            "  Downloading pathtools-0.1.2.tar.gz (11 kB)\n",
            "  Preparing metadata (setup.py) ... \u001b[?25l\u001b[?25hdone\n",
            "Collecting setproctitle (from wandb)\n",
            "  Downloading setproctitle-1.3.2-cp310-cp310-manylinux_2_5_x86_64.manylinux1_x86_64.manylinux_2_17_x86_64.manylinux2014_x86_64.whl (30 kB)\n",
            "Requirement already satisfied: setuptools in /usr/local/lib/python3.10/dist-packages (from wandb) (67.7.2)\n",
            "Requirement already satisfied: appdirs>=1.4.3 in /usr/local/lib/python3.10/dist-packages (from wandb) (1.4.4)\n",
            "Requirement already satisfied: protobuf!=4.21.0,<5,>=3.19.0 in /usr/local/lib/python3.10/dist-packages (from wandb) (3.20.3)\n",
            "Requirement already satisfied: six>=1.4.0 in /usr/local/lib/python3.10/dist-packages (from docker-pycreds>=0.4.0->wandb) (1.16.0)\n",
            "Collecting gitdb<5,>=4.0.1 (from GitPython!=3.1.29,>=1.0.0->wandb)\n",
            "  Downloading gitdb-4.0.10-py3-none-any.whl (62 kB)\n",
            "\u001b[2K     \u001b[90m━━━━━━━━━━━━━━━━━━━━━━━━━━━━━━━━━━━━━━━━\u001b[0m \u001b[32m62.7/62.7 kB\u001b[0m \u001b[31m8.8 MB/s\u001b[0m eta \u001b[36m0:00:00\u001b[0m\n",
            "\u001b[?25hRequirement already satisfied: urllib3<1.27,>=1.21.1 in /usr/local/lib/python3.10/dist-packages (from requests<3,>=2.0.0->wandb) (1.26.15)\n",
            "Requirement already satisfied: certifi>=2017.4.17 in /usr/local/lib/python3.10/dist-packages (from requests<3,>=2.0.0->wandb) (2022.12.7)\n",
            "Requirement already satisfied: charset-normalizer~=2.0.0 in /usr/local/lib/python3.10/dist-packages (from requests<3,>=2.0.0->wandb) (2.0.12)\n",
            "Requirement already satisfied: idna<4,>=2.5 in /usr/local/lib/python3.10/dist-packages (from requests<3,>=2.0.0->wandb) (3.4)\n",
            "Collecting smmap<6,>=3.0.1 (from gitdb<5,>=4.0.1->GitPython!=3.1.29,>=1.0.0->wandb)\n",
            "  Downloading smmap-5.0.0-py3-none-any.whl (24 kB)\n",
            "Building wheels for collected packages: pathtools\n",
            "  Building wheel for pathtools (setup.py) ... \u001b[?25l\u001b[?25hdone\n",
            "  Created wheel for pathtools: filename=pathtools-0.1.2-py3-none-any.whl size=8791 sha256=ea4c53739cb1452b6f5eff770204e537e60d97c7f872c06acb8cf68f77813a1e\n",
            "  Stored in directory: /root/.cache/pip/wheels/e7/f3/22/152153d6eb222ee7a56ff8617d80ee5207207a8c00a7aab794\n",
            "Successfully built pathtools\n",
            "Installing collected packages: pathtools, smmap, setproctitle, sentry-sdk, docker-pycreds, gitdb, GitPython, wandb\n",
            "Successfully installed GitPython-3.1.31 docker-pycreds-0.4.0 gitdb-4.0.10 pathtools-0.1.2 sentry-sdk-1.23.0 setproctitle-1.3.2 smmap-5.0.0 wandb-0.15.2\n"
          ]
        }
      ],
      "source": [
        "!pip install wandb"
      ]
    },
    {
      "cell_type": "code",
      "execution_count": null,
      "metadata": {
        "id": "Uqzur-eWq6gY"
      },
      "outputs": [],
      "source": [
        "import wandb"
      ]
    },
    {
      "cell_type": "code",
      "execution_count": null,
      "metadata": {
        "colab": {
          "base_uri": "https://localhost:8080/"
        },
        "id": "7AEcrBGrq6C8",
        "outputId": "60d26e8d-51a4-47fc-b0b9-2b4da8b0820d"
      },
      "outputs": [
        {
          "output_type": "stream",
          "name": "stdout",
          "text": [
            "\u001b[34m\u001b[1mwandb\u001b[0m: Logging into wandb.ai. (Learn how to deploy a W&B server locally: https://wandb.me/wandb-server)\n",
            "\u001b[34m\u001b[1mwandb\u001b[0m: You can find your API key in your browser here: https://wandb.ai/authorize\n",
            "\u001b[34m\u001b[1mwandb\u001b[0m: Paste an API key from your profile and hit enter, or press ctrl+c to quit: \n",
            "\u001b[34m\u001b[1mwandb\u001b[0m: Appending key for api.wandb.ai to your netrc file: /root/.netrc\n"
          ]
        }
      ],
      "source": [
        "!wandb login\n",
        "#63a3fc8a45a3ca461290e711c17782295dfe1975"
      ]
    },
    {
      "cell_type": "code",
      "execution_count": null,
      "metadata": {
        "id": "8U4exWKvrA6t"
      },
      "outputs": [],
      "source": [
        "entity_name = \"clroymustang\"\n",
        "project_name = \"cs6910-assignment-3\""
      ]
    },
    {
      "cell_type": "code",
      "execution_count": null,
      "metadata": {
        "id": "6YMELBegw5Qu"
      },
      "outputs": [],
      "source": [
        "n_iters = 75000"
      ]
    },
    {
      "cell_type": "code",
      "execution_count": null,
      "metadata": {
        "id": "2INJlUhew5Qv"
      },
      "outputs": [],
      "source": [
        "training_pairs = [random.choice(train_data) for i in range(0, n_iters)]"
      ]
    },
    {
      "cell_type": "code",
      "execution_count": null,
      "metadata": {
        "id": "6RvJeUKyrURQ"
      },
      "outputs": [],
      "source": [
        "def sweep():\n",
        "  defaults = {\n",
        "      'embedding_size': 32,\n",
        "      'n_layers': 1,\n",
        "      'hl_size': 32,\n",
        "      'bidir': False,\n",
        "      'dropout': 0,\n",
        "      'cell_type': 'GRU'\n",
        "  }\n",
        "  wandb.init(config = defaults)\n",
        "  config = wandb.config\n",
        "\n",
        "  vanilla_model = seq2seq_vanilla(english, tamil, embedding_size = config.embedding_size, n_layers = config.n_layers, hl_size = config.hl_size, dropout = config.dropout, \\\n",
        "                          cell_type = config.cell_type, lr = 0.01, teacher_forcing_ratio = 0.5, bidirectional_flag = config.bidir)\n",
        "  \n",
        "  train_loss = 0\n",
        "  for i in range(0, n_iters):\n",
        "    training_pair = training_pairs[i]\n",
        "    x = training_pair[0]\n",
        "    y = training_pair[1]\n",
        "    loss = vanilla_model.train_step(x, y)\n",
        "    train_loss = train_loss + loss\n",
        "\n",
        "    if (i+1)%5000 == 0:\n",
        "      test_acc, char_acc = vanilla_model.evaluate(val_data)\n",
        "      train_loss = train_loss/5000\n",
        "      log_dict = {\"train_loss\":train_loss, \"test_accuracy\":test_acc, \"test_similarity\":char_acc}\n",
        "      wandb.log(log_dict)\n",
        "      train_loss = 0\n",
        "  \n",
        "  sweep_name = str(config.cell_type) + \"_emb\" + str(config.embedding_size) + \"_hl\" + str(config.hl_size) + \"_nl\" + str(config.n_layers) + \"_d\" + \\\n",
        "  str(config.dropout) + \"_bidir\" + str(config.bidir)\n",
        "  wandb.run.name = sweep_name\n",
        "\n",
        "  wandb.run.save()\n",
        "  wandb.run.finish()\n"
      ]
    },
    {
      "cell_type": "code",
      "execution_count": null,
      "metadata": {
        "id": "dtIQrWBarYGl"
      },
      "outputs": [],
      "source": [
        "hyperparameters = {\n",
        "      \"embedding_size\": {\n",
        "          'values': [32, 64, 128]\n",
        "      },\n",
        "      \"n_layers\": {\n",
        "          'values' : [1, 2, 3]\n",
        "      },\n",
        "      \"hl_size\": {\n",
        "          'values' : [32, 64, 128]\n",
        "      },\n",
        "      \"bidir\": {\n",
        "          'values': [True, False]\n",
        "      },\n",
        "      \"dropout\":{\n",
        "        'values': [0, 0.2, 0.3]\n",
        "      },\n",
        "      \"cell_type\": {\n",
        "          'values' : ['RNN', 'GRU', 'LSTM']\n",
        "      }\n",
        "  }"
      ]
    },
    {
      "cell_type": "code",
      "execution_count": null,
      "metadata": {
        "id": "ewDLFM5wsuy_"
      },
      "outputs": [],
      "source": [
        "sweep_configuration = {\n",
        "    'method': 'bayes',\n",
        "    'name': 'vanilla_sweep',\n",
        "    'metric': {\n",
        "        'goal': 'maximize', \n",
        "        'name': 'test_similarity'\n",
        "        },\n",
        "    'parameters': hyperparameters\n",
        "}"
      ]
    },
    {
      "cell_type": "code",
      "execution_count": null,
      "metadata": {
        "id": "6JISeTaQsyH4"
      },
      "outputs": [],
      "source": [
        "#sweep_id = wandb.sweep(sweep_configuration, entity=entity_name, project=project_name)\n",
        "sweep_id = 'td3auwvp'"
      ]
    },
    {
      "cell_type": "code",
      "execution_count": null,
      "metadata": {
        "colab": {
          "base_uri": "https://localhost:8080/",
          "height": 1000,
          "referenced_widgets": [
            "6d18ab10921447df8a1e4c6e0f46371b",
            "e28ecee177734fbfb10941396ffc9499",
            "28aec72e3c384604aba68fb73b25049a",
            "07108fda8c054c139586e02d97f766f6",
            "8fe1fa3b01b64e01993e5461db80032a",
            "be6459b2ba5e40b5987fcebdac179fa7",
            "5d9d347f717e4ddfbaf6a99a0fe33756",
            "1d5305268d4b431f98743c6a53ef10fd",
            "9483b567ece9430aa02218fad8bb33c4",
            "b8d43aa272b4414f8e448afe5efe5d86",
            "be02b749099d4f799f54e50c5dc5c5a4",
            "cfef0a7f5cdd4356a31e4f6fe54cd1e3",
            "67dbbba82c2f49e9bb0e979bee110a27",
            "dd9046da6a7f4431b138f9620817c1d9",
            "5d3025dc8c054bd3b17bdc060e6a89a1",
            "d6f5fbebdd7f4595b5c09925ef27787d",
            "889287eba9e44e858f46673a7b4fecb9",
            "6018f78e1ec749ce8c1cac269e60e99d",
            "e3cbd03597f543789920ea33ba210c0e",
            "594e935266584c85b3d0ff9446683c26",
            "e82f371c2ba348fcaed9b860eee824cf",
            "5a4fcf9285964546925c6dba4408706e",
            "a422c7e9f40b4f2db41a18db32c2498c",
            "4094e78272f94d389505c57ce03e2955",
            "f26676f98a1142fc9473de33ec1b56af",
            "bfb5d7b66c9b4674b2ac9b746c4df3b1",
            "4d3c1e0174c14823becbd3b35e05a882",
            "cd3a5798a3854273b02233cee3452ee5",
            "b065c13d40434f51ac566d15cf149334",
            "5024f147f6484734af4116b9f2546bd2",
            "f07c0be46fd8458abcc88107436c8975",
            "d4a2a6a09f5246a78e031d53525c98fc",
            "c2fa9188278441a1ab15b048a6981527",
            "402ef79b0e4743daa2070b573d72f08d",
            "3e59bc9ddc7546c8b230f94e7b382a2d",
            "7fa5e5819ab94cfd9f6cc7f2b49c28c0",
            "02e6f9a973d440eab657dc29ca95037e",
            "e00dc75c9c3c4af99cbfd9420ff6c8c1",
            "446b9f914338476584a05970f04660bb",
            "8df05f24bed147909084c0d6e32fa675",
            "8b05556bdb20442892d1e364d2117be5",
            "b288930d25ea4417bb8845e28e4779f1",
            "30498cfac9a640be97682430c20c36b0",
            "4a3d3bc92bc24c75858be6b5294ea078",
            "44214aab402d4442845c84f8f51de4f0",
            "4dcfd26598184d128a1983d4ce965a78",
            "c0337afad9b2465a831217cd645e9f09",
            "e2f1e7eb9f694efa9067a23a38e1a9fc"
          ]
        },
        "id": "SVQKj1pB_PRG",
        "outputId": "5b08302e-ccd1-42d6-a305-c1a98262b644"
      },
      "outputs": [
        {
          "output_type": "stream",
          "name": "stderr",
          "text": [
            "\u001b[34m\u001b[1mwandb\u001b[0m: Agent Starting Run: 2hfvjn75 with config:\n",
            "\u001b[34m\u001b[1mwandb\u001b[0m: \tbidir: False\n",
            "\u001b[34m\u001b[1mwandb\u001b[0m: \tcell_type: LSTM\n",
            "\u001b[34m\u001b[1mwandb\u001b[0m: \tdropout: 0.3\n",
            "\u001b[34m\u001b[1mwandb\u001b[0m: \tembedding_size: 32\n",
            "\u001b[34m\u001b[1mwandb\u001b[0m: \thl_size: 128\n",
            "\u001b[34m\u001b[1mwandb\u001b[0m: \tn_layers: 1\n",
            "\u001b[34m\u001b[1mwandb\u001b[0m: Currently logged in as: \u001b[33mdhananjayb\u001b[0m (\u001b[33mclroymustang\u001b[0m). Use \u001b[1m`wandb login --relogin`\u001b[0m to force relogin\n"
          ]
        },
        {
          "output_type": "display_data",
          "data": {
            "text/plain": [
              "VBox(children=(Label(value='Waiting for wandb.init()...\\r'), FloatProgress(value=0.016669352883333963, max=1.0…"
            ],
            "application/vnd.jupyter.widget-view+json": {
              "version_major": 2,
              "version_minor": 0,
              "model_id": "6d18ab10921447df8a1e4c6e0f46371b"
            }
          },
          "metadata": {}
        },
        {
          "output_type": "display_data",
          "data": {
            "text/plain": [
              "<IPython.core.display.HTML object>"
            ],
            "text/html": [
              "Tracking run with wandb version 0.15.2"
            ]
          },
          "metadata": {}
        },
        {
          "output_type": "display_data",
          "data": {
            "text/plain": [
              "<IPython.core.display.HTML object>"
            ],
            "text/html": [
              "Run data is saved locally in <code>/content/wandb/run-20230517_091300-2hfvjn75</code>"
            ]
          },
          "metadata": {}
        },
        {
          "output_type": "display_data",
          "data": {
            "text/plain": [
              "<IPython.core.display.HTML object>"
            ],
            "text/html": [
              "Syncing run <strong><a href='https://wandb.ai/clroymustang/cs6910-assignment-3/runs/2hfvjn75' target=\"_blank\">bright-sweep-37</a></strong> to <a href='https://wandb.ai/clroymustang/cs6910-assignment-3' target=\"_blank\">Weights & Biases</a> (<a href='https://wandb.me/run' target=\"_blank\">docs</a>)<br/>Sweep page: <a href='https://wandb.ai/clroymustang/cs6910-assignment-3/sweeps/td3auwvp' target=\"_blank\">https://wandb.ai/clroymustang/cs6910-assignment-3/sweeps/td3auwvp</a>"
            ]
          },
          "metadata": {}
        },
        {
          "output_type": "display_data",
          "data": {
            "text/plain": [
              "<IPython.core.display.HTML object>"
            ],
            "text/html": [
              " View project at <a href='https://wandb.ai/clroymustang/cs6910-assignment-3' target=\"_blank\">https://wandb.ai/clroymustang/cs6910-assignment-3</a>"
            ]
          },
          "metadata": {}
        },
        {
          "output_type": "display_data",
          "data": {
            "text/plain": [
              "<IPython.core.display.HTML object>"
            ],
            "text/html": [
              " View sweep at <a href='https://wandb.ai/clroymustang/cs6910-assignment-3/sweeps/td3auwvp' target=\"_blank\">https://wandb.ai/clroymustang/cs6910-assignment-3/sweeps/td3auwvp</a>"
            ]
          },
          "metadata": {}
        },
        {
          "output_type": "display_data",
          "data": {
            "text/plain": [
              "<IPython.core.display.HTML object>"
            ],
            "text/html": [
              " View run at <a href='https://wandb.ai/clroymustang/cs6910-assignment-3/runs/2hfvjn75' target=\"_blank\">https://wandb.ai/clroymustang/cs6910-assignment-3/runs/2hfvjn75</a>"
            ]
          },
          "metadata": {}
        },
        {
          "output_type": "stream",
          "name": "stderr",
          "text": [
            "/usr/local/lib/python3.10/dist-packages/torch/nn/modules/rnn.py:71: UserWarning: dropout option adds dropout after all but last recurrent layer, so non-zero dropout expects num_layers greater than 1, but got dropout=0.3 and num_layers=1\n",
            "  warnings.warn(\"dropout option adds dropout after all but last \"\n",
            "\u001b[34m\u001b[1mwandb\u001b[0m: \u001b[33mWARNING\u001b[0m Calling wandb.run.save without any arguments is deprecated.Changes to attributes are automatically persisted.\n"
          ]
        },
        {
          "output_type": "display_data",
          "data": {
            "text/plain": [
              "<IPython.core.display.HTML object>"
            ],
            "text/html": [
              "Waiting for W&B process to finish... <strong style=\"color:green\">(success).</strong>"
            ]
          },
          "metadata": {}
        },
        {
          "output_type": "display_data",
          "data": {
            "text/plain": [
              "VBox(children=(Label(value='0.001 MB of 0.001 MB uploaded (0.000 MB deduped)\\r'), FloatProgress(value=1.0, max…"
            ],
            "application/vnd.jupyter.widget-view+json": {
              "version_major": 2,
              "version_minor": 0,
              "model_id": "9483b567ece9430aa02218fad8bb33c4"
            }
          },
          "metadata": {}
        },
        {
          "output_type": "display_data",
          "data": {
            "text/plain": [
              "<IPython.core.display.HTML object>"
            ],
            "text/html": [
              "<style>\n",
              "    table.wandb td:nth-child(1) { padding: 0 10px; text-align: left ; width: auto;} td:nth-child(2) {text-align: left ; width: 100%}\n",
              "    .wandb-row { display: flex; flex-direction: row; flex-wrap: wrap; justify-content: flex-start; width: 100% }\n",
              "    .wandb-col { display: flex; flex-direction: column; flex-basis: 100%; flex: 1; padding: 10px; }\n",
              "    </style>\n",
              "<div class=\"wandb-row\"><div class=\"wandb-col\"><h3>Run history:</h3><br/><table class=\"wandb\"><tr><td>test_accuracy</td><td>▁▁▁▁▁▂▂▃▄▅▆▆▇██</td></tr><tr><td>test_similarity</td><td>▁▁▂▃▃▅▅▆▇▇▇████</td></tr><tr><td>train_loss</td><td>█▇▇▆▆▅▄▃▃▂▂▂▁▁▁</td></tr></table><br/></div><div class=\"wandb-col\"><h3>Run summary:</h3><br/><table class=\"wandb\"><tr><td>test_accuracy</td><td>0.27515</td></tr><tr><td>test_similarity</td><td>0.77206</td></tr><tr><td>train_loss</td><td>0.74501</td></tr></table><br/></div></div>"
            ]
          },
          "metadata": {}
        },
        {
          "output_type": "display_data",
          "data": {
            "text/plain": [
              "<IPython.core.display.HTML object>"
            ],
            "text/html": [
              " View run <strong style=\"color:#cdcd00\">bright-sweep-37</strong> at: <a href='https://wandb.ai/clroymustang/cs6910-assignment-3/runs/2hfvjn75' target=\"_blank\">https://wandb.ai/clroymustang/cs6910-assignment-3/runs/2hfvjn75</a><br/>Synced 5 W&B file(s), 0 media file(s), 0 artifact file(s) and 0 other file(s)"
            ]
          },
          "metadata": {}
        },
        {
          "output_type": "display_data",
          "data": {
            "text/plain": [
              "<IPython.core.display.HTML object>"
            ],
            "text/html": [
              "Find logs at: <code>./wandb/run-20230517_091300-2hfvjn75/logs</code>"
            ]
          },
          "metadata": {}
        },
        {
          "output_type": "stream",
          "name": "stderr",
          "text": [
            "\u001b[34m\u001b[1mwandb\u001b[0m: Agent Starting Run: 0yfik8wj with config:\n",
            "\u001b[34m\u001b[1mwandb\u001b[0m: \tbidir: False\n",
            "\u001b[34m\u001b[1mwandb\u001b[0m: \tcell_type: LSTM\n",
            "\u001b[34m\u001b[1mwandb\u001b[0m: \tdropout: 0\n",
            "\u001b[34m\u001b[1mwandb\u001b[0m: \tembedding_size: 64\n",
            "\u001b[34m\u001b[1mwandb\u001b[0m: \thl_size: 128\n",
            "\u001b[34m\u001b[1mwandb\u001b[0m: \tn_layers: 3\n"
          ]
        },
        {
          "output_type": "display_data",
          "data": {
            "text/plain": [
              "<IPython.core.display.HTML object>"
            ],
            "text/html": [
              "Tracking run with wandb version 0.15.2"
            ]
          },
          "metadata": {}
        },
        {
          "output_type": "display_data",
          "data": {
            "text/plain": [
              "<IPython.core.display.HTML object>"
            ],
            "text/html": [
              "Run data is saved locally in <code>/content/wandb/run-20230517_094320-0yfik8wj</code>"
            ]
          },
          "metadata": {}
        },
        {
          "output_type": "display_data",
          "data": {
            "text/plain": [
              "<IPython.core.display.HTML object>"
            ],
            "text/html": [
              "Syncing run <strong><a href='https://wandb.ai/clroymustang/cs6910-assignment-3/runs/0yfik8wj' target=\"_blank\">trim-sweep-38</a></strong> to <a href='https://wandb.ai/clroymustang/cs6910-assignment-3' target=\"_blank\">Weights & Biases</a> (<a href='https://wandb.me/run' target=\"_blank\">docs</a>)<br/>Sweep page: <a href='https://wandb.ai/clroymustang/cs6910-assignment-3/sweeps/td3auwvp' target=\"_blank\">https://wandb.ai/clroymustang/cs6910-assignment-3/sweeps/td3auwvp</a>"
            ]
          },
          "metadata": {}
        },
        {
          "output_type": "display_data",
          "data": {
            "text/plain": [
              "<IPython.core.display.HTML object>"
            ],
            "text/html": [
              " View project at <a href='https://wandb.ai/clroymustang/cs6910-assignment-3' target=\"_blank\">https://wandb.ai/clroymustang/cs6910-assignment-3</a>"
            ]
          },
          "metadata": {}
        },
        {
          "output_type": "display_data",
          "data": {
            "text/plain": [
              "<IPython.core.display.HTML object>"
            ],
            "text/html": [
              " View sweep at <a href='https://wandb.ai/clroymustang/cs6910-assignment-3/sweeps/td3auwvp' target=\"_blank\">https://wandb.ai/clroymustang/cs6910-assignment-3/sweeps/td3auwvp</a>"
            ]
          },
          "metadata": {}
        },
        {
          "output_type": "display_data",
          "data": {
            "text/plain": [
              "<IPython.core.display.HTML object>"
            ],
            "text/html": [
              " View run at <a href='https://wandb.ai/clroymustang/cs6910-assignment-3/runs/0yfik8wj' target=\"_blank\">https://wandb.ai/clroymustang/cs6910-assignment-3/runs/0yfik8wj</a>"
            ]
          },
          "metadata": {}
        },
        {
          "output_type": "display_data",
          "data": {
            "text/plain": [
              "<IPython.core.display.HTML object>"
            ],
            "text/html": [
              "Waiting for W&B process to finish... <strong style=\"color:green\">(success).</strong>"
            ]
          },
          "metadata": {}
        },
        {
          "output_type": "display_data",
          "data": {
            "text/plain": [
              "VBox(children=(Label(value='0.001 MB of 0.001 MB uploaded (0.000 MB deduped)\\r'), FloatProgress(value=1.0, max…"
            ],
            "application/vnd.jupyter.widget-view+json": {
              "version_major": 2,
              "version_minor": 0,
              "model_id": "889287eba9e44e858f46673a7b4fecb9"
            }
          },
          "metadata": {}
        },
        {
          "output_type": "display_data",
          "data": {
            "text/plain": [
              "<IPython.core.display.HTML object>"
            ],
            "text/html": [
              "<style>\n",
              "    table.wandb td:nth-child(1) { padding: 0 10px; text-align: left ; width: auto;} td:nth-child(2) {text-align: left ; width: 100%}\n",
              "    .wandb-row { display: flex; flex-direction: row; flex-wrap: wrap; justify-content: flex-start; width: 100% }\n",
              "    .wandb-col { display: flex; flex-direction: column; flex-basis: 100%; flex: 1; padding: 10px; }\n",
              "    </style>\n",
              "<div class=\"wandb-row\"><div class=\"wandb-col\"><h3>Run history:</h3><br/><table class=\"wandb\"><tr><td>test_accuracy</td><td>▁▁▁▁▁▁▂▃▄▅▆▆▇██</td></tr><tr><td>test_similarity</td><td>▁▁▂▂▃▄▅▆▇▇▇████</td></tr><tr><td>train_loss</td><td>█▇▇▆▆▅▄▃▃▂▂▂▁▁▁</td></tr></table><br/></div><div class=\"wandb-col\"><h3>Run summary:</h3><br/><table class=\"wandb\"><tr><td>test_accuracy</td><td>0.38916</td></tr><tr><td>test_similarity</td><td>0.83038</td></tr><tr><td>train_loss</td><td>0.53054</td></tr></table><br/></div></div>"
            ]
          },
          "metadata": {}
        },
        {
          "output_type": "display_data",
          "data": {
            "text/plain": [
              "<IPython.core.display.HTML object>"
            ],
            "text/html": [
              " View run <strong style=\"color:#cdcd00\">trim-sweep-38</strong> at: <a href='https://wandb.ai/clroymustang/cs6910-assignment-3/runs/0yfik8wj' target=\"_blank\">https://wandb.ai/clroymustang/cs6910-assignment-3/runs/0yfik8wj</a><br/>Synced 4 W&B file(s), 0 media file(s), 0 artifact file(s) and 0 other file(s)"
            ]
          },
          "metadata": {}
        },
        {
          "output_type": "display_data",
          "data": {
            "text/plain": [
              "<IPython.core.display.HTML object>"
            ],
            "text/html": [
              "Find logs at: <code>./wandb/run-20230517_094320-0yfik8wj/logs</code>"
            ]
          },
          "metadata": {}
        },
        {
          "output_type": "stream",
          "name": "stderr",
          "text": [
            "\u001b[34m\u001b[1mwandb\u001b[0m: Agent Starting Run: 0pskhceb with config:\n",
            "\u001b[34m\u001b[1mwandb\u001b[0m: \tbidir: False\n",
            "\u001b[34m\u001b[1mwandb\u001b[0m: \tcell_type: LSTM\n",
            "\u001b[34m\u001b[1mwandb\u001b[0m: \tdropout: 0\n",
            "\u001b[34m\u001b[1mwandb\u001b[0m: \tembedding_size: 32\n",
            "\u001b[34m\u001b[1mwandb\u001b[0m: \thl_size: 128\n",
            "\u001b[34m\u001b[1mwandb\u001b[0m: \tn_layers: 3\n"
          ]
        },
        {
          "output_type": "display_data",
          "data": {
            "text/plain": [
              "<IPython.core.display.HTML object>"
            ],
            "text/html": [
              "Tracking run with wandb version 0.15.2"
            ]
          },
          "metadata": {}
        },
        {
          "output_type": "display_data",
          "data": {
            "text/plain": [
              "<IPython.core.display.HTML object>"
            ],
            "text/html": [
              "Run data is saved locally in <code>/content/wandb/run-20230517_102011-0pskhceb</code>"
            ]
          },
          "metadata": {}
        },
        {
          "output_type": "display_data",
          "data": {
            "text/plain": [
              "<IPython.core.display.HTML object>"
            ],
            "text/html": [
              "Syncing run <strong><a href='https://wandb.ai/clroymustang/cs6910-assignment-3/runs/0pskhceb' target=\"_blank\">sage-sweep-39</a></strong> to <a href='https://wandb.ai/clroymustang/cs6910-assignment-3' target=\"_blank\">Weights & Biases</a> (<a href='https://wandb.me/run' target=\"_blank\">docs</a>)<br/>Sweep page: <a href='https://wandb.ai/clroymustang/cs6910-assignment-3/sweeps/td3auwvp' target=\"_blank\">https://wandb.ai/clroymustang/cs6910-assignment-3/sweeps/td3auwvp</a>"
            ]
          },
          "metadata": {}
        },
        {
          "output_type": "display_data",
          "data": {
            "text/plain": [
              "<IPython.core.display.HTML object>"
            ],
            "text/html": [
              " View project at <a href='https://wandb.ai/clroymustang/cs6910-assignment-3' target=\"_blank\">https://wandb.ai/clroymustang/cs6910-assignment-3</a>"
            ]
          },
          "metadata": {}
        },
        {
          "output_type": "display_data",
          "data": {
            "text/plain": [
              "<IPython.core.display.HTML object>"
            ],
            "text/html": [
              " View sweep at <a href='https://wandb.ai/clroymustang/cs6910-assignment-3/sweeps/td3auwvp' target=\"_blank\">https://wandb.ai/clroymustang/cs6910-assignment-3/sweeps/td3auwvp</a>"
            ]
          },
          "metadata": {}
        },
        {
          "output_type": "display_data",
          "data": {
            "text/plain": [
              "<IPython.core.display.HTML object>"
            ],
            "text/html": [
              " View run at <a href='https://wandb.ai/clroymustang/cs6910-assignment-3/runs/0pskhceb' target=\"_blank\">https://wandb.ai/clroymustang/cs6910-assignment-3/runs/0pskhceb</a>"
            ]
          },
          "metadata": {}
        },
        {
          "output_type": "display_data",
          "data": {
            "text/plain": [
              "<IPython.core.display.HTML object>"
            ],
            "text/html": [
              "Waiting for W&B process to finish... <strong style=\"color:green\">(success).</strong>"
            ]
          },
          "metadata": {}
        },
        {
          "output_type": "display_data",
          "data": {
            "text/plain": [
              "VBox(children=(Label(value='0.001 MB of 0.009 MB uploaded (0.000 MB deduped)\\r'), FloatProgress(value=0.121617…"
            ],
            "application/vnd.jupyter.widget-view+json": {
              "version_major": 2,
              "version_minor": 0,
              "model_id": "f26676f98a1142fc9473de33ec1b56af"
            }
          },
          "metadata": {}
        },
        {
          "output_type": "display_data",
          "data": {
            "text/plain": [
              "<IPython.core.display.HTML object>"
            ],
            "text/html": [
              "<style>\n",
              "    table.wandb td:nth-child(1) { padding: 0 10px; text-align: left ; width: auto;} td:nth-child(2) {text-align: left ; width: 100%}\n",
              "    .wandb-row { display: flex; flex-direction: row; flex-wrap: wrap; justify-content: flex-start; width: 100% }\n",
              "    .wandb-col { display: flex; flex-direction: column; flex-basis: 100%; flex: 1; padding: 10px; }\n",
              "    </style>\n",
              "<div class=\"wandb-row\"><div class=\"wandb-col\"><h3>Run history:</h3><br/><table class=\"wandb\"><tr><td>test_accuracy</td><td>▁▁▁▁▁▁▁▂▃▄▅▆▆▇█</td></tr><tr><td>test_similarity</td><td>▁▁▂▂▃▄▅▆▆▇▇████</td></tr><tr><td>train_loss</td><td>██▇▇▆▅▅▄▃▂▂▂▁▁▁</td></tr></table><br/></div><div class=\"wandb-col\"><h3>Run summary:</h3><br/><table class=\"wandb\"><tr><td>test_accuracy</td><td>0.37866</td></tr><tr><td>test_similarity</td><td>0.82663</td></tr><tr><td>train_loss</td><td>0.53518</td></tr></table><br/></div></div>"
            ]
          },
          "metadata": {}
        },
        {
          "output_type": "display_data",
          "data": {
            "text/plain": [
              "<IPython.core.display.HTML object>"
            ],
            "text/html": [
              " View run <strong style=\"color:#cdcd00\">sage-sweep-39</strong> at: <a href='https://wandb.ai/clroymustang/cs6910-assignment-3/runs/0pskhceb' target=\"_blank\">https://wandb.ai/clroymustang/cs6910-assignment-3/runs/0pskhceb</a><br/>Synced 4 W&B file(s), 0 media file(s), 0 artifact file(s) and 0 other file(s)"
            ]
          },
          "metadata": {}
        },
        {
          "output_type": "display_data",
          "data": {
            "text/plain": [
              "<IPython.core.display.HTML object>"
            ],
            "text/html": [
              "Find logs at: <code>./wandb/run-20230517_102011-0pskhceb/logs</code>"
            ]
          },
          "metadata": {}
        },
        {
          "output_type": "stream",
          "name": "stderr",
          "text": [
            "\u001b[34m\u001b[1mwandb\u001b[0m: Agent Starting Run: l0z72m7d with config:\n",
            "\u001b[34m\u001b[1mwandb\u001b[0m: \tbidir: False\n",
            "\u001b[34m\u001b[1mwandb\u001b[0m: \tcell_type: LSTM\n",
            "\u001b[34m\u001b[1mwandb\u001b[0m: \tdropout: 0.2\n",
            "\u001b[34m\u001b[1mwandb\u001b[0m: \tembedding_size: 32\n",
            "\u001b[34m\u001b[1mwandb\u001b[0m: \thl_size: 128\n",
            "\u001b[34m\u001b[1mwandb\u001b[0m: \tn_layers: 1\n"
          ]
        },
        {
          "output_type": "display_data",
          "data": {
            "text/plain": [
              "<IPython.core.display.HTML object>"
            ],
            "text/html": [
              "Tracking run with wandb version 0.15.2"
            ]
          },
          "metadata": {}
        },
        {
          "output_type": "display_data",
          "data": {
            "text/plain": [
              "<IPython.core.display.HTML object>"
            ],
            "text/html": [
              "Run data is saved locally in <code>/content/wandb/run-20230517_105848-l0z72m7d</code>"
            ]
          },
          "metadata": {}
        },
        {
          "output_type": "display_data",
          "data": {
            "text/plain": [
              "<IPython.core.display.HTML object>"
            ],
            "text/html": [
              "Syncing run <strong><a href='https://wandb.ai/clroymustang/cs6910-assignment-3/runs/l0z72m7d' target=\"_blank\">radiant-sweep-40</a></strong> to <a href='https://wandb.ai/clroymustang/cs6910-assignment-3' target=\"_blank\">Weights & Biases</a> (<a href='https://wandb.me/run' target=\"_blank\">docs</a>)<br/>Sweep page: <a href='https://wandb.ai/clroymustang/cs6910-assignment-3/sweeps/td3auwvp' target=\"_blank\">https://wandb.ai/clroymustang/cs6910-assignment-3/sweeps/td3auwvp</a>"
            ]
          },
          "metadata": {}
        },
        {
          "output_type": "display_data",
          "data": {
            "text/plain": [
              "<IPython.core.display.HTML object>"
            ],
            "text/html": [
              " View project at <a href='https://wandb.ai/clroymustang/cs6910-assignment-3' target=\"_blank\">https://wandb.ai/clroymustang/cs6910-assignment-3</a>"
            ]
          },
          "metadata": {}
        },
        {
          "output_type": "display_data",
          "data": {
            "text/plain": [
              "<IPython.core.display.HTML object>"
            ],
            "text/html": [
              " View sweep at <a href='https://wandb.ai/clroymustang/cs6910-assignment-3/sweeps/td3auwvp' target=\"_blank\">https://wandb.ai/clroymustang/cs6910-assignment-3/sweeps/td3auwvp</a>"
            ]
          },
          "metadata": {}
        },
        {
          "output_type": "display_data",
          "data": {
            "text/plain": [
              "<IPython.core.display.HTML object>"
            ],
            "text/html": [
              " View run at <a href='https://wandb.ai/clroymustang/cs6910-assignment-3/runs/l0z72m7d' target=\"_blank\">https://wandb.ai/clroymustang/cs6910-assignment-3/runs/l0z72m7d</a>"
            ]
          },
          "metadata": {}
        },
        {
          "output_type": "stream",
          "name": "stderr",
          "text": [
            "/usr/local/lib/python3.10/dist-packages/torch/nn/modules/rnn.py:71: UserWarning: dropout option adds dropout after all but last recurrent layer, so non-zero dropout expects num_layers greater than 1, but got dropout=0.2 and num_layers=1\n",
            "  warnings.warn(\"dropout option adds dropout after all but last \"\n"
          ]
        },
        {
          "output_type": "display_data",
          "data": {
            "text/plain": [
              "<IPython.core.display.HTML object>"
            ],
            "text/html": [
              "Waiting for W&B process to finish... <strong style=\"color:green\">(success).</strong>"
            ]
          },
          "metadata": {}
        },
        {
          "output_type": "display_data",
          "data": {
            "text/plain": [
              "VBox(children=(Label(value='0.001 MB of 0.001 MB uploaded (0.000 MB deduped)\\r'), FloatProgress(value=1.0, max…"
            ],
            "application/vnd.jupyter.widget-view+json": {
              "version_major": 2,
              "version_minor": 0,
              "model_id": "c2fa9188278441a1ab15b048a6981527"
            }
          },
          "metadata": {}
        },
        {
          "output_type": "display_data",
          "data": {
            "text/plain": [
              "<IPython.core.display.HTML object>"
            ],
            "text/html": [
              "<style>\n",
              "    table.wandb td:nth-child(1) { padding: 0 10px; text-align: left ; width: auto;} td:nth-child(2) {text-align: left ; width: 100%}\n",
              "    .wandb-row { display: flex; flex-direction: row; flex-wrap: wrap; justify-content: flex-start; width: 100% }\n",
              "    .wandb-col { display: flex; flex-direction: column; flex-basis: 100%; flex: 1; padding: 10px; }\n",
              "    </style>\n",
              "<div class=\"wandb-row\"><div class=\"wandb-col\"><h3>Run history:</h3><br/><table class=\"wandb\"><tr><td>test_accuracy</td><td>▁▁▁▁▁▁▂▂▄▅▆▆▇██</td></tr><tr><td>test_similarity</td><td>▁▂▂▂▃▄▅▆▆▇▇████</td></tr><tr><td>train_loss</td><td>█▇▇▇▆▅▄▄▃▃▂▂▁▁▁</td></tr></table><br/></div><div class=\"wandb-col\"><h3>Run summary:</h3><br/><table class=\"wandb\"><tr><td>test_accuracy</td><td>0.28247</td></tr><tr><td>test_similarity</td><td>0.77981</td></tr><tr><td>train_loss</td><td>0.72771</td></tr></table><br/></div></div>"
            ]
          },
          "metadata": {}
        },
        {
          "output_type": "display_data",
          "data": {
            "text/plain": [
              "<IPython.core.display.HTML object>"
            ],
            "text/html": [
              " View run <strong style=\"color:#cdcd00\">radiant-sweep-40</strong> at: <a href='https://wandb.ai/clroymustang/cs6910-assignment-3/runs/l0z72m7d' target=\"_blank\">https://wandb.ai/clroymustang/cs6910-assignment-3/runs/l0z72m7d</a><br/>Synced 5 W&B file(s), 0 media file(s), 0 artifact file(s) and 0 other file(s)"
            ]
          },
          "metadata": {}
        },
        {
          "output_type": "display_data",
          "data": {
            "text/plain": [
              "<IPython.core.display.HTML object>"
            ],
            "text/html": [
              "Find logs at: <code>./wandb/run-20230517_105848-l0z72m7d/logs</code>"
            ]
          },
          "metadata": {}
        },
        {
          "output_type": "stream",
          "name": "stderr",
          "text": [
            "\u001b[34m\u001b[1mwandb\u001b[0m: Agent Starting Run: 1lzq4zym with config:\n",
            "\u001b[34m\u001b[1mwandb\u001b[0m: \tbidir: False\n",
            "\u001b[34m\u001b[1mwandb\u001b[0m: \tcell_type: LSTM\n",
            "\u001b[34m\u001b[1mwandb\u001b[0m: \tdropout: 0.2\n",
            "\u001b[34m\u001b[1mwandb\u001b[0m: \tembedding_size: 32\n",
            "\u001b[34m\u001b[1mwandb\u001b[0m: \thl_size: 128\n",
            "\u001b[34m\u001b[1mwandb\u001b[0m: \tn_layers: 1\n"
          ]
        },
        {
          "output_type": "display_data",
          "data": {
            "text/plain": [
              "<IPython.core.display.HTML object>"
            ],
            "text/html": [
              "Tracking run with wandb version 0.15.2"
            ]
          },
          "metadata": {}
        },
        {
          "output_type": "display_data",
          "data": {
            "text/plain": [
              "<IPython.core.display.HTML object>"
            ],
            "text/html": [
              "Run data is saved locally in <code>/content/wandb/run-20230517_112948-1lzq4zym</code>"
            ]
          },
          "metadata": {}
        },
        {
          "output_type": "display_data",
          "data": {
            "text/plain": [
              "<IPython.core.display.HTML object>"
            ],
            "text/html": [
              "Syncing run <strong><a href='https://wandb.ai/clroymustang/cs6910-assignment-3/runs/1lzq4zym' target=\"_blank\">peachy-sweep-41</a></strong> to <a href='https://wandb.ai/clroymustang/cs6910-assignment-3' target=\"_blank\">Weights & Biases</a> (<a href='https://wandb.me/run' target=\"_blank\">docs</a>)<br/>Sweep page: <a href='https://wandb.ai/clroymustang/cs6910-assignment-3/sweeps/td3auwvp' target=\"_blank\">https://wandb.ai/clroymustang/cs6910-assignment-3/sweeps/td3auwvp</a>"
            ]
          },
          "metadata": {}
        },
        {
          "output_type": "display_data",
          "data": {
            "text/plain": [
              "<IPython.core.display.HTML object>"
            ],
            "text/html": [
              " View project at <a href='https://wandb.ai/clroymustang/cs6910-assignment-3' target=\"_blank\">https://wandb.ai/clroymustang/cs6910-assignment-3</a>"
            ]
          },
          "metadata": {}
        },
        {
          "output_type": "display_data",
          "data": {
            "text/plain": [
              "<IPython.core.display.HTML object>"
            ],
            "text/html": [
              " View sweep at <a href='https://wandb.ai/clroymustang/cs6910-assignment-3/sweeps/td3auwvp' target=\"_blank\">https://wandb.ai/clroymustang/cs6910-assignment-3/sweeps/td3auwvp</a>"
            ]
          },
          "metadata": {}
        },
        {
          "output_type": "display_data",
          "data": {
            "text/plain": [
              "<IPython.core.display.HTML object>"
            ],
            "text/html": [
              " View run at <a href='https://wandb.ai/clroymustang/cs6910-assignment-3/runs/1lzq4zym' target=\"_blank\">https://wandb.ai/clroymustang/cs6910-assignment-3/runs/1lzq4zym</a>"
            ]
          },
          "metadata": {}
        },
        {
          "output_type": "display_data",
          "data": {
            "text/plain": [
              "<IPython.core.display.HTML object>"
            ],
            "text/html": [
              "Waiting for W&B process to finish... <strong style=\"color:green\">(success).</strong>"
            ]
          },
          "metadata": {}
        },
        {
          "output_type": "display_data",
          "data": {
            "text/plain": [
              "VBox(children=(Label(value='0.002 MB of 0.009 MB uploaded (0.000 MB deduped)\\r'), FloatProgress(value=0.206949…"
            ],
            "application/vnd.jupyter.widget-view+json": {
              "version_major": 2,
              "version_minor": 0,
              "model_id": "8b05556bdb20442892d1e364d2117be5"
            }
          },
          "metadata": {}
        },
        {
          "output_type": "display_data",
          "data": {
            "text/plain": [
              "<IPython.core.display.HTML object>"
            ],
            "text/html": [
              "<style>\n",
              "    table.wandb td:nth-child(1) { padding: 0 10px; text-align: left ; width: auto;} td:nth-child(2) {text-align: left ; width: 100%}\n",
              "    .wandb-row { display: flex; flex-direction: row; flex-wrap: wrap; justify-content: flex-start; width: 100% }\n",
              "    .wandb-col { display: flex; flex-direction: column; flex-basis: 100%; flex: 1; padding: 10px; }\n",
              "    </style>\n",
              "<div class=\"wandb-row\"><div class=\"wandb-col\"><h3>Run history:</h3><br/><table class=\"wandb\"><tr><td>test_accuracy</td><td>▁▁▁▁▁▁▂▂▄▄▅▆▇██</td></tr><tr><td>test_similarity</td><td>▁▂▃▃▄▅▅▆▆▇▇▇███</td></tr><tr><td>train_loss</td><td>█▇▇▆▆▅▄▄▃▃▂▂▂▁▁</td></tr></table><br/></div><div class=\"wandb-col\"><h3>Run summary:</h3><br/><table class=\"wandb\"><tr><td>test_accuracy</td><td>0.30957</td></tr><tr><td>test_similarity</td><td>0.78346</td></tr><tr><td>train_loss</td><td>0.74343</td></tr></table><br/></div></div>"
            ]
          },
          "metadata": {}
        },
        {
          "output_type": "display_data",
          "data": {
            "text/plain": [
              "<IPython.core.display.HTML object>"
            ],
            "text/html": [
              " View run <strong style=\"color:#cdcd00\">peachy-sweep-41</strong> at: <a href='https://wandb.ai/clroymustang/cs6910-assignment-3/runs/1lzq4zym' target=\"_blank\">https://wandb.ai/clroymustang/cs6910-assignment-3/runs/1lzq4zym</a><br/>Synced 4 W&B file(s), 0 media file(s), 0 artifact file(s) and 0 other file(s)"
            ]
          },
          "metadata": {}
        },
        {
          "output_type": "display_data",
          "data": {
            "text/plain": [
              "<IPython.core.display.HTML object>"
            ],
            "text/html": [
              "Find logs at: <code>./wandb/run-20230517_112948-1lzq4zym/logs</code>"
            ]
          },
          "metadata": {}
        },
        {
          "output_type": "stream",
          "name": "stderr",
          "text": [
            "\u001b[34m\u001b[1mwandb\u001b[0m: Sweep Agent: Waiting for job.\n"
          ]
        }
      ],
      "source": [
        "wandb.agent(sweep_id, sweep, project = project_name)"
      ]
    },
    {
      "cell_type": "markdown",
      "source": [
        "tinkering"
      ],
      "metadata": {
        "id": "By9O3hoHDjzU"
      }
    },
    {
      "cell_type": "code",
      "source": [
        "def evaluate_with_beam_search(self, data, beam_size = 3):\n",
        "      for pair in data:\n",
        "        input = pair[0]\n",
        "        target = pair[1]\n",
        "\n",
        "        with torch.no_grad():\n",
        "          encoder_hidden = self.encoder.init_hidden()\n",
        "          encoder_c = self.encoder.init_hidden()\n",
        "\n",
        "          if self.bidir == True:\n",
        "            encoder_outputs = torch.zeros(self.max_length, 2*self.encoder.hl_size, device=device)\n",
        "          else:\n",
        "            encoder_outputs = torch.zeros(self.max_length, self.encoder.hl_size, device=device)\n",
        "\n",
        "          input_length = input.size(0)\n",
        "          for i in range(0, min(input_length, self.max_length)):\n",
        "            if self.cell_type != 'LSTM':\n",
        "              encoder_output, encoder_hidden = self.encoder.forward(input[i], encoder_hidden)\n",
        "              encoder_outputs[i] = encoder_output[0, 0]\n",
        "            else:\n",
        "              encoder_output, encoder_hidden, encoder_c = self.encoder.forward(input[i], encoder_hidden, encoder_c)\n",
        "              encoder_outputs[i] = encoder_output[0, 0]\n",
        "\n",
        "          decoder_input = torch.tensor([[start_token]], device=device)\n",
        "          decoder_hidden = encoder_hidden\n",
        "          decoder_c = encoder_c\n",
        "\n",
        "          possible_outputs = []\n",
        "          possible_hiddens = []\n",
        "          possible_probabilities = []\n",
        "\n",
        "          while True:\n",
        "            if len(possible_outputs) == 0:\n",
        "              if self.cell_type != 'LSTM':\n",
        "                decoder_output, decoder_hidden, decoder_attention = self.decoder.forward(decoder_input, decoder_hidden, encoder_outputs)\n",
        "              else:\n",
        "                decoder_output, decoder_hidden, decoder_c, decoder_attention = self.decoder.forward(decoder_input, decoder_hidden, encoder_outputs, decoder_c)\n",
        "              \n",
        "              values, indices = decoder_output.data.topk(beam_size)\n",
        "              \n",
        "\n",
        "\n",
        "          for i in range(0, self.max_length):\n",
        "            if self.cell_type != 'LSTM':\n",
        "              decoder_output, decoder_hidden, decoder_attention = self.decoder.forward(decoder_input, decoder_hidden, encoder_outputs)\n",
        "            else:\n",
        "              decoder_output, decoder_hidden, decoder_c, decoder_attention = self.decoder.forward(decoder_input, decoder_hidden, encoder_outputs, decoder_c)\n",
        "\n",
        "            values, indices = decoder_output.data.topk(beam_size)\n",
        "\n",
        "            decoder_input = index.squeeze().detach()\n",
        "            outputs.append(decoder_input.item())\n",
        "            if decoder_input.item() == end_token:\n",
        "              break\n",
        "\n",
        "          return outputs"
      ],
      "metadata": {
        "id": "5O4d2D4aDl9H"
      },
      "execution_count": null,
      "outputs": []
    }
  ],
  "metadata": {
    "accelerator": "GPU",
    "colab": {
      "provenance": [],
      "collapsed_sections": [
        "63vUwSCMWDMn"
      ],
      "include_colab_link": true
    },
    "gpuClass": "standard",
    "kernelspec": {
      "display_name": "Python 3",
      "name": "python3"
    },
    "language_info": {
      "name": "python"
    },
    "widgets": {
      "application/vnd.jupyter.widget-state+json": {
        "6d18ab10921447df8a1e4c6e0f46371b": {
          "model_module": "@jupyter-widgets/controls",
          "model_name": "VBoxModel",
          "model_module_version": "1.5.0",
          "state": {
            "_dom_classes": [],
            "_model_module": "@jupyter-widgets/controls",
            "_model_module_version": "1.5.0",
            "_model_name": "VBoxModel",
            "_view_count": null,
            "_view_module": "@jupyter-widgets/controls",
            "_view_module_version": "1.5.0",
            "_view_name": "VBoxView",
            "box_style": "",
            "children": [
              "IPY_MODEL_e28ecee177734fbfb10941396ffc9499",
              "IPY_MODEL_28aec72e3c384604aba68fb73b25049a"
            ],
            "layout": "IPY_MODEL_07108fda8c054c139586e02d97f766f6"
          }
        },
        "e28ecee177734fbfb10941396ffc9499": {
          "model_module": "@jupyter-widgets/controls",
          "model_name": "LabelModel",
          "model_module_version": "1.5.0",
          "state": {
            "_dom_classes": [],
            "_model_module": "@jupyter-widgets/controls",
            "_model_module_version": "1.5.0",
            "_model_name": "LabelModel",
            "_view_count": null,
            "_view_module": "@jupyter-widgets/controls",
            "_view_module_version": "1.5.0",
            "_view_name": "LabelView",
            "description": "",
            "description_tooltip": null,
            "layout": "IPY_MODEL_8fe1fa3b01b64e01993e5461db80032a",
            "placeholder": "​",
            "style": "IPY_MODEL_be6459b2ba5e40b5987fcebdac179fa7",
            "value": "Waiting for wandb.init()...\r"
          }
        },
        "28aec72e3c384604aba68fb73b25049a": {
          "model_module": "@jupyter-widgets/controls",
          "model_name": "FloatProgressModel",
          "model_module_version": "1.5.0",
          "state": {
            "_dom_classes": [],
            "_model_module": "@jupyter-widgets/controls",
            "_model_module_version": "1.5.0",
            "_model_name": "FloatProgressModel",
            "_view_count": null,
            "_view_module": "@jupyter-widgets/controls",
            "_view_module_version": "1.5.0",
            "_view_name": "ProgressView",
            "bar_style": "",
            "description": "",
            "description_tooltip": null,
            "layout": "IPY_MODEL_5d9d347f717e4ddfbaf6a99a0fe33756",
            "max": 1,
            "min": 0,
            "orientation": "horizontal",
            "style": "IPY_MODEL_1d5305268d4b431f98743c6a53ef10fd",
            "value": 1
          }
        },
        "07108fda8c054c139586e02d97f766f6": {
          "model_module": "@jupyter-widgets/base",
          "model_name": "LayoutModel",
          "model_module_version": "1.2.0",
          "state": {
            "_model_module": "@jupyter-widgets/base",
            "_model_module_version": "1.2.0",
            "_model_name": "LayoutModel",
            "_view_count": null,
            "_view_module": "@jupyter-widgets/base",
            "_view_module_version": "1.2.0",
            "_view_name": "LayoutView",
            "align_content": null,
            "align_items": null,
            "align_self": null,
            "border": null,
            "bottom": null,
            "display": null,
            "flex": null,
            "flex_flow": null,
            "grid_area": null,
            "grid_auto_columns": null,
            "grid_auto_flow": null,
            "grid_auto_rows": null,
            "grid_column": null,
            "grid_gap": null,
            "grid_row": null,
            "grid_template_areas": null,
            "grid_template_columns": null,
            "grid_template_rows": null,
            "height": null,
            "justify_content": null,
            "justify_items": null,
            "left": null,
            "margin": null,
            "max_height": null,
            "max_width": null,
            "min_height": null,
            "min_width": null,
            "object_fit": null,
            "object_position": null,
            "order": null,
            "overflow": null,
            "overflow_x": null,
            "overflow_y": null,
            "padding": null,
            "right": null,
            "top": null,
            "visibility": null,
            "width": null
          }
        },
        "8fe1fa3b01b64e01993e5461db80032a": {
          "model_module": "@jupyter-widgets/base",
          "model_name": "LayoutModel",
          "model_module_version": "1.2.0",
          "state": {
            "_model_module": "@jupyter-widgets/base",
            "_model_module_version": "1.2.0",
            "_model_name": "LayoutModel",
            "_view_count": null,
            "_view_module": "@jupyter-widgets/base",
            "_view_module_version": "1.2.0",
            "_view_name": "LayoutView",
            "align_content": null,
            "align_items": null,
            "align_self": null,
            "border": null,
            "bottom": null,
            "display": null,
            "flex": null,
            "flex_flow": null,
            "grid_area": null,
            "grid_auto_columns": null,
            "grid_auto_flow": null,
            "grid_auto_rows": null,
            "grid_column": null,
            "grid_gap": null,
            "grid_row": null,
            "grid_template_areas": null,
            "grid_template_columns": null,
            "grid_template_rows": null,
            "height": null,
            "justify_content": null,
            "justify_items": null,
            "left": null,
            "margin": null,
            "max_height": null,
            "max_width": null,
            "min_height": null,
            "min_width": null,
            "object_fit": null,
            "object_position": null,
            "order": null,
            "overflow": null,
            "overflow_x": null,
            "overflow_y": null,
            "padding": null,
            "right": null,
            "top": null,
            "visibility": null,
            "width": null
          }
        },
        "be6459b2ba5e40b5987fcebdac179fa7": {
          "model_module": "@jupyter-widgets/controls",
          "model_name": "DescriptionStyleModel",
          "model_module_version": "1.5.0",
          "state": {
            "_model_module": "@jupyter-widgets/controls",
            "_model_module_version": "1.5.0",
            "_model_name": "DescriptionStyleModel",
            "_view_count": null,
            "_view_module": "@jupyter-widgets/base",
            "_view_module_version": "1.2.0",
            "_view_name": "StyleView",
            "description_width": ""
          }
        },
        "5d9d347f717e4ddfbaf6a99a0fe33756": {
          "model_module": "@jupyter-widgets/base",
          "model_name": "LayoutModel",
          "model_module_version": "1.2.0",
          "state": {
            "_model_module": "@jupyter-widgets/base",
            "_model_module_version": "1.2.0",
            "_model_name": "LayoutModel",
            "_view_count": null,
            "_view_module": "@jupyter-widgets/base",
            "_view_module_version": "1.2.0",
            "_view_name": "LayoutView",
            "align_content": null,
            "align_items": null,
            "align_self": null,
            "border": null,
            "bottom": null,
            "display": null,
            "flex": null,
            "flex_flow": null,
            "grid_area": null,
            "grid_auto_columns": null,
            "grid_auto_flow": null,
            "grid_auto_rows": null,
            "grid_column": null,
            "grid_gap": null,
            "grid_row": null,
            "grid_template_areas": null,
            "grid_template_columns": null,
            "grid_template_rows": null,
            "height": null,
            "justify_content": null,
            "justify_items": null,
            "left": null,
            "margin": null,
            "max_height": null,
            "max_width": null,
            "min_height": null,
            "min_width": null,
            "object_fit": null,
            "object_position": null,
            "order": null,
            "overflow": null,
            "overflow_x": null,
            "overflow_y": null,
            "padding": null,
            "right": null,
            "top": null,
            "visibility": null,
            "width": null
          }
        },
        "1d5305268d4b431f98743c6a53ef10fd": {
          "model_module": "@jupyter-widgets/controls",
          "model_name": "ProgressStyleModel",
          "model_module_version": "1.5.0",
          "state": {
            "_model_module": "@jupyter-widgets/controls",
            "_model_module_version": "1.5.0",
            "_model_name": "ProgressStyleModel",
            "_view_count": null,
            "_view_module": "@jupyter-widgets/base",
            "_view_module_version": "1.2.0",
            "_view_name": "StyleView",
            "bar_color": null,
            "description_width": ""
          }
        },
        "9483b567ece9430aa02218fad8bb33c4": {
          "model_module": "@jupyter-widgets/controls",
          "model_name": "VBoxModel",
          "model_module_version": "1.5.0",
          "state": {
            "_dom_classes": [],
            "_model_module": "@jupyter-widgets/controls",
            "_model_module_version": "1.5.0",
            "_model_name": "VBoxModel",
            "_view_count": null,
            "_view_module": "@jupyter-widgets/controls",
            "_view_module_version": "1.5.0",
            "_view_name": "VBoxView",
            "box_style": "",
            "children": [
              "IPY_MODEL_b8d43aa272b4414f8e448afe5efe5d86",
              "IPY_MODEL_be02b749099d4f799f54e50c5dc5c5a4"
            ],
            "layout": "IPY_MODEL_cfef0a7f5cdd4356a31e4f6fe54cd1e3"
          }
        },
        "b8d43aa272b4414f8e448afe5efe5d86": {
          "model_module": "@jupyter-widgets/controls",
          "model_name": "LabelModel",
          "model_module_version": "1.5.0",
          "state": {
            "_dom_classes": [],
            "_model_module": "@jupyter-widgets/controls",
            "_model_module_version": "1.5.0",
            "_model_name": "LabelModel",
            "_view_count": null,
            "_view_module": "@jupyter-widgets/controls",
            "_view_module_version": "1.5.0",
            "_view_name": "LabelView",
            "description": "",
            "description_tooltip": null,
            "layout": "IPY_MODEL_67dbbba82c2f49e9bb0e979bee110a27",
            "placeholder": "​",
            "style": "IPY_MODEL_dd9046da6a7f4431b138f9620817c1d9",
            "value": "0.009 MB of 0.010 MB uploaded (0.000 MB deduped)\r"
          }
        },
        "be02b749099d4f799f54e50c5dc5c5a4": {
          "model_module": "@jupyter-widgets/controls",
          "model_name": "FloatProgressModel",
          "model_module_version": "1.5.0",
          "state": {
            "_dom_classes": [],
            "_model_module": "@jupyter-widgets/controls",
            "_model_module_version": "1.5.0",
            "_model_name": "FloatProgressModel",
            "_view_count": null,
            "_view_module": "@jupyter-widgets/controls",
            "_view_module_version": "1.5.0",
            "_view_name": "ProgressView",
            "bar_style": "",
            "description": "",
            "description_tooltip": null,
            "layout": "IPY_MODEL_5d3025dc8c054bd3b17bdc060e6a89a1",
            "max": 1,
            "min": 0,
            "orientation": "horizontal",
            "style": "IPY_MODEL_d6f5fbebdd7f4595b5c09925ef27787d",
            "value": 0.955477445811365
          }
        },
        "cfef0a7f5cdd4356a31e4f6fe54cd1e3": {
          "model_module": "@jupyter-widgets/base",
          "model_name": "LayoutModel",
          "model_module_version": "1.2.0",
          "state": {
            "_model_module": "@jupyter-widgets/base",
            "_model_module_version": "1.2.0",
            "_model_name": "LayoutModel",
            "_view_count": null,
            "_view_module": "@jupyter-widgets/base",
            "_view_module_version": "1.2.0",
            "_view_name": "LayoutView",
            "align_content": null,
            "align_items": null,
            "align_self": null,
            "border": null,
            "bottom": null,
            "display": null,
            "flex": null,
            "flex_flow": null,
            "grid_area": null,
            "grid_auto_columns": null,
            "grid_auto_flow": null,
            "grid_auto_rows": null,
            "grid_column": null,
            "grid_gap": null,
            "grid_row": null,
            "grid_template_areas": null,
            "grid_template_columns": null,
            "grid_template_rows": null,
            "height": null,
            "justify_content": null,
            "justify_items": null,
            "left": null,
            "margin": null,
            "max_height": null,
            "max_width": null,
            "min_height": null,
            "min_width": null,
            "object_fit": null,
            "object_position": null,
            "order": null,
            "overflow": null,
            "overflow_x": null,
            "overflow_y": null,
            "padding": null,
            "right": null,
            "top": null,
            "visibility": null,
            "width": null
          }
        },
        "67dbbba82c2f49e9bb0e979bee110a27": {
          "model_module": "@jupyter-widgets/base",
          "model_name": "LayoutModel",
          "model_module_version": "1.2.0",
          "state": {
            "_model_module": "@jupyter-widgets/base",
            "_model_module_version": "1.2.0",
            "_model_name": "LayoutModel",
            "_view_count": null,
            "_view_module": "@jupyter-widgets/base",
            "_view_module_version": "1.2.0",
            "_view_name": "LayoutView",
            "align_content": null,
            "align_items": null,
            "align_self": null,
            "border": null,
            "bottom": null,
            "display": null,
            "flex": null,
            "flex_flow": null,
            "grid_area": null,
            "grid_auto_columns": null,
            "grid_auto_flow": null,
            "grid_auto_rows": null,
            "grid_column": null,
            "grid_gap": null,
            "grid_row": null,
            "grid_template_areas": null,
            "grid_template_columns": null,
            "grid_template_rows": null,
            "height": null,
            "justify_content": null,
            "justify_items": null,
            "left": null,
            "margin": null,
            "max_height": null,
            "max_width": null,
            "min_height": null,
            "min_width": null,
            "object_fit": null,
            "object_position": null,
            "order": null,
            "overflow": null,
            "overflow_x": null,
            "overflow_y": null,
            "padding": null,
            "right": null,
            "top": null,
            "visibility": null,
            "width": null
          }
        },
        "dd9046da6a7f4431b138f9620817c1d9": {
          "model_module": "@jupyter-widgets/controls",
          "model_name": "DescriptionStyleModel",
          "model_module_version": "1.5.0",
          "state": {
            "_model_module": "@jupyter-widgets/controls",
            "_model_module_version": "1.5.0",
            "_model_name": "DescriptionStyleModel",
            "_view_count": null,
            "_view_module": "@jupyter-widgets/base",
            "_view_module_version": "1.2.0",
            "_view_name": "StyleView",
            "description_width": ""
          }
        },
        "5d3025dc8c054bd3b17bdc060e6a89a1": {
          "model_module": "@jupyter-widgets/base",
          "model_name": "LayoutModel",
          "model_module_version": "1.2.0",
          "state": {
            "_model_module": "@jupyter-widgets/base",
            "_model_module_version": "1.2.0",
            "_model_name": "LayoutModel",
            "_view_count": null,
            "_view_module": "@jupyter-widgets/base",
            "_view_module_version": "1.2.0",
            "_view_name": "LayoutView",
            "align_content": null,
            "align_items": null,
            "align_self": null,
            "border": null,
            "bottom": null,
            "display": null,
            "flex": null,
            "flex_flow": null,
            "grid_area": null,
            "grid_auto_columns": null,
            "grid_auto_flow": null,
            "grid_auto_rows": null,
            "grid_column": null,
            "grid_gap": null,
            "grid_row": null,
            "grid_template_areas": null,
            "grid_template_columns": null,
            "grid_template_rows": null,
            "height": null,
            "justify_content": null,
            "justify_items": null,
            "left": null,
            "margin": null,
            "max_height": null,
            "max_width": null,
            "min_height": null,
            "min_width": null,
            "object_fit": null,
            "object_position": null,
            "order": null,
            "overflow": null,
            "overflow_x": null,
            "overflow_y": null,
            "padding": null,
            "right": null,
            "top": null,
            "visibility": null,
            "width": null
          }
        },
        "d6f5fbebdd7f4595b5c09925ef27787d": {
          "model_module": "@jupyter-widgets/controls",
          "model_name": "ProgressStyleModel",
          "model_module_version": "1.5.0",
          "state": {
            "_model_module": "@jupyter-widgets/controls",
            "_model_module_version": "1.5.0",
            "_model_name": "ProgressStyleModel",
            "_view_count": null,
            "_view_module": "@jupyter-widgets/base",
            "_view_module_version": "1.2.0",
            "_view_name": "StyleView",
            "bar_color": null,
            "description_width": ""
          }
        },
        "889287eba9e44e858f46673a7b4fecb9": {
          "model_module": "@jupyter-widgets/controls",
          "model_name": "VBoxModel",
          "model_module_version": "1.5.0",
          "state": {
            "_dom_classes": [],
            "_model_module": "@jupyter-widgets/controls",
            "_model_module_version": "1.5.0",
            "_model_name": "VBoxModel",
            "_view_count": null,
            "_view_module": "@jupyter-widgets/controls",
            "_view_module_version": "1.5.0",
            "_view_name": "VBoxView",
            "box_style": "",
            "children": [
              "IPY_MODEL_6018f78e1ec749ce8c1cac269e60e99d",
              "IPY_MODEL_e3cbd03597f543789920ea33ba210c0e"
            ],
            "layout": "IPY_MODEL_594e935266584c85b3d0ff9446683c26"
          }
        },
        "6018f78e1ec749ce8c1cac269e60e99d": {
          "model_module": "@jupyter-widgets/controls",
          "model_name": "LabelModel",
          "model_module_version": "1.5.0",
          "state": {
            "_dom_classes": [],
            "_model_module": "@jupyter-widgets/controls",
            "_model_module_version": "1.5.0",
            "_model_name": "LabelModel",
            "_view_count": null,
            "_view_module": "@jupyter-widgets/controls",
            "_view_module_version": "1.5.0",
            "_view_name": "LabelView",
            "description": "",
            "description_tooltip": null,
            "layout": "IPY_MODEL_e82f371c2ba348fcaed9b860eee824cf",
            "placeholder": "​",
            "style": "IPY_MODEL_5a4fcf9285964546925c6dba4408706e",
            "value": "0.002 MB of 0.009 MB uploaded (0.000 MB deduped)\r"
          }
        },
        "e3cbd03597f543789920ea33ba210c0e": {
          "model_module": "@jupyter-widgets/controls",
          "model_name": "FloatProgressModel",
          "model_module_version": "1.5.0",
          "state": {
            "_dom_classes": [],
            "_model_module": "@jupyter-widgets/controls",
            "_model_module_version": "1.5.0",
            "_model_name": "FloatProgressModel",
            "_view_count": null,
            "_view_module": "@jupyter-widgets/controls",
            "_view_module_version": "1.5.0",
            "_view_name": "ProgressView",
            "bar_style": "",
            "description": "",
            "description_tooltip": null,
            "layout": "IPY_MODEL_a422c7e9f40b4f2db41a18db32c2498c",
            "max": 1,
            "min": 0,
            "orientation": "horizontal",
            "style": "IPY_MODEL_4094e78272f94d389505c57ce03e2955",
            "value": 0.20686835650040883
          }
        },
        "594e935266584c85b3d0ff9446683c26": {
          "model_module": "@jupyter-widgets/base",
          "model_name": "LayoutModel",
          "model_module_version": "1.2.0",
          "state": {
            "_model_module": "@jupyter-widgets/base",
            "_model_module_version": "1.2.0",
            "_model_name": "LayoutModel",
            "_view_count": null,
            "_view_module": "@jupyter-widgets/base",
            "_view_module_version": "1.2.0",
            "_view_name": "LayoutView",
            "align_content": null,
            "align_items": null,
            "align_self": null,
            "border": null,
            "bottom": null,
            "display": null,
            "flex": null,
            "flex_flow": null,
            "grid_area": null,
            "grid_auto_columns": null,
            "grid_auto_flow": null,
            "grid_auto_rows": null,
            "grid_column": null,
            "grid_gap": null,
            "grid_row": null,
            "grid_template_areas": null,
            "grid_template_columns": null,
            "grid_template_rows": null,
            "height": null,
            "justify_content": null,
            "justify_items": null,
            "left": null,
            "margin": null,
            "max_height": null,
            "max_width": null,
            "min_height": null,
            "min_width": null,
            "object_fit": null,
            "object_position": null,
            "order": null,
            "overflow": null,
            "overflow_x": null,
            "overflow_y": null,
            "padding": null,
            "right": null,
            "top": null,
            "visibility": null,
            "width": null
          }
        },
        "e82f371c2ba348fcaed9b860eee824cf": {
          "model_module": "@jupyter-widgets/base",
          "model_name": "LayoutModel",
          "model_module_version": "1.2.0",
          "state": {
            "_model_module": "@jupyter-widgets/base",
            "_model_module_version": "1.2.0",
            "_model_name": "LayoutModel",
            "_view_count": null,
            "_view_module": "@jupyter-widgets/base",
            "_view_module_version": "1.2.0",
            "_view_name": "LayoutView",
            "align_content": null,
            "align_items": null,
            "align_self": null,
            "border": null,
            "bottom": null,
            "display": null,
            "flex": null,
            "flex_flow": null,
            "grid_area": null,
            "grid_auto_columns": null,
            "grid_auto_flow": null,
            "grid_auto_rows": null,
            "grid_column": null,
            "grid_gap": null,
            "grid_row": null,
            "grid_template_areas": null,
            "grid_template_columns": null,
            "grid_template_rows": null,
            "height": null,
            "justify_content": null,
            "justify_items": null,
            "left": null,
            "margin": null,
            "max_height": null,
            "max_width": null,
            "min_height": null,
            "min_width": null,
            "object_fit": null,
            "object_position": null,
            "order": null,
            "overflow": null,
            "overflow_x": null,
            "overflow_y": null,
            "padding": null,
            "right": null,
            "top": null,
            "visibility": null,
            "width": null
          }
        },
        "5a4fcf9285964546925c6dba4408706e": {
          "model_module": "@jupyter-widgets/controls",
          "model_name": "DescriptionStyleModel",
          "model_module_version": "1.5.0",
          "state": {
            "_model_module": "@jupyter-widgets/controls",
            "_model_module_version": "1.5.0",
            "_model_name": "DescriptionStyleModel",
            "_view_count": null,
            "_view_module": "@jupyter-widgets/base",
            "_view_module_version": "1.2.0",
            "_view_name": "StyleView",
            "description_width": ""
          }
        },
        "a422c7e9f40b4f2db41a18db32c2498c": {
          "model_module": "@jupyter-widgets/base",
          "model_name": "LayoutModel",
          "model_module_version": "1.2.0",
          "state": {
            "_model_module": "@jupyter-widgets/base",
            "_model_module_version": "1.2.0",
            "_model_name": "LayoutModel",
            "_view_count": null,
            "_view_module": "@jupyter-widgets/base",
            "_view_module_version": "1.2.0",
            "_view_name": "LayoutView",
            "align_content": null,
            "align_items": null,
            "align_self": null,
            "border": null,
            "bottom": null,
            "display": null,
            "flex": null,
            "flex_flow": null,
            "grid_area": null,
            "grid_auto_columns": null,
            "grid_auto_flow": null,
            "grid_auto_rows": null,
            "grid_column": null,
            "grid_gap": null,
            "grid_row": null,
            "grid_template_areas": null,
            "grid_template_columns": null,
            "grid_template_rows": null,
            "height": null,
            "justify_content": null,
            "justify_items": null,
            "left": null,
            "margin": null,
            "max_height": null,
            "max_width": null,
            "min_height": null,
            "min_width": null,
            "object_fit": null,
            "object_position": null,
            "order": null,
            "overflow": null,
            "overflow_x": null,
            "overflow_y": null,
            "padding": null,
            "right": null,
            "top": null,
            "visibility": null,
            "width": null
          }
        },
        "4094e78272f94d389505c57ce03e2955": {
          "model_module": "@jupyter-widgets/controls",
          "model_name": "ProgressStyleModel",
          "model_module_version": "1.5.0",
          "state": {
            "_model_module": "@jupyter-widgets/controls",
            "_model_module_version": "1.5.0",
            "_model_name": "ProgressStyleModel",
            "_view_count": null,
            "_view_module": "@jupyter-widgets/base",
            "_view_module_version": "1.2.0",
            "_view_name": "StyleView",
            "bar_color": null,
            "description_width": ""
          }
        },
        "f26676f98a1142fc9473de33ec1b56af": {
          "model_module": "@jupyter-widgets/controls",
          "model_name": "VBoxModel",
          "model_module_version": "1.5.0",
          "state": {
            "_dom_classes": [],
            "_model_module": "@jupyter-widgets/controls",
            "_model_module_version": "1.5.0",
            "_model_name": "VBoxModel",
            "_view_count": null,
            "_view_module": "@jupyter-widgets/controls",
            "_view_module_version": "1.5.0",
            "_view_name": "VBoxView",
            "box_style": "",
            "children": [
              "IPY_MODEL_bfb5d7b66c9b4674b2ac9b746c4df3b1",
              "IPY_MODEL_4d3c1e0174c14823becbd3b35e05a882"
            ],
            "layout": "IPY_MODEL_cd3a5798a3854273b02233cee3452ee5"
          }
        },
        "bfb5d7b66c9b4674b2ac9b746c4df3b1": {
          "model_module": "@jupyter-widgets/controls",
          "model_name": "LabelModel",
          "model_module_version": "1.5.0",
          "state": {
            "_dom_classes": [],
            "_model_module": "@jupyter-widgets/controls",
            "_model_module_version": "1.5.0",
            "_model_name": "LabelModel",
            "_view_count": null,
            "_view_module": "@jupyter-widgets/controls",
            "_view_module_version": "1.5.0",
            "_view_name": "LabelView",
            "description": "",
            "description_tooltip": null,
            "layout": "IPY_MODEL_b065c13d40434f51ac566d15cf149334",
            "placeholder": "​",
            "style": "IPY_MODEL_5024f147f6484734af4116b9f2546bd2",
            "value": "0.001 MB of 0.009 MB uploaded (0.000 MB deduped)\r"
          }
        },
        "4d3c1e0174c14823becbd3b35e05a882": {
          "model_module": "@jupyter-widgets/controls",
          "model_name": "FloatProgressModel",
          "model_module_version": "1.5.0",
          "state": {
            "_dom_classes": [],
            "_model_module": "@jupyter-widgets/controls",
            "_model_module_version": "1.5.0",
            "_model_name": "FloatProgressModel",
            "_view_count": null,
            "_view_module": "@jupyter-widgets/controls",
            "_view_module_version": "1.5.0",
            "_view_name": "ProgressView",
            "bar_style": "",
            "description": "",
            "description_tooltip": null,
            "layout": "IPY_MODEL_f07c0be46fd8458abcc88107436c8975",
            "max": 1,
            "min": 0,
            "orientation": "horizontal",
            "style": "IPY_MODEL_d4a2a6a09f5246a78e031d53525c98fc",
            "value": 0.1216173858530979
          }
        },
        "cd3a5798a3854273b02233cee3452ee5": {
          "model_module": "@jupyter-widgets/base",
          "model_name": "LayoutModel",
          "model_module_version": "1.2.0",
          "state": {
            "_model_module": "@jupyter-widgets/base",
            "_model_module_version": "1.2.0",
            "_model_name": "LayoutModel",
            "_view_count": null,
            "_view_module": "@jupyter-widgets/base",
            "_view_module_version": "1.2.0",
            "_view_name": "LayoutView",
            "align_content": null,
            "align_items": null,
            "align_self": null,
            "border": null,
            "bottom": null,
            "display": null,
            "flex": null,
            "flex_flow": null,
            "grid_area": null,
            "grid_auto_columns": null,
            "grid_auto_flow": null,
            "grid_auto_rows": null,
            "grid_column": null,
            "grid_gap": null,
            "grid_row": null,
            "grid_template_areas": null,
            "grid_template_columns": null,
            "grid_template_rows": null,
            "height": null,
            "justify_content": null,
            "justify_items": null,
            "left": null,
            "margin": null,
            "max_height": null,
            "max_width": null,
            "min_height": null,
            "min_width": null,
            "object_fit": null,
            "object_position": null,
            "order": null,
            "overflow": null,
            "overflow_x": null,
            "overflow_y": null,
            "padding": null,
            "right": null,
            "top": null,
            "visibility": null,
            "width": null
          }
        },
        "b065c13d40434f51ac566d15cf149334": {
          "model_module": "@jupyter-widgets/base",
          "model_name": "LayoutModel",
          "model_module_version": "1.2.0",
          "state": {
            "_model_module": "@jupyter-widgets/base",
            "_model_module_version": "1.2.0",
            "_model_name": "LayoutModel",
            "_view_count": null,
            "_view_module": "@jupyter-widgets/base",
            "_view_module_version": "1.2.0",
            "_view_name": "LayoutView",
            "align_content": null,
            "align_items": null,
            "align_self": null,
            "border": null,
            "bottom": null,
            "display": null,
            "flex": null,
            "flex_flow": null,
            "grid_area": null,
            "grid_auto_columns": null,
            "grid_auto_flow": null,
            "grid_auto_rows": null,
            "grid_column": null,
            "grid_gap": null,
            "grid_row": null,
            "grid_template_areas": null,
            "grid_template_columns": null,
            "grid_template_rows": null,
            "height": null,
            "justify_content": null,
            "justify_items": null,
            "left": null,
            "margin": null,
            "max_height": null,
            "max_width": null,
            "min_height": null,
            "min_width": null,
            "object_fit": null,
            "object_position": null,
            "order": null,
            "overflow": null,
            "overflow_x": null,
            "overflow_y": null,
            "padding": null,
            "right": null,
            "top": null,
            "visibility": null,
            "width": null
          }
        },
        "5024f147f6484734af4116b9f2546bd2": {
          "model_module": "@jupyter-widgets/controls",
          "model_name": "DescriptionStyleModel",
          "model_module_version": "1.5.0",
          "state": {
            "_model_module": "@jupyter-widgets/controls",
            "_model_module_version": "1.5.0",
            "_model_name": "DescriptionStyleModel",
            "_view_count": null,
            "_view_module": "@jupyter-widgets/base",
            "_view_module_version": "1.2.0",
            "_view_name": "StyleView",
            "description_width": ""
          }
        },
        "f07c0be46fd8458abcc88107436c8975": {
          "model_module": "@jupyter-widgets/base",
          "model_name": "LayoutModel",
          "model_module_version": "1.2.0",
          "state": {
            "_model_module": "@jupyter-widgets/base",
            "_model_module_version": "1.2.0",
            "_model_name": "LayoutModel",
            "_view_count": null,
            "_view_module": "@jupyter-widgets/base",
            "_view_module_version": "1.2.0",
            "_view_name": "LayoutView",
            "align_content": null,
            "align_items": null,
            "align_self": null,
            "border": null,
            "bottom": null,
            "display": null,
            "flex": null,
            "flex_flow": null,
            "grid_area": null,
            "grid_auto_columns": null,
            "grid_auto_flow": null,
            "grid_auto_rows": null,
            "grid_column": null,
            "grid_gap": null,
            "grid_row": null,
            "grid_template_areas": null,
            "grid_template_columns": null,
            "grid_template_rows": null,
            "height": null,
            "justify_content": null,
            "justify_items": null,
            "left": null,
            "margin": null,
            "max_height": null,
            "max_width": null,
            "min_height": null,
            "min_width": null,
            "object_fit": null,
            "object_position": null,
            "order": null,
            "overflow": null,
            "overflow_x": null,
            "overflow_y": null,
            "padding": null,
            "right": null,
            "top": null,
            "visibility": null,
            "width": null
          }
        },
        "d4a2a6a09f5246a78e031d53525c98fc": {
          "model_module": "@jupyter-widgets/controls",
          "model_name": "ProgressStyleModel",
          "model_module_version": "1.5.0",
          "state": {
            "_model_module": "@jupyter-widgets/controls",
            "_model_module_version": "1.5.0",
            "_model_name": "ProgressStyleModel",
            "_view_count": null,
            "_view_module": "@jupyter-widgets/base",
            "_view_module_version": "1.2.0",
            "_view_name": "StyleView",
            "bar_color": null,
            "description_width": ""
          }
        },
        "c2fa9188278441a1ab15b048a6981527": {
          "model_module": "@jupyter-widgets/controls",
          "model_name": "VBoxModel",
          "model_module_version": "1.5.0",
          "state": {
            "_dom_classes": [],
            "_model_module": "@jupyter-widgets/controls",
            "_model_module_version": "1.5.0",
            "_model_name": "VBoxModel",
            "_view_count": null,
            "_view_module": "@jupyter-widgets/controls",
            "_view_module_version": "1.5.0",
            "_view_name": "VBoxView",
            "box_style": "",
            "children": [
              "IPY_MODEL_402ef79b0e4743daa2070b573d72f08d",
              "IPY_MODEL_3e59bc9ddc7546c8b230f94e7b382a2d"
            ],
            "layout": "IPY_MODEL_7fa5e5819ab94cfd9f6cc7f2b49c28c0"
          }
        },
        "402ef79b0e4743daa2070b573d72f08d": {
          "model_module": "@jupyter-widgets/controls",
          "model_name": "LabelModel",
          "model_module_version": "1.5.0",
          "state": {
            "_dom_classes": [],
            "_model_module": "@jupyter-widgets/controls",
            "_model_module_version": "1.5.0",
            "_model_name": "LabelModel",
            "_view_count": null,
            "_view_module": "@jupyter-widgets/controls",
            "_view_module_version": "1.5.0",
            "_view_name": "LabelView",
            "description": "",
            "description_tooltip": null,
            "layout": "IPY_MODEL_02e6f9a973d440eab657dc29ca95037e",
            "placeholder": "​",
            "style": "IPY_MODEL_e00dc75c9c3c4af99cbfd9420ff6c8c1",
            "value": "0.010 MB of 0.010 MB uploaded (0.000 MB deduped)\r"
          }
        },
        "3e59bc9ddc7546c8b230f94e7b382a2d": {
          "model_module": "@jupyter-widgets/controls",
          "model_name": "FloatProgressModel",
          "model_module_version": "1.5.0",
          "state": {
            "_dom_classes": [],
            "_model_module": "@jupyter-widgets/controls",
            "_model_module_version": "1.5.0",
            "_model_name": "FloatProgressModel",
            "_view_count": null,
            "_view_module": "@jupyter-widgets/controls",
            "_view_module_version": "1.5.0",
            "_view_name": "ProgressView",
            "bar_style": "",
            "description": "",
            "description_tooltip": null,
            "layout": "IPY_MODEL_446b9f914338476584a05970f04660bb",
            "max": 1,
            "min": 0,
            "orientation": "horizontal",
            "style": "IPY_MODEL_8df05f24bed147909084c0d6e32fa675",
            "value": 1
          }
        },
        "7fa5e5819ab94cfd9f6cc7f2b49c28c0": {
          "model_module": "@jupyter-widgets/base",
          "model_name": "LayoutModel",
          "model_module_version": "1.2.0",
          "state": {
            "_model_module": "@jupyter-widgets/base",
            "_model_module_version": "1.2.0",
            "_model_name": "LayoutModel",
            "_view_count": null,
            "_view_module": "@jupyter-widgets/base",
            "_view_module_version": "1.2.0",
            "_view_name": "LayoutView",
            "align_content": null,
            "align_items": null,
            "align_self": null,
            "border": null,
            "bottom": null,
            "display": null,
            "flex": null,
            "flex_flow": null,
            "grid_area": null,
            "grid_auto_columns": null,
            "grid_auto_flow": null,
            "grid_auto_rows": null,
            "grid_column": null,
            "grid_gap": null,
            "grid_row": null,
            "grid_template_areas": null,
            "grid_template_columns": null,
            "grid_template_rows": null,
            "height": null,
            "justify_content": null,
            "justify_items": null,
            "left": null,
            "margin": null,
            "max_height": null,
            "max_width": null,
            "min_height": null,
            "min_width": null,
            "object_fit": null,
            "object_position": null,
            "order": null,
            "overflow": null,
            "overflow_x": null,
            "overflow_y": null,
            "padding": null,
            "right": null,
            "top": null,
            "visibility": null,
            "width": null
          }
        },
        "02e6f9a973d440eab657dc29ca95037e": {
          "model_module": "@jupyter-widgets/base",
          "model_name": "LayoutModel",
          "model_module_version": "1.2.0",
          "state": {
            "_model_module": "@jupyter-widgets/base",
            "_model_module_version": "1.2.0",
            "_model_name": "LayoutModel",
            "_view_count": null,
            "_view_module": "@jupyter-widgets/base",
            "_view_module_version": "1.2.0",
            "_view_name": "LayoutView",
            "align_content": null,
            "align_items": null,
            "align_self": null,
            "border": null,
            "bottom": null,
            "display": null,
            "flex": null,
            "flex_flow": null,
            "grid_area": null,
            "grid_auto_columns": null,
            "grid_auto_flow": null,
            "grid_auto_rows": null,
            "grid_column": null,
            "grid_gap": null,
            "grid_row": null,
            "grid_template_areas": null,
            "grid_template_columns": null,
            "grid_template_rows": null,
            "height": null,
            "justify_content": null,
            "justify_items": null,
            "left": null,
            "margin": null,
            "max_height": null,
            "max_width": null,
            "min_height": null,
            "min_width": null,
            "object_fit": null,
            "object_position": null,
            "order": null,
            "overflow": null,
            "overflow_x": null,
            "overflow_y": null,
            "padding": null,
            "right": null,
            "top": null,
            "visibility": null,
            "width": null
          }
        },
        "e00dc75c9c3c4af99cbfd9420ff6c8c1": {
          "model_module": "@jupyter-widgets/controls",
          "model_name": "DescriptionStyleModel",
          "model_module_version": "1.5.0",
          "state": {
            "_model_module": "@jupyter-widgets/controls",
            "_model_module_version": "1.5.0",
            "_model_name": "DescriptionStyleModel",
            "_view_count": null,
            "_view_module": "@jupyter-widgets/base",
            "_view_module_version": "1.2.0",
            "_view_name": "StyleView",
            "description_width": ""
          }
        },
        "446b9f914338476584a05970f04660bb": {
          "model_module": "@jupyter-widgets/base",
          "model_name": "LayoutModel",
          "model_module_version": "1.2.0",
          "state": {
            "_model_module": "@jupyter-widgets/base",
            "_model_module_version": "1.2.0",
            "_model_name": "LayoutModel",
            "_view_count": null,
            "_view_module": "@jupyter-widgets/base",
            "_view_module_version": "1.2.0",
            "_view_name": "LayoutView",
            "align_content": null,
            "align_items": null,
            "align_self": null,
            "border": null,
            "bottom": null,
            "display": null,
            "flex": null,
            "flex_flow": null,
            "grid_area": null,
            "grid_auto_columns": null,
            "grid_auto_flow": null,
            "grid_auto_rows": null,
            "grid_column": null,
            "grid_gap": null,
            "grid_row": null,
            "grid_template_areas": null,
            "grid_template_columns": null,
            "grid_template_rows": null,
            "height": null,
            "justify_content": null,
            "justify_items": null,
            "left": null,
            "margin": null,
            "max_height": null,
            "max_width": null,
            "min_height": null,
            "min_width": null,
            "object_fit": null,
            "object_position": null,
            "order": null,
            "overflow": null,
            "overflow_x": null,
            "overflow_y": null,
            "padding": null,
            "right": null,
            "top": null,
            "visibility": null,
            "width": null
          }
        },
        "8df05f24bed147909084c0d6e32fa675": {
          "model_module": "@jupyter-widgets/controls",
          "model_name": "ProgressStyleModel",
          "model_module_version": "1.5.0",
          "state": {
            "_model_module": "@jupyter-widgets/controls",
            "_model_module_version": "1.5.0",
            "_model_name": "ProgressStyleModel",
            "_view_count": null,
            "_view_module": "@jupyter-widgets/base",
            "_view_module_version": "1.2.0",
            "_view_name": "StyleView",
            "bar_color": null,
            "description_width": ""
          }
        },
        "8b05556bdb20442892d1e364d2117be5": {
          "model_module": "@jupyter-widgets/controls",
          "model_name": "VBoxModel",
          "model_module_version": "1.5.0",
          "state": {
            "_dom_classes": [],
            "_model_module": "@jupyter-widgets/controls",
            "_model_module_version": "1.5.0",
            "_model_name": "VBoxModel",
            "_view_count": null,
            "_view_module": "@jupyter-widgets/controls",
            "_view_module_version": "1.5.0",
            "_view_name": "VBoxView",
            "box_style": "",
            "children": [
              "IPY_MODEL_b288930d25ea4417bb8845e28e4779f1",
              "IPY_MODEL_30498cfac9a640be97682430c20c36b0"
            ],
            "layout": "IPY_MODEL_4a3d3bc92bc24c75858be6b5294ea078"
          }
        },
        "b288930d25ea4417bb8845e28e4779f1": {
          "model_module": "@jupyter-widgets/controls",
          "model_name": "LabelModel",
          "model_module_version": "1.5.0",
          "state": {
            "_dom_classes": [],
            "_model_module": "@jupyter-widgets/controls",
            "_model_module_version": "1.5.0",
            "_model_name": "LabelModel",
            "_view_count": null,
            "_view_module": "@jupyter-widgets/controls",
            "_view_module_version": "1.5.0",
            "_view_name": "LabelView",
            "description": "",
            "description_tooltip": null,
            "layout": "IPY_MODEL_44214aab402d4442845c84f8f51de4f0",
            "placeholder": "​",
            "style": "IPY_MODEL_4dcfd26598184d128a1983d4ce965a78",
            "value": "0.002 MB of 0.009 MB uploaded (0.000 MB deduped)\r"
          }
        },
        "30498cfac9a640be97682430c20c36b0": {
          "model_module": "@jupyter-widgets/controls",
          "model_name": "FloatProgressModel",
          "model_module_version": "1.5.0",
          "state": {
            "_dom_classes": [],
            "_model_module": "@jupyter-widgets/controls",
            "_model_module_version": "1.5.0",
            "_model_name": "FloatProgressModel",
            "_view_count": null,
            "_view_module": "@jupyter-widgets/controls",
            "_view_module_version": "1.5.0",
            "_view_name": "ProgressView",
            "bar_style": "",
            "description": "",
            "description_tooltip": null,
            "layout": "IPY_MODEL_c0337afad9b2465a831217cd645e9f09",
            "max": 1,
            "min": 0,
            "orientation": "horizontal",
            "style": "IPY_MODEL_e2f1e7eb9f694efa9067a23a38e1a9fc",
            "value": 0.20694941236586611
          }
        },
        "4a3d3bc92bc24c75858be6b5294ea078": {
          "model_module": "@jupyter-widgets/base",
          "model_name": "LayoutModel",
          "model_module_version": "1.2.0",
          "state": {
            "_model_module": "@jupyter-widgets/base",
            "_model_module_version": "1.2.0",
            "_model_name": "LayoutModel",
            "_view_count": null,
            "_view_module": "@jupyter-widgets/base",
            "_view_module_version": "1.2.0",
            "_view_name": "LayoutView",
            "align_content": null,
            "align_items": null,
            "align_self": null,
            "border": null,
            "bottom": null,
            "display": null,
            "flex": null,
            "flex_flow": null,
            "grid_area": null,
            "grid_auto_columns": null,
            "grid_auto_flow": null,
            "grid_auto_rows": null,
            "grid_column": null,
            "grid_gap": null,
            "grid_row": null,
            "grid_template_areas": null,
            "grid_template_columns": null,
            "grid_template_rows": null,
            "height": null,
            "justify_content": null,
            "justify_items": null,
            "left": null,
            "margin": null,
            "max_height": null,
            "max_width": null,
            "min_height": null,
            "min_width": null,
            "object_fit": null,
            "object_position": null,
            "order": null,
            "overflow": null,
            "overflow_x": null,
            "overflow_y": null,
            "padding": null,
            "right": null,
            "top": null,
            "visibility": null,
            "width": null
          }
        },
        "44214aab402d4442845c84f8f51de4f0": {
          "model_module": "@jupyter-widgets/base",
          "model_name": "LayoutModel",
          "model_module_version": "1.2.0",
          "state": {
            "_model_module": "@jupyter-widgets/base",
            "_model_module_version": "1.2.0",
            "_model_name": "LayoutModel",
            "_view_count": null,
            "_view_module": "@jupyter-widgets/base",
            "_view_module_version": "1.2.0",
            "_view_name": "LayoutView",
            "align_content": null,
            "align_items": null,
            "align_self": null,
            "border": null,
            "bottom": null,
            "display": null,
            "flex": null,
            "flex_flow": null,
            "grid_area": null,
            "grid_auto_columns": null,
            "grid_auto_flow": null,
            "grid_auto_rows": null,
            "grid_column": null,
            "grid_gap": null,
            "grid_row": null,
            "grid_template_areas": null,
            "grid_template_columns": null,
            "grid_template_rows": null,
            "height": null,
            "justify_content": null,
            "justify_items": null,
            "left": null,
            "margin": null,
            "max_height": null,
            "max_width": null,
            "min_height": null,
            "min_width": null,
            "object_fit": null,
            "object_position": null,
            "order": null,
            "overflow": null,
            "overflow_x": null,
            "overflow_y": null,
            "padding": null,
            "right": null,
            "top": null,
            "visibility": null,
            "width": null
          }
        },
        "4dcfd26598184d128a1983d4ce965a78": {
          "model_module": "@jupyter-widgets/controls",
          "model_name": "DescriptionStyleModel",
          "model_module_version": "1.5.0",
          "state": {
            "_model_module": "@jupyter-widgets/controls",
            "_model_module_version": "1.5.0",
            "_model_name": "DescriptionStyleModel",
            "_view_count": null,
            "_view_module": "@jupyter-widgets/base",
            "_view_module_version": "1.2.0",
            "_view_name": "StyleView",
            "description_width": ""
          }
        },
        "c0337afad9b2465a831217cd645e9f09": {
          "model_module": "@jupyter-widgets/base",
          "model_name": "LayoutModel",
          "model_module_version": "1.2.0",
          "state": {
            "_model_module": "@jupyter-widgets/base",
            "_model_module_version": "1.2.0",
            "_model_name": "LayoutModel",
            "_view_count": null,
            "_view_module": "@jupyter-widgets/base",
            "_view_module_version": "1.2.0",
            "_view_name": "LayoutView",
            "align_content": null,
            "align_items": null,
            "align_self": null,
            "border": null,
            "bottom": null,
            "display": null,
            "flex": null,
            "flex_flow": null,
            "grid_area": null,
            "grid_auto_columns": null,
            "grid_auto_flow": null,
            "grid_auto_rows": null,
            "grid_column": null,
            "grid_gap": null,
            "grid_row": null,
            "grid_template_areas": null,
            "grid_template_columns": null,
            "grid_template_rows": null,
            "height": null,
            "justify_content": null,
            "justify_items": null,
            "left": null,
            "margin": null,
            "max_height": null,
            "max_width": null,
            "min_height": null,
            "min_width": null,
            "object_fit": null,
            "object_position": null,
            "order": null,
            "overflow": null,
            "overflow_x": null,
            "overflow_y": null,
            "padding": null,
            "right": null,
            "top": null,
            "visibility": null,
            "width": null
          }
        },
        "e2f1e7eb9f694efa9067a23a38e1a9fc": {
          "model_module": "@jupyter-widgets/controls",
          "model_name": "ProgressStyleModel",
          "model_module_version": "1.5.0",
          "state": {
            "_model_module": "@jupyter-widgets/controls",
            "_model_module_version": "1.5.0",
            "_model_name": "ProgressStyleModel",
            "_view_count": null,
            "_view_module": "@jupyter-widgets/base",
            "_view_module_version": "1.2.0",
            "_view_name": "StyleView",
            "bar_color": null,
            "description_width": ""
          }
        }
      }
    }
  },
  "nbformat": 4,
  "nbformat_minor": 0
}