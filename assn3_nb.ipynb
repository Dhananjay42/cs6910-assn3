{
  "cells": [
    {
      "cell_type": "markdown",
      "metadata": {
        "id": "view-in-github",
        "colab_type": "text"
      },
      "source": [
        "<a href=\"https://colab.research.google.com/github/Dhananjay42/cs6910-assn3/blob/main/assn3_nb.ipynb\" target=\"_parent\"><img src=\"https://colab.research.google.com/assets/colab-badge.svg\" alt=\"Open In Colab\"/></a>"
      ]
    },
    {
      "cell_type": "markdown",
      "metadata": {
        "id": "90nAoRsb0UqA"
      },
      "source": [
        "##CS6910: Assignment-3\n",
        "-- Submitted by Dhananjay Balakrishnan, ME19B012"
      ]
    },
    {
      "cell_type": "markdown",
      "metadata": {
        "id": "ixsJcIep0eUZ"
      },
      "source": [
        "##Setup and Loading the Dataset"
      ]
    },
    {
      "cell_type": "code",
      "execution_count": null,
      "metadata": {
        "colab": {
          "base_uri": "https://localhost:8080/"
        },
        "id": "cdw6pniAfp28",
        "outputId": "c5433b72-1659-45fc-8f9c-dad216e3916c"
      },
      "outputs": [
        {
          "output_type": "stream",
          "name": "stdout",
          "text": [
            "Looking in indexes: https://pypi.org/simple, https://us-python.pkg.dev/colab-wheels/public/simple/\n",
            "Collecting python-Levenshtein\n",
            "  Downloading python_Levenshtein-0.21.0-py3-none-any.whl (9.4 kB)\n",
            "Collecting Levenshtein==0.21.0 (from python-Levenshtein)\n",
            "  Downloading Levenshtein-0.21.0-cp310-cp310-manylinux_2_17_x86_64.manylinux2014_x86_64.whl (174 kB)\n",
            "\u001b[2K     \u001b[90m━━━━━━━━━━━━━━━━━━━━━━━━━━━━━━━━━━━━━━━\u001b[0m \u001b[32m174.1/174.1 kB\u001b[0m \u001b[31m8.6 MB/s\u001b[0m eta \u001b[36m0:00:00\u001b[0m\n",
            "\u001b[?25hCollecting rapidfuzz<4.0.0,>=2.3.0 (from Levenshtein==0.21.0->python-Levenshtein)\n",
            "  Downloading rapidfuzz-3.0.0-cp310-cp310-manylinux_2_17_x86_64.manylinux2014_x86_64.whl (3.0 MB)\n",
            "\u001b[2K     \u001b[90m━━━━━━━━━━━━━━━━━━━━━━━━━━━━━━━━━━━━━━━━\u001b[0m \u001b[32m3.0/3.0 MB\u001b[0m \u001b[31m75.7 MB/s\u001b[0m eta \u001b[36m0:00:00\u001b[0m\n",
            "\u001b[?25hInstalling collected packages: rapidfuzz, Levenshtein, python-Levenshtein\n",
            "Successfully installed Levenshtein-0.21.0 python-Levenshtein-0.21.0 rapidfuzz-3.0.0\n"
          ]
        }
      ],
      "source": [
        "!pip install python-Levenshtein"
      ]
    },
    {
      "cell_type": "code",
      "execution_count": null,
      "metadata": {
        "id": "AF-X9IyU3Kru"
      },
      "outputs": [],
      "source": [
        "import csv\n",
        "from __future__ import unicode_literals, print_function, division\n",
        "from io import open\n",
        "import unicodedata\n",
        "import string\n",
        "import re\n",
        "import random\n",
        "\n",
        "import torch\n",
        "import torch.nn as nn\n",
        "from torch import optim\n",
        "import torch.nn.functional as F\n",
        "\n",
        "device = torch.device(\"cuda\" if torch.cuda.is_available() else \"cpu\")\n",
        "import Levenshtein\n",
        "import math\n",
        "import pickle\n",
        "import numpy as np\n",
        "import copy\n",
        "import matplotlib.pyplot as plt\n",
        "import seaborn as sns\n",
        "import random"
      ]
    },
    {
      "cell_type": "code",
      "execution_count": null,
      "metadata": {
        "colab": {
          "base_uri": "https://localhost:8080/"
        },
        "id": "UVnNtzrR0pUt",
        "outputId": "e9bad216-15e8-4334-f37c-01f6b81876d6"
      },
      "outputs": [
        {
          "output_type": "stream",
          "name": "stdout",
          "text": [
            "Mounted at /content/gdrive/\n"
          ]
        }
      ],
      "source": [
        "from google.colab import drive\n",
        "drive.mount('/content/gdrive/')"
      ]
    },
    {
      "cell_type": "code",
      "execution_count": null,
      "metadata": {
        "id": "QUrlh1ep0bLk"
      },
      "outputs": [],
      "source": [
        "data_dir = '/content/gdrive/MyDrive/CS6910_A3/aksharantar_sampled/tam/'"
      ]
    },
    {
      "cell_type": "code",
      "execution_count": null,
      "metadata": {
        "id": "i2Dr1QDU0qGD"
      },
      "outputs": [],
      "source": [
        "def obtain_data(dir):\n",
        "  x = []\n",
        "  y = []\n",
        "\n",
        "  with open(dir, 'r') as file:\n",
        "    reader = csv.DictReader(file, fieldnames=['x', 'y'])\n",
        "  \n",
        "    for row in reader:\n",
        "      x.append(row['x'])\n",
        "      y.append(row['y'])\n",
        "    \n",
        "  return x, y"
      ]
    },
    {
      "cell_type": "code",
      "execution_count": null,
      "metadata": {
        "id": "faHyeHRY3lVl"
      },
      "outputs": [],
      "source": [
        "x_train, y_train = obtain_data(data_dir + 'tam_train.csv')\n",
        "x_test, y_test = obtain_data(data_dir + 'tam_test.csv')\n",
        "x_val, y_val = obtain_data(data_dir + 'tam_valid.csv')"
      ]
    },
    {
      "cell_type": "code",
      "execution_count": null,
      "metadata": {
        "id": "3ya5oC143xZ8",
        "colab": {
          "base_uri": "https://localhost:8080/"
        },
        "outputId": "dba59296-cdf7-4e47-fd7b-842a7958887e"
      },
      "outputs": [
        {
          "output_type": "stream",
          "name": "stdout",
          "text": [
            "thottacharya தொட்டாச்சார்ய\n",
            "menmaithaan மென்மைதான்\n"
          ]
        }
      ],
      "source": [
        "for i in range(0, 2):\n",
        "  print(x_train[i], y_train[i])"
      ]
    },
    {
      "cell_type": "code",
      "execution_count": null,
      "metadata": {
        "id": "0s9Mght5EB7b"
      },
      "outputs": [],
      "source": [
        "start_token = 0\n",
        "end_token = 1"
      ]
    },
    {
      "cell_type": "code",
      "execution_count": null,
      "metadata": {
        "id": "KItsHUzs9zPP"
      },
      "outputs": [],
      "source": [
        "#First we define a Language class, which will be used to easily load our dataset.\n",
        "class Language:\n",
        "  def __init__(self, name):\n",
        "    self.name = name\n",
        "    self.char2index = {}\n",
        "    self.index2char = {0: \"SOS\", 1: \"EOS\", 2: \"unknown\"} #mapping from index to character\n",
        "    self.n_chars = 3  # Count SOS, EOS, and unknown. \n",
        "    self.max_size = 2 #to find the maximum length of the dataset we're training our model on\n",
        "\n",
        "  def update_vocab(self, x):\n",
        "    for word in x:\n",
        "      if len(word) + 2 > self.max_size:\n",
        "        self.max_size = len(word) + 2\n",
        "\n",
        "      for letter in word:\n",
        "        if letter not in self.char2index.keys():\n",
        "          self.char2index[letter] = self.n_chars\n",
        "          self.index2char[self.n_chars] = letter\n",
        "          self.n_chars = self.n_chars + 1\n",
        "  \n",
        "  def get_index(self, character):\n",
        "    if character in self.char2index.keys():\n",
        "      return self.char2index[character]\n",
        "    else:\n",
        "      return 2\n",
        "  \n",
        "  def get_character(self, index):\n",
        "    if index == 2:\n",
        "      return '$'\n",
        "    else:\n",
        "      return self.index2char[index]"
      ]
    },
    {
      "cell_type": "code",
      "execution_count": null,
      "metadata": {
        "id": "Dt5eia4S_tLQ"
      },
      "outputs": [],
      "source": [
        "english = Language('eng')\n",
        "tamil = Language('tam')"
      ]
    },
    {
      "cell_type": "code",
      "execution_count": null,
      "metadata": {
        "id": "OQBYGHJl_2fQ"
      },
      "outputs": [],
      "source": [
        "english.update_vocab(x_train)\n",
        "tamil.update_vocab(y_train)"
      ]
    },
    {
      "cell_type": "code",
      "execution_count": null,
      "metadata": {
        "id": "yCsWlmkwAlwC"
      },
      "outputs": [],
      "source": [
        "def encoded_word(language, word):\n",
        "  coded = [language.get_index(letter) for letter in word]\n",
        "  coded.append(end_token)\n",
        "  return coded\n",
        "\n",
        "def get_pairs(lang1, lang2, inputs, targets):\n",
        "  return [(torch.tensor(encoded_word(lang1, x), dtype=torch.long, device=device).view(-1, 1), torch.tensor(encoded_word(lang2, y), dtype=torch.long, device=device).view(-1, 1)) \n",
        "  for (x,y) in zip(inputs,targets)]\n",
        "\n",
        "def decoded_word(language, encoded_word):\n",
        "  if encoded_word[-1] == end_token:\n",
        "    encoded_word = encoded_word[:-1]\n",
        "\n",
        "  characters = [language.get_character(num) for num in encoded_word]\n",
        "  decoded = ''.join(characters)\n",
        "  return decoded"
      ]
    },
    {
      "cell_type": "code",
      "execution_count": null,
      "metadata": {
        "id": "4VDupcI8m3aS"
      },
      "outputs": [],
      "source": [
        "train_data = get_pairs(english, tamil, x_train, y_train)\n",
        "test_data = get_pairs(english, tamil, x_test, y_test)\n",
        "val_data = get_pairs(english, tamil, x_val, y_val)"
      ]
    },
    {
      "cell_type": "markdown",
      "metadata": {
        "id": "63vUwSCMWDMn"
      },
      "source": [
        "#RNN without Attention"
      ]
    },
    {
      "cell_type": "code",
      "execution_count": null,
      "metadata": {
        "id": "0zU4N_wh70Wc"
      },
      "outputs": [],
      "source": [
        "class Encoder(nn.Module):\n",
        "  def __init__(self, inp_vocab_size, embedding_size, n_layers, hl_size, dropout, cell_type, bidirectional):\n",
        "    super(Encoder, self).__init__()\n",
        "    self.vocab_size = inp_vocab_size\n",
        "    self.embedding_size = embedding_size\n",
        "    self.n_layers = n_layers\n",
        "    self.hl_size = hl_size\n",
        "    self.bidirectional = bidirectional\n",
        "    self.cell_type = cell_type\n",
        "    self.dropout = dropout\n",
        "\n",
        "    if cell_type == 'RNN':\n",
        "      self.cell = nn.RNN(self.embedding_size, self.hl_size, num_layers = self.n_layers, dropout = self.dropout, bidirectional = self.bidirectional).to(device)\n",
        "    elif cell_type == 'GRU':\n",
        "      self.cell = nn.GRU(self.embedding_size, self.hl_size, num_layers = self.n_layers, dropout = self.dropout, bidirectional = self.bidirectional).to(device)\n",
        "    elif cell_type == 'LSTM':\n",
        "      self.cell = nn.LSTM(self.embedding_size, self.hl_size, num_layers = self.n_layers, dropout = self.dropout, bidirectional = self.bidirectional).to(device)\n",
        "    else:\n",
        "      print('Wrong Cell Type.')\n",
        "      exit()\n",
        "    self.embedding_layer = nn.Embedding(self.vocab_size, self.embedding_size).to(device)\n",
        "  \n",
        "  def forward(self, input, hidden, c = 0):\n",
        "    embedded = self.embedding_layer(input).view(1, 1, -1)\n",
        "    if self.cell_type != 'LSTM':\n",
        "      output, hidden = self.cell(embedded, hidden)\n",
        "      \n",
        "      return output, hidden\n",
        "\n",
        "    else:\n",
        "      output, (hidden, c) = self.cell(embedded, (hidden, c))\n",
        "\n",
        "      return output, hidden, c\n",
        "  \n",
        "  def init_hidden(self):\n",
        "    if self.bidirectional:\n",
        "      return torch.zeros(self.n_layers*2, 1, self.hl_size, device = device)\n",
        "    else:\n",
        "      return torch.zeros(self.n_layers, 1, self.hl_size, device = device)"
      ]
    },
    {
      "cell_type": "code",
      "execution_count": null,
      "metadata": {
        "id": "FU3vbDoy1cm8"
      },
      "outputs": [],
      "source": [
        "class DecoderVanilla(nn.Module):\n",
        "  def __init__(self, out_vocab_size, embedding_size, n_layers, hl_size, dropout, cell_type, bidirectional):\n",
        "    super(DecoderVanilla, self).__init__()\n",
        "    self.vocab_size = out_vocab_size\n",
        "    self.embedding_size = embedding_size\n",
        "    self.n_layers = n_layers\n",
        "    self.hl_size = hl_size\n",
        "    self.softmax = nn.LogSoftmax(dim=1)\n",
        "    self.cell_type = cell_type\n",
        "    self.bidirectional = bidirectional\n",
        "    self.dropout = dropout\n",
        "\n",
        "    if self.bidirectional:\n",
        "      self.linear = nn.Linear(2*self.hl_size, self.vocab_size).to(device)\n",
        "    else:\n",
        "      self.linear = nn.Linear(self.hl_size, self.vocab_size).to(device)\n",
        "\n",
        "    if cell_type == 'RNN':\n",
        "      self.cell = nn.RNN(self.embedding_size, self.hl_size, num_layers = self.n_layers, dropout = self.dropout, bidirectional = self.bidirectional).to(device)\n",
        "    elif cell_type == 'GRU':\n",
        "      self.cell = nn.GRU(self.embedding_size, self.hl_size, num_layers = self.n_layers, dropout = self.dropout, bidirectional = self.bidirectional).to(device)\n",
        "    elif cell_type == 'LSTM':\n",
        "      self.cell = nn.LSTM(self.embedding_size, self.hl_size, num_layers = self.n_layers, dropout = self.dropout, bidirectional = self.bidirectional).to(device)\n",
        "    else:\n",
        "      print('Wrong Cell Type.')\n",
        "      exit()\n",
        "    \n",
        "    self.embedding_layer = nn.Embedding(self.vocab_size, self.embedding_size).to(device)\n",
        "  \n",
        "  def forward(self, input, hidden, c = 0):\n",
        "    embedded = self.embedding_layer(input).view(1, 1, -1)\n",
        "    output = F.relu(embedded)\n",
        "\n",
        "    if self.cell_type != 'LSTM':\n",
        "      output, hidden = self.cell(output, hidden)\n",
        "      output = self.linear(output[0])\n",
        "      output = self.softmax(output)\n",
        "      return output, hidden\n",
        "    else:\n",
        "      output, (hidden, c) = self.cell(output, (hidden, c))\n",
        "      output = self.linear(output[0])\n",
        "      output = self.softmax(output)\n",
        "      return output, hidden, c"
      ]
    },
    {
      "cell_type": "code",
      "source": [
        "class seq2seq_vanilla():\n",
        "  def __init__(self, inp_language, out_language, embedding_size, n_layers, hl_size, dropout = 0.2, cell_type = 'LSTM', lr = 0.01, teacher_forcing_ratio = 0.5,bidirectional_flag = False):\n",
        "    self.encoder = Encoder(inp_language.n_chars, embedding_size, n_layers, hl_size, dropout, cell_type, bidirectional = bidirectional_flag)\n",
        "    self.decoder = DecoderVanilla(out_language.n_chars, embedding_size, n_layers, hl_size, dropout, cell_type, bidirectional = bidirectional_flag)\n",
        "    self.lr = lr\n",
        "    self.teacher_forcing = teacher_forcing_ratio\n",
        "    self.max_length = out_language.max_size\n",
        "    self.cell_type = cell_type\n",
        "\n",
        "    self.encoder_optimizer = optim.SGD(self.encoder.parameters(), lr=self.lr)\n",
        "    self.decoder_optimizer = optim.SGD(self.decoder.parameters(), lr = self.lr)\n",
        "\n",
        "    self.loss_fn = nn.NLLLoss()\n",
        "\n",
        "  def train_step(self, input, target):\n",
        "    encoder_hidden = self.encoder.init_hidden()\n",
        "    encoder_c = self.encoder.init_hidden()\n",
        "\n",
        "    self.encoder_optimizer.zero_grad()\n",
        "    self.decoder_optimizer.zero_grad()\n",
        "\n",
        "    input_length = input.size(0)\n",
        "    target_length = target.size(0)\n",
        "\n",
        "    loss = 0\n",
        "\n",
        "    for i in range(0, input_length):\n",
        "      if self.cell_type != 'LSTM':\n",
        "        encoder_output, encoder_hidden = self.encoder.forward(input[i], encoder_hidden)\n",
        "      else:\n",
        "        encoder_output, encoder_hidden, encoder_c = self.encoder.forward(input[i], encoder_hidden, encoder_c)\n",
        "    \n",
        "    decoder_input = torch.tensor([[start_token]], device=device)\n",
        "\n",
        "    decoder_hidden = encoder_hidden\n",
        "    decoder_c = encoder_c\n",
        "\n",
        "    num = random.random()\n",
        "\n",
        "    if num < self.teacher_forcing:\n",
        "      #here, we use teacher forcing. \n",
        "      for j in range(0, target_length):\n",
        "        if self.cell_type != 'LSTM':\n",
        "          decoder_output, decoder_hidden = self.decoder.forward(decoder_input, decoder_hidden)\n",
        "        else:\n",
        "          decoder_output, decoder_hidden, decoder_c = self.decoder.forward(decoder_input, decoder_hidden, decoder_c)\n",
        "\n",
        "        loss = loss + self.loss_fn(decoder_output, target[j])\n",
        "        decoder_input = target[j]#.unsqueeze(0)\n",
        "\n",
        "    else:\n",
        "      #here, there is no teacher forcing. the predictions themselves are used. \n",
        "      for j in range(0, target_length):\n",
        "        if self.cell_type != 'LSTM':\n",
        "          decoder_output, decoder_hidden = self.decoder.forward(decoder_input, decoder_hidden)\n",
        "        else:\n",
        "          decoder_output, decoder_hidden, decoder_c = self.decoder.forward(decoder_input, decoder_hidden, decoder_c)\n",
        "\n",
        "        loss = loss + self.loss_fn(decoder_output, target[j])\n",
        "        value, index = decoder_output.topk(1)\n",
        "        decoder_input = index.squeeze().detach()\n",
        "        if decoder_input.item() == end_token:\n",
        "          break\n",
        "  \n",
        "    loss.backward()\n",
        "    self.encoder_optimizer.step()\n",
        "    self.decoder_optimizer.step()\n",
        "\n",
        "    return loss.item()/target_length\n",
        "  \n",
        "  def predict(self, input, target):\n",
        "    #here, we use the model to inference. \n",
        "    with torch.no_grad():\n",
        "      encoder_hidden = self.encoder.init_hidden()\n",
        "      encoder_c = self.encoder.init_hidden()\n",
        "\n",
        "      input_length = input.size(0)\n",
        "      for i in range(0, input_length):\n",
        "        if self.cell_type != 'LSTM':\n",
        "          encoder_output, encoder_hidden = self.encoder.forward(input[i], encoder_hidden)\n",
        "        else:\n",
        "          encoder_output, encoder_hidden, encoder_c = self.encoder.forward(input[i], encoder_hidden, encoder_c)\n",
        "\n",
        "      decoder_input = torch.tensor([[start_token]], device=device)\n",
        "      decoder_hidden = encoder_hidden\n",
        "      decoder_c = encoder_c\n",
        "\n",
        "      outputs = []\n",
        "      for i in range(0, self.max_length):\n",
        "        if self.cell_type != 'LSTM':\n",
        "          decoder_output, decoder_hidden = self.decoder.forward(decoder_input, decoder_hidden)\n",
        "        else:\n",
        "          decoder_output, decoder_hidden, decoder_c = self.decoder.forward(decoder_input, decoder_hidden, decoder_c)\n",
        "\n",
        "        value, index = decoder_output.data.topk(1)\n",
        "        decoder_input = index.squeeze().detach()\n",
        "        outputs.append(decoder_input.item())\n",
        "        if decoder_input.item() == end_token:\n",
        "          break\n",
        "\n",
        "      return outputs\n",
        "  \n",
        "  def predict_beam(self, input, beam_size):\n",
        "    #this is used to predict b outputs, where b is the beam size. \n",
        "    with torch.no_grad():\n",
        "      encoder_hidden = self.encoder.init_hidden()\n",
        "      encoder_c = self.encoder.init_hidden()\n",
        "\n",
        "      input_length = input.size(0)\n",
        "      for i in range(0, input_length):\n",
        "        if self.cell_type != 'LSTM':\n",
        "          encoder_output, encoder_hidden = self.encoder.forward(input[i], encoder_hidden)\n",
        "        else:\n",
        "          encoder_output, encoder_hidden, encoder_c = self.encoder.forward(input[i], encoder_hidden, encoder_c)\n",
        "\n",
        "      decoder_input = torch.tensor([[start_token]], device=device)\n",
        "      decoder_hidden = encoder_hidden\n",
        "      decoder_c = encoder_c\n",
        "\n",
        "      possible_outputs = [] #a list of lists containing the top \"beam_size\" set of the best possible outputs at an instance\n",
        "      next_inputs = [] #list containing the tensors that are to be fed as the next input\n",
        "      decoder_hiddens = [] #list containing the hidden values corresponding to the given outputs\n",
        "      decoder_cs = [] #list containing the cell states (in case we use an LSTM)\n",
        "\n",
        "      if self.cell_type != 'LSTM':\n",
        "        decoder_output, decoder_hidden = self.decoder.forward(decoder_input, decoder_hidden)\n",
        "      else:\n",
        "        decoder_output, decoder_hidden, decoder_c = self.decoder.forward(decoder_input, decoder_hidden, decoder_c)\n",
        "        \n",
        "      values, indices = decoder_output.data.topk(beam_size) #we unpack the top b values and their corresponding indices\n",
        "      values = torch.exp(values) #we would like to deal with a probability instead of a log-probability, so we do e^val\n",
        "\n",
        "      for j in range(0, beam_size):\n",
        "        #we do on iteration and populate the above lists. we will then use these lists to iteratively get our best b guesses. \n",
        "        value = values[0, j]\n",
        "        index = indices[0, j]\n",
        "        possible_outputs.append([index.item()])\n",
        "        next_inputs.append(index.squeeze().detach())\n",
        "        decoder_hiddens.append(decoder_hidden)\n",
        "        if self.cell_type == 'LSTM':\n",
        "          decoder_cs.append(decoder_c)\n",
        "                    \n",
        "      for k in range(1, self.max_length):\n",
        "        #now, we make predictions for the other timesteps\n",
        "        temp_probabilities = np.zeros([beam_size, beam_size])\n",
        "        temp_indices = []\n",
        "        temp_hiddens = []\n",
        "        temp_cs = []\n",
        "\n",
        "        for i in range(0, beam_size):\n",
        "          #we first iterate through all possible current inputs and their corresponding hidden states\n",
        "          curr_input = next_inputs[i]\n",
        "          hidden = decoder_hiddens[i]\n",
        "          if self.cell_type == 'LSTM':\n",
        "            c = decoder_cs[i]\n",
        "          \n",
        "          if self.cell_type != 'LSTM':\n",
        "            decoder_output, decoder_hidden = self.decoder.forward(curr_input, hidden)\n",
        "          else:\n",
        "            decoder_output, decoder_hidden, decoder_c = self.decoder.forward(curr_input, hidden, c)\n",
        "            temp_cs.append(decoder_c)\n",
        "            \n",
        "          #following this, we get the top b values for each of these inputs\n",
        "          temp_hiddens.append(decoder_hidden)\n",
        "          values, indices = decoder_output.data.topk(beam_size)\n",
        "          values = torch.exp(values)\n",
        "\n",
        "          temp_temp_indices = []\n",
        "          for j in range(0, beam_size):\n",
        "            #we now iterate through these b predictions correponding to a given input, and construct a probability table\n",
        "            #this probability table gives the conditional probability of the output, given the input sequence. \n",
        "            value = values[0, j]\n",
        "            index = indices[0, j]\n",
        "            temp_probabilities[i][j] = value.item()\n",
        "            temp_temp_indices.append(index.squeeze().detach())\n",
        "\n",
        "            if curr_input.item() == end_token:\n",
        "              temp_temp_indices.append(torch.tensor([[end_token]], device= device))\n",
        "          \n",
        "          temp_indices.append(temp_temp_indices)\n",
        "        \n",
        "        #we then choose the best b probabilities from these\n",
        "        mat = np.array(temp_probabilities)\n",
        "        idx = np.argpartition(mat, mat.size - beam_size, axis=None)[-beam_size:]\n",
        "        results = np.column_stack(np.unravel_index(idx, mat.shape)) \n",
        "\n",
        "        updated_outputs = []\n",
        "\n",
        "        decoder_hiddens = []\n",
        "        decoder_cs = []\n",
        "        next_inputs = []\n",
        "\n",
        "        for i, result in enumerate(results):\n",
        "          #we finally iterate through these best sequences and update our next_inputs, hiddens, and our possible_outputs. \n",
        "          x = result[0]\n",
        "          y = result[1]\n",
        "          next_inputs.append(temp_indices[x][y])\n",
        "          decoder_hiddens.append(temp_hiddens[x])\n",
        "          if self.cell_type == 'LSTM':\n",
        "            decoder_cs.append(temp_cs[x])\n",
        "\n",
        "          arr = copy.deepcopy(possible_outputs[x])\n",
        "          if arr[-1] == end_token:\n",
        "            pass\n",
        "          else:\n",
        "            arr.append(temp_indices[x][y].item())\n",
        "\n",
        "          updated_outputs.append(arr)\n",
        "        \n",
        "        possible_outputs = copy.deepcopy(updated_outputs)\n",
        "\n",
        "      #we finally return a set of predictions instead of one prediction.             \n",
        "      return possible_outputs\n",
        "\n",
        "  def evaluate_beam(self, data, beam_size, print_flag = True):\n",
        "    #same as the evaluate fn, except we check for the multiple outputs generated \n",
        "    #by the beam based predict method, and choose the best one to get a good performance. \n",
        "    correct = 0\n",
        "    character_wise = 0\n",
        "    count = 0\n",
        "    total_distance = 0\n",
        "\n",
        "    for pair in data:\n",
        "      input = pair[0]\n",
        "      target = pair[1]\n",
        "      predictions = self.predict_beam(input, beam_size)\n",
        "      target = target.tolist()\n",
        "      target = [t[0] for t in target]\n",
        "      tar_word = decoded_word(tamil,target)\n",
        "\n",
        "      mini = 2\n",
        "\n",
        "      for pred in predictions:\n",
        "        pred_word = decoded_word(tamil,pred)\n",
        "        if pred_word == tar_word:\n",
        "          correct = correct + 1\n",
        "        \n",
        "        dist = min((Levenshtein.distance(pred_word, tar_word)/max(len(tar_word),len(pred_word))), 1)\n",
        "        if dist < mini:\n",
        "          mini = dist\n",
        "      \n",
        "      if print_flag:\n",
        "        if count%500 == 0:\n",
        "          print([decoded_word(tamil, pred) for pred in predictions], tar_word)\n",
        "        count = count + 1\n",
        "      \n",
        "      total_distance = total_distance + mini\n",
        "    \n",
        "    avg_distance = total_distance/len(data)\n",
        "    char_acc = 1 - avg_distance\n",
        "    acc = correct/len(data)\n",
        "    return acc, char_acc\n",
        "\n",
        "\n",
        "  def evaluate(self, data, print_flag = True):\n",
        "    correct = 0\n",
        "    character_wise = 0\n",
        "    count = 0\n",
        "    total_distance = 0\n",
        "\n",
        "    for pair in data:\n",
        "      input = pair[0]\n",
        "      target = pair[1]\n",
        "      pred = self.predict(input, target)\n",
        "      target = target.tolist()\n",
        "      target = [t[0] for t in target]\n",
        "\n",
        "      if print_flag:\n",
        "        if count%500 == 0:\n",
        "          print(decoded_word(tamil,pred), decoded_word(tamil,target))\n",
        "        count = count + 1\n",
        "\n",
        "      pred_word = decoded_word(tamil,pred)\n",
        "      tar_word = decoded_word(tamil,target)\n",
        "      \n",
        "      if pred_word == tar_word:\n",
        "        correct = correct + 1\n",
        "      \n",
        "      total_distance = total_distance + min((Levenshtein.distance(pred_word, tar_word)/max(len(tar_word),len(pred_word))), 1)\n",
        "    \n",
        "    avg_distance = total_distance/len(data)\n",
        "    char_acc = 1 - avg_distance\n",
        "    acc = correct/len(data)\n",
        "\n",
        "    return acc, char_acc"
      ],
      "metadata": {
        "id": "w1nrOtq609CU"
      },
      "execution_count": null,
      "outputs": []
    },
    {
      "cell_type": "code",
      "execution_count": null,
      "metadata": {
        "id": "-UWaDWHPnXPN"
      },
      "outputs": [],
      "source": [
        "model = seq2seq_vanilla(inp_language = english, out_language = tamil, embedding_size = 64, n_layers = 2, hl_size = 128)"
      ]
    },
    {
      "cell_type": "code",
      "execution_count": null,
      "metadata": {
        "id": "uKHso_WvDWjg"
      },
      "outputs": [],
      "source": [
        "n_iters = 75000"
      ]
    },
    {
      "cell_type": "code",
      "execution_count": null,
      "metadata": {
        "colab": {
          "base_uri": "https://localhost:8080/"
        },
        "id": "asm1dpLKgJTi",
        "outputId": "282b649f-cddd-4648-9b4d-473dd1a1d71e"
      },
      "outputs": [
        {
          "output_type": "stream",
          "name": "stdout",
          "text": [
            "4096\n"
          ]
        }
      ],
      "source": [
        "print(len(val_data))"
      ]
    },
    {
      "cell_type": "code",
      "execution_count": null,
      "metadata": {
        "id": "-_nDKVgTNmnE"
      },
      "outputs": [],
      "source": [
        "training_pairs = [random.choice(train_data) for i in range(0, n_iters)]"
      ]
    },
    {
      "cell_type": "code",
      "execution_count": null,
      "metadata": {
        "id": "8yiauv0nN19Q"
      },
      "outputs": [],
      "source": [
        "# train_loss = 0\n",
        "# for i in range(0, n_iters):\n",
        "#   training_pair = training_pairs[i]\n",
        "#   x = training_pair[0]\n",
        "#   y = training_pair[1]\n",
        "#   loss = model.train_step(x, y)\n",
        "#   train_loss = train_loss + loss\n",
        "\n",
        "#   if (i+1)%5000 == 0:\n",
        "#     print('------------------------------------------------')\n",
        "#     print('train loss is:', train_loss/5000)\n",
        "#     test_acc, char_acc = model.evaluate(val_data)\n",
        "#     print(f'test accuracy is {test_acc} and character-wise accuracy is {char_acc}')\n",
        "#     train_loss = 0"
      ]
    },
    {
      "cell_type": "markdown",
      "source": [
        "#RNN with Attention"
      ],
      "metadata": {
        "id": "NzzXCox-cqpB"
      }
    },
    {
      "cell_type": "code",
      "source": [
        "class DecoderAttn(nn.Module):\n",
        "  def __init__(self, out_vocab_size, max_length, embedding_size, hl_size, dropout, cell_type, bidirectional):\n",
        "    super(DecoderAttn, self).__init__()\n",
        "    self.vocab_size = out_vocab_size\n",
        "    self.embedding_size = embedding_size\n",
        "    self.hl_size = hl_size\n",
        "    self.softmax = nn.LogSoftmax(dim=1)\n",
        "    self.cell_type = cell_type\n",
        "    self.bidirectional = bidirectional\n",
        "    self.dropout = dropout\n",
        "    self.max_length = max_length\n",
        "\n",
        "    self.dropout_layer = nn.Dropout(self.dropout).to(device)\n",
        "\n",
        "\n",
        "    if self.bidirectional:\n",
        "      self.linear = nn.Linear(2*self.hl_size, self.vocab_size).to(device)\n",
        "      self.attention = nn.Linear(2*self.hl_size + self.embedding_size, self.max_length).to(device)\n",
        "      self.attn_combine = nn.Linear(2*self.hl_size + self.embedding_size, self.embedding_size).to(device)\n",
        "\n",
        "    else:\n",
        "      self.linear = nn.Linear(self.hl_size, self.vocab_size).to(device)\n",
        "      self.attention = nn.Linear(self.hl_size + self.embedding_size, self.max_length).to(device)\n",
        "      self.attn_combine = nn.Linear(self.hl_size + self.embedding_size, self.embedding_size).to(device)\n",
        "\n",
        "\n",
        "    if cell_type == 'RNN':\n",
        "      self.cell = nn.RNN(self.embedding_size, self.hl_size, num_layers = 1, bidirectional = self.bidirectional).to(device)\n",
        "    elif cell_type == 'GRU':\n",
        "      self.cell = nn.GRU(self.embedding_size, self.hl_size, num_layers = 1, bidirectional = self.bidirectional).to(device)\n",
        "    elif cell_type == 'LSTM':\n",
        "      self.cell = nn.LSTM(self.embedding_size, self.hl_size, num_layers = 1, bidirectional = self.bidirectional).to(device)\n",
        "    else:\n",
        "      print('Wrong Cell Type.')\n",
        "      exit()\n",
        "    \n",
        "    self.embedding_layer = nn.Embedding(self.vocab_size, self.embedding_size).to(device)\n",
        "  \n",
        "  def forward(self, input, hidden, encoder_outputs, c = 0):\n",
        "    embedded = self.embedding_layer(input).view(1, 1, -1)\n",
        "    embedded = self.dropout_layer(embedded)\n",
        "\n",
        "    if self.bidirectional:\n",
        "      concatenated = torch.cat((embedded[0], hidden[0], hidden[1]), 1)\n",
        "    else:\n",
        "      concatenated = torch.cat((embedded[0], hidden[0]), 1)\n",
        "    #print(embedded.shape, hidden.shape, concatenated.shape)\n",
        "    #print(embedded.shape, hidden.shape, concatenated.shape)\n",
        "\n",
        "    attn_weights = F.softmax(self.attention(concatenated), dim=1)\n",
        "    attn_applied = torch.bmm(attn_weights.unsqueeze(0), encoder_outputs.unsqueeze(0))\n",
        "\n",
        "    output = torch.cat((embedded[0], attn_applied[0]), 1)\n",
        "    output = self.attn_combine(output).unsqueeze(0)\n",
        "\n",
        "    if self.cell_type != 'LSTM':\n",
        "      output, hidden = self.cell(output, hidden)\n",
        "      output = self.linear(output[0])\n",
        "      output = self.softmax(output)\n",
        "      return output, hidden, attn_weights\n",
        "    else:\n",
        "      output, (hidden, c) = self.cell(output, (hidden, c))\n",
        "      output = self.linear(output[0])\n",
        "      output = self.softmax(output)\n",
        "      return output, hidden, c, attn_weights"
      ],
      "metadata": {
        "id": "45CGDuE99oVG"
      },
      "execution_count": null,
      "outputs": []
    },
    {
      "cell_type": "code",
      "source": [
        "class seq2seq_attn():\n",
        "  def __init__(self, inp_language, out_language, embedding_size, hl_size, dropout = 0.2, cell_type = 'LSTM', lr = 0.005, teacher_forcing_ratio = 0.5,bidirectional_flag = True):\n",
        "    self.max_length = max(out_language.max_size,  inp_language.max_size)\n",
        "    self.encoder = Encoder(inp_language.n_chars, embedding_size, 1, hl_size, dropout, cell_type, bidirectional = bidirectional_flag)\n",
        "    self.decoder = DecoderAttn(out_language.n_chars, self.max_length, embedding_size, hl_size, dropout, cell_type, bidirectional = bidirectional_flag)\n",
        "    self.lr = lr\n",
        "    self.teacher_forcing = teacher_forcing_ratio\n",
        "    self.cell_type = cell_type\n",
        "    self.bidir = bidirectional_flag\n",
        "\n",
        "    self.encoder_optimizer = optim.SGD(self.encoder.parameters(), lr=self.lr)\n",
        "    self.decoder_optimizer = optim.SGD(self.decoder.parameters(), lr = self.lr)\n",
        "\n",
        "    self.loss_fn = nn.NLLLoss()\n",
        "    #decay^30000 = 0.2\n",
        "    self.decay_rate = 2**(math.log2(0.2)/30000)\n",
        "    #self.decay = lambda epoch: self.decay_rate\n",
        "    self.encoder_scheduler = torch.optim.lr_scheduler.MultiplicativeLR(self.encoder_optimizer, lr_lambda=self.decay)\n",
        "    self.decoder_scheduler = torch.optim.lr_scheduler.MultiplicativeLR(self.decoder_optimizer, lr_lambda=self.decay)\n",
        "  \n",
        "  def decay(self, epoch):\n",
        "    return self.decay_rate\n",
        "\n",
        "  def train_step(self, input, target):\n",
        "    encoder_hidden = self.encoder.init_hidden()\n",
        "    encoder_c = self.encoder.init_hidden()\n",
        "\n",
        "    self.encoder_optimizer.zero_grad()\n",
        "    self.decoder_optimizer.zero_grad()\n",
        "\n",
        "    input_length = input.size(0)\n",
        "    target_length = target.size(0)\n",
        "\n",
        "    loss = 0\n",
        "\n",
        "    if self.bidir == True:\n",
        "      encoder_outputs = torch.zeros(self.max_length, 2*self.encoder.hl_size, device=device)\n",
        "    else:\n",
        "      encoder_outputs = torch.zeros(self.max_length, self.encoder.hl_size, device=device)\n",
        "\n",
        "    for i in range(0, input_length):\n",
        "      if self.cell_type != 'LSTM':\n",
        "        encoder_output, encoder_hidden = self.encoder.forward(input[i], encoder_hidden)\n",
        "        encoder_outputs[i] = encoder_output[0, 0]\n",
        "      else:\n",
        "        encoder_output, encoder_hidden, encoder_c = self.encoder.forward(input[i], encoder_hidden, encoder_c)\n",
        "        encoder_outputs[i] = encoder_output[0, 0]\n",
        "    \n",
        "    decoder_input = torch.tensor([[start_token]], device=device)\n",
        "\n",
        "    decoder_hidden = encoder_hidden\n",
        "    decoder_c = encoder_c\n",
        "\n",
        "    num = random.random()\n",
        "\n",
        "    if num < self.teacher_forcing:\n",
        "      #here, we use teacher forcing. \n",
        "      for j in range(0, target_length):\n",
        "        if self.cell_type != 'LSTM':\n",
        "          decoder_output, decoder_hidden, decoder_attention = self.decoder.forward(decoder_input, decoder_hidden, encoder_outputs)\n",
        "        else:\n",
        "          decoder_output, decoder_hidden, decoder_c, decoder_attention = self.decoder.forward(decoder_input, decoder_hidden, encoder_outputs, decoder_c)\n",
        "\n",
        "        loss = loss + self.loss_fn(decoder_output, target[j])\n",
        "        decoder_input = target[j]#.unsqueeze(0)\n",
        "\n",
        "    else:\n",
        "      #here, there is no teacher forcing. the predictions themselves are used. \n",
        "      for j in range(0, target_length):\n",
        "        if self.cell_type != 'LSTM':\n",
        "          decoder_output, decoder_hidden, decoder_attention = self.decoder.forward(decoder_input, decoder_hidden, encoder_outputs)\n",
        "        else:\n",
        "          decoder_output, decoder_hidden, decoder_c, decoder_attention = self.decoder.forward(decoder_input, decoder_hidden, encoder_outputs, decoder_c)\n",
        "\n",
        "        loss = loss + self.loss_fn(decoder_output, target[j])\n",
        "        value, index = decoder_output.topk(1)\n",
        "        decoder_input = index.squeeze().detach()\n",
        "        if decoder_input.item() == end_token:\n",
        "          break\n",
        "      \n",
        "            \n",
        "    loss.backward()\n",
        "    self.encoder_optimizer.step()\n",
        "    self.decoder_optimizer.step()\n",
        "\n",
        "    self.encoder_scheduler.step()\n",
        "    self.decoder_scheduler.step()\n",
        "\n",
        "    return loss.item()/target_length\n",
        "  \n",
        "  def predict(self, input, target):\n",
        "    with torch.no_grad():\n",
        "      encoder_hidden = self.encoder.init_hidden()\n",
        "      encoder_c = self.encoder.init_hidden()\n",
        "\n",
        "      if self.bidir == True:\n",
        "        encoder_outputs = torch.zeros(self.max_length, 2*self.encoder.hl_size, device=device)\n",
        "      else:\n",
        "        encoder_outputs = torch.zeros(self.max_length, self.encoder.hl_size, device=device)\n",
        "\n",
        "      input_length = input.size(0)\n",
        "      for i in range(0, min(input_length, self.max_length)):\n",
        "        if self.cell_type != 'LSTM':\n",
        "          encoder_output, encoder_hidden = self.encoder.forward(input[i], encoder_hidden)\n",
        "          encoder_outputs[i] = encoder_output[0, 0]\n",
        "        else:\n",
        "          encoder_output, encoder_hidden, encoder_c = self.encoder.forward(input[i], encoder_hidden, encoder_c)\n",
        "          encoder_outputs[i] = encoder_output[0, 0]\n",
        "\n",
        "      decoder_input = torch.tensor([[start_token]], device=device)\n",
        "      decoder_hidden = encoder_hidden\n",
        "      decoder_c = encoder_c\n",
        "\n",
        "      outputs = []\n",
        "      for i in range(0, self.max_length):\n",
        "        if self.cell_type != 'LSTM':\n",
        "          decoder_output, decoder_hidden, decoder_attention = self.decoder.forward(decoder_input, decoder_hidden, encoder_outputs)\n",
        "        else:\n",
        "          decoder_output, decoder_hidden, decoder_c, decoder_attention = self.decoder.forward(decoder_input, decoder_hidden, encoder_outputs, decoder_c)\n",
        "\n",
        "        value, index = decoder_output.data.topk(1)\n",
        "        decoder_input = index.squeeze().detach()\n",
        "        outputs.append(decoder_input.item())\n",
        "        if decoder_input.item() == end_token:\n",
        "          break\n",
        "\n",
        "      return outputs\n",
        "\n",
        "\n",
        "  def evaluate(self, data):\n",
        "    correct = 0\n",
        "    character_wise = 0\n",
        "    count = 0\n",
        "    total_distance = 0\n",
        "\n",
        "    for pair in data:\n",
        "      input = pair[0]\n",
        "      target = pair[1]\n",
        "      pred = self.predict(input, target)\n",
        "      target = target.tolist()\n",
        "      target = [t[0] for t in target]\n",
        "\n",
        "      # if count%500 == 0:\n",
        "      #   print(decoded_word(tamil,pred), decoded_word(tamil,target))\n",
        "      # count = count + 1\n",
        "\n",
        "      pred_word = decoded_word(tamil,pred)\n",
        "      tar_word = decoded_word(tamil,target)\n",
        "      \n",
        "      if pred_word == tar_word:\n",
        "        correct = correct + 1\n",
        "      \n",
        "      total_distance = total_distance + min((Levenshtein.distance(pred_word, tar_word)/max(len(tar_word),len(pred_word))), 1)\n",
        "    \n",
        "    avg_distance = total_distance/len(data)\n",
        "    char_acc = 1 - avg_distance\n",
        "    acc = correct/len(data)\n",
        "\n",
        "\n",
        "    return acc, char_acc"
      ],
      "metadata": {
        "id": "YkdMjiL8B5Kx"
      },
      "execution_count": null,
      "outputs": []
    },
    {
      "cell_type": "code",
      "source": [
        "model = seq2seq_attn(inp_language = english, out_language = tamil, embedding_size = 128, hl_size = 128)"
      ],
      "metadata": {
        "id": "3lD7KsLN_FCF",
        "colab": {
          "base_uri": "https://localhost:8080/"
        },
        "outputId": "d19e229b-fa3c-4739-95f0-8801da22a761"
      },
      "execution_count": null,
      "outputs": [
        {
          "output_type": "stream",
          "name": "stderr",
          "text": [
            "/usr/local/lib/python3.10/dist-packages/torch/nn/modules/rnn.py:71: UserWarning: dropout option adds dropout after all but last recurrent layer, so non-zero dropout expects num_layers greater than 1, but got dropout=0.2 and num_layers=1\n",
            "  warnings.warn(\"dropout option adds dropout after all but last \"\n"
          ]
        }
      ]
    },
    {
      "cell_type": "code",
      "source": [
        "# train_loss = 0\n",
        "# for i in range(0, n_iters):\n",
        "#   training_pair = training_pairs[i]\n",
        "#   x = training_pair[0]\n",
        "#   y = training_pair[1]\n",
        "#   loss = model.train_step(x, y)\n",
        "#   train_loss = train_loss + loss\n",
        "\n",
        "#   if (i+1)%5000 == 0:\n",
        "#     print('------------------------------------------------')\n",
        "#     print('train loss is:', train_loss/5000)\n",
        "#     test_acc, char_acc = model.evaluate(val_data)\n",
        "#     print(f'test accuracy is {test_acc} and character-wise accuracy is {char_acc}')\n",
        "#     train_loss = 0"
      ],
      "metadata": {
        "id": "FA4xyw70_FCH"
      },
      "execution_count": null,
      "outputs": []
    },
    {
      "cell_type": "markdown",
      "metadata": {
        "id": "voDdPUQRcmr9"
      },
      "source": [
        "#WandB Setup\n",
        "\n",
        "\n"
      ]
    },
    {
      "cell_type": "code",
      "execution_count": null,
      "metadata": {
        "colab": {
          "base_uri": "https://localhost:8080/"
        },
        "id": "nslhYuf3cr-k",
        "outputId": "751382ea-70f6-42f5-b0ee-3db543adb63e"
      },
      "outputs": [
        {
          "output_type": "stream",
          "name": "stdout",
          "text": [
            "Looking in indexes: https://pypi.org/simple, https://us-python.pkg.dev/colab-wheels/public/simple/\n",
            "Collecting wandb\n",
            "  Downloading wandb-0.15.3-py3-none-any.whl (2.0 MB)\n",
            "\u001b[2K     \u001b[90m━━━━━━━━━━━━━━━━━━━━━━━━━━━━━━━━━━━━━━━━\u001b[0m \u001b[32m2.0/2.0 MB\u001b[0m \u001b[31m30.2 MB/s\u001b[0m eta \u001b[36m0:00:00\u001b[0m\n",
            "\u001b[?25hRequirement already satisfied: Click!=8.0.0,>=7.0 in /usr/local/lib/python3.10/dist-packages (from wandb) (8.1.3)\n",
            "Collecting GitPython!=3.1.29,>=1.0.0 (from wandb)\n",
            "  Downloading GitPython-3.1.31-py3-none-any.whl (184 kB)\n",
            "\u001b[2K     \u001b[90m━━━━━━━━━━━━━━━━━━━━━━━━━━━━━━━━━━━━━━\u001b[0m \u001b[32m184.3/184.3 kB\u001b[0m \u001b[31m21.6 MB/s\u001b[0m eta \u001b[36m0:00:00\u001b[0m\n",
            "\u001b[?25hRequirement already satisfied: requests<3,>=2.0.0 in /usr/local/lib/python3.10/dist-packages (from wandb) (2.27.1)\n",
            "Requirement already satisfied: psutil>=5.0.0 in /usr/local/lib/python3.10/dist-packages (from wandb) (5.9.5)\n",
            "Collecting sentry-sdk>=1.0.0 (from wandb)\n",
            "  Downloading sentry_sdk-1.23.1-py2.py3-none-any.whl (205 kB)\n",
            "\u001b[2K     \u001b[90m━━━━━━━━━━━━━━━━━━━━━━━━━━━━━━━━━━━━━━\u001b[0m \u001b[32m205.1/205.1 kB\u001b[0m \u001b[31m24.3 MB/s\u001b[0m eta \u001b[36m0:00:00\u001b[0m\n",
            "\u001b[?25hCollecting docker-pycreds>=0.4.0 (from wandb)\n",
            "  Downloading docker_pycreds-0.4.0-py2.py3-none-any.whl (9.0 kB)\n",
            "Requirement already satisfied: PyYAML in /usr/local/lib/python3.10/dist-packages (from wandb) (6.0)\n",
            "Collecting pathtools (from wandb)\n",
            "  Downloading pathtools-0.1.2.tar.gz (11 kB)\n",
            "  Preparing metadata (setup.py) ... \u001b[?25l\u001b[?25hdone\n",
            "Collecting setproctitle (from wandb)\n",
            "  Downloading setproctitle-1.3.2-cp310-cp310-manylinux_2_5_x86_64.manylinux1_x86_64.manylinux_2_17_x86_64.manylinux2014_x86_64.whl (30 kB)\n",
            "Requirement already satisfied: setuptools in /usr/local/lib/python3.10/dist-packages (from wandb) (67.7.2)\n",
            "Requirement already satisfied: appdirs>=1.4.3 in /usr/local/lib/python3.10/dist-packages (from wandb) (1.4.4)\n",
            "Requirement already satisfied: protobuf!=4.21.0,<5,>=3.19.0 in /usr/local/lib/python3.10/dist-packages (from wandb) (3.20.3)\n",
            "Requirement already satisfied: six>=1.4.0 in /usr/local/lib/python3.10/dist-packages (from docker-pycreds>=0.4.0->wandb) (1.16.0)\n",
            "Collecting gitdb<5,>=4.0.1 (from GitPython!=3.1.29,>=1.0.0->wandb)\n",
            "  Downloading gitdb-4.0.10-py3-none-any.whl (62 kB)\n",
            "\u001b[2K     \u001b[90m━━━━━━━━━━━━━━━━━━━━━━━━━━━━━━━━━━━━━━━━\u001b[0m \u001b[32m62.7/62.7 kB\u001b[0m \u001b[31m8.1 MB/s\u001b[0m eta \u001b[36m0:00:00\u001b[0m\n",
            "\u001b[?25hRequirement already satisfied: urllib3<1.27,>=1.21.1 in /usr/local/lib/python3.10/dist-packages (from requests<3,>=2.0.0->wandb) (1.26.15)\n",
            "Requirement already satisfied: certifi>=2017.4.17 in /usr/local/lib/python3.10/dist-packages (from requests<3,>=2.0.0->wandb) (2022.12.7)\n",
            "Requirement already satisfied: charset-normalizer~=2.0.0 in /usr/local/lib/python3.10/dist-packages (from requests<3,>=2.0.0->wandb) (2.0.12)\n",
            "Requirement already satisfied: idna<4,>=2.5 in /usr/local/lib/python3.10/dist-packages (from requests<3,>=2.0.0->wandb) (3.4)\n",
            "Collecting smmap<6,>=3.0.1 (from gitdb<5,>=4.0.1->GitPython!=3.1.29,>=1.0.0->wandb)\n",
            "  Downloading smmap-5.0.0-py3-none-any.whl (24 kB)\n",
            "Building wheels for collected packages: pathtools\n",
            "  Building wheel for pathtools (setup.py) ... \u001b[?25l\u001b[?25hdone\n",
            "  Created wheel for pathtools: filename=pathtools-0.1.2-py3-none-any.whl size=8791 sha256=ac302d639c494f3acefec8c109b11452c4d8e965d2a85034350f997f5dcc347b\n",
            "  Stored in directory: /root/.cache/pip/wheels/e7/f3/22/152153d6eb222ee7a56ff8617d80ee5207207a8c00a7aab794\n",
            "Successfully built pathtools\n",
            "Installing collected packages: pathtools, smmap, setproctitle, sentry-sdk, docker-pycreds, gitdb, GitPython, wandb\n",
            "Successfully installed GitPython-3.1.31 docker-pycreds-0.4.0 gitdb-4.0.10 pathtools-0.1.2 sentry-sdk-1.23.1 setproctitle-1.3.2 smmap-5.0.0 wandb-0.15.3\n"
          ]
        }
      ],
      "source": [
        "!pip install wandb"
      ]
    },
    {
      "cell_type": "code",
      "execution_count": null,
      "metadata": {
        "id": "Uqzur-eWq6gY"
      },
      "outputs": [],
      "source": [
        "import wandb"
      ]
    },
    {
      "cell_type": "code",
      "execution_count": null,
      "metadata": {
        "colab": {
          "base_uri": "https://localhost:8080/"
        },
        "id": "7AEcrBGrq6C8",
        "outputId": "9c7bb5c2-9fb1-4d85-9817-949ac9bac212"
      },
      "outputs": [
        {
          "output_type": "stream",
          "name": "stdout",
          "text": [
            "\u001b[34m\u001b[1mwandb\u001b[0m: Logging into wandb.ai. (Learn how to deploy a W&B server locally: https://wandb.me/wandb-server)\n",
            "\u001b[34m\u001b[1mwandb\u001b[0m: You can find your API key in your browser here: https://wandb.ai/authorize\n",
            "\u001b[34m\u001b[1mwandb\u001b[0m: Paste an API key from your profile and hit enter, or press ctrl+c to quit: \n",
            "\u001b[34m\u001b[1mwandb\u001b[0m: \u001b[32m\u001b[41mERROR\u001b[0m API key must be 40 characters long, yours was 41\n",
            "\u001b[34m\u001b[1mwandb\u001b[0m: Logging into wandb.ai. (Learn how to deploy a W&B server locally: https://wandb.me/wandb-server)\n",
            "\u001b[34m\u001b[1mwandb\u001b[0m: You can find your API key in your browser here: https://wandb.ai/authorize\n",
            "\u001b[34m\u001b[1mwandb\u001b[0m: Paste an API key from your profile and hit enter, or press ctrl+c to quit: \n",
            "\u001b[34m\u001b[1mwandb\u001b[0m: Appending key for api.wandb.ai to your netrc file: /root/.netrc\n"
          ]
        }
      ],
      "source": [
        "!wandb login\n",
        "#63a3fc8a45a3ca461290e711c17782295dfe1975"
      ]
    },
    {
      "cell_type": "code",
      "execution_count": null,
      "metadata": {
        "id": "8U4exWKvrA6t"
      },
      "outputs": [],
      "source": [
        "entity_name = \"clroymustang\"\n",
        "project_name = \"cs6910-assignment-3\""
      ]
    },
    {
      "cell_type": "markdown",
      "source": [
        "#Vanilla Hyperparameter Sweep"
      ],
      "metadata": {
        "id": "UMqWK_hLGz6s"
      }
    },
    {
      "cell_type": "code",
      "execution_count": null,
      "metadata": {
        "id": "6YMELBegw5Qu"
      },
      "outputs": [],
      "source": [
        "n_iters = 75000"
      ]
    },
    {
      "cell_type": "code",
      "execution_count": null,
      "metadata": {
        "id": "2INJlUhew5Qv"
      },
      "outputs": [],
      "source": [
        "training_pairs = [random.choice(train_data) for i in range(0, n_iters)]"
      ]
    },
    {
      "cell_type": "code",
      "execution_count": null,
      "metadata": {
        "id": "6RvJeUKyrURQ"
      },
      "outputs": [],
      "source": [
        "def sweep():\n",
        "  defaults = {\n",
        "      'embedding_size': 32,\n",
        "      'n_layers': 1,\n",
        "      'hl_size': 32,\n",
        "      'bidir': False,\n",
        "      'dropout': 0,\n",
        "      'cell_type': 'GRU'\n",
        "  }\n",
        "  wandb.init(config = defaults)\n",
        "  config = wandb.config\n",
        "\n",
        "  vanilla_model = seq2seq_vanilla(english, tamil, embedding_size = config.embedding_size, n_layers = config.n_layers, hl_size = config.hl_size, dropout = config.dropout, \\\n",
        "                          cell_type = config.cell_type, lr = 0.01, teacher_forcing_ratio = 0.5, bidirectional_flag = config.bidir)\n",
        "  \n",
        "  train_loss = 0\n",
        "  for i in range(0, n_iters):\n",
        "    training_pair = training_pairs[i]\n",
        "    x = training_pair[0]\n",
        "    y = training_pair[1]\n",
        "    loss = vanilla_model.train_step(x, y)\n",
        "    train_loss = train_loss + loss\n",
        "\n",
        "    if (i+1)%5000 == 0:\n",
        "      test_acc, char_acc = vanilla_model.evaluate(val_data)\n",
        "      train_loss = train_loss/5000\n",
        "      log_dict = {\"train_loss\":train_loss, \"test_accuracy\":test_acc, \"test_similarity\":char_acc}\n",
        "      wandb.log(log_dict)\n",
        "      train_loss = 0\n",
        "  \n",
        "  sweep_name = str(config.cell_type) + \"_emb\" + str(config.embedding_size) + \"_hl\" + str(config.hl_size) + \"_nl\" + str(config.n_layers) + \"_d\" + \\\n",
        "  str(config.dropout) + \"_bidir\" + str(config.bidir)\n",
        "  wandb.run.name = sweep_name\n",
        "\n",
        "  wandb.run.save()\n",
        "  wandb.run.finish()\n"
      ]
    },
    {
      "cell_type": "code",
      "execution_count": null,
      "metadata": {
        "id": "dtIQrWBarYGl"
      },
      "outputs": [],
      "source": [
        "hyperparameters = {\n",
        "      \"embedding_size\": {\n",
        "          'values': [32, 64, 128]\n",
        "      },\n",
        "      \"n_layers\": {\n",
        "          'values' : [1, 2, 3]\n",
        "      },\n",
        "      \"hl_size\": {\n",
        "          'values' : [32, 64, 128]\n",
        "      },\n",
        "      \"bidir\": {\n",
        "          'values': [True, False]\n",
        "      },\n",
        "      \"dropout\":{\n",
        "        'values': [0, 0.2, 0.3]\n",
        "      },\n",
        "      \"cell_type\": {\n",
        "          'values' : ['RNN', 'GRU', 'LSTM']\n",
        "      }\n",
        "  }"
      ]
    },
    {
      "cell_type": "code",
      "execution_count": null,
      "metadata": {
        "id": "ewDLFM5wsuy_"
      },
      "outputs": [],
      "source": [
        "sweep_configuration = {\n",
        "    'method': 'bayes',\n",
        "    'name': 'vanilla_sweep',\n",
        "    'metric': {\n",
        "        'goal': 'maximize', \n",
        "        'name': 'test_similarity'\n",
        "        },\n",
        "    'parameters': hyperparameters\n",
        "}"
      ]
    },
    {
      "cell_type": "code",
      "execution_count": null,
      "metadata": {
        "id": "6JISeTaQsyH4"
      },
      "outputs": [],
      "source": [
        "#sweep_id = wandb.sweep(sweep_configuration, entity=entity_name, project=project_name)\n",
        "sweep_id = 'td3auwvp'"
      ]
    },
    {
      "cell_type": "code",
      "execution_count": null,
      "metadata": {
        "id": "SVQKj1pB_PRG"
      },
      "outputs": [],
      "source": [
        "#wandb.agent(sweep_id, sweep, project = project_name)"
      ]
    },
    {
      "cell_type": "markdown",
      "source": [
        "tinkering"
      ],
      "metadata": {
        "id": "By9O3hoHDjzU"
      }
    },
    {
      "cell_type": "markdown",
      "source": [
        "#Attention Hyperparameter Mini-Sweep\n",
        "\n"
      ],
      "metadata": {
        "id": "oedBo8q0G7zb"
      }
    },
    {
      "cell_type": "code",
      "execution_count": null,
      "metadata": {
        "id": "yS8-sOE1HS2x"
      },
      "outputs": [],
      "source": [
        "hyperparameters = {\n",
        "      \"embedding_size\": {\n",
        "          'values': [128]\n",
        "      },\n",
        "      \"n_layers\": {\n",
        "          'values' : [1]\n",
        "      },\n",
        "      \"hl_size\": {\n",
        "          'values' : [128]\n",
        "      },\n",
        "      \"bidir\": {\n",
        "          'values': [True, False]\n",
        "      },\n",
        "      \"dropout\":{\n",
        "        'values': [0.2]\n",
        "      },\n",
        "      \"cell_type\": {\n",
        "          'values' : ['GRU', 'LSTM']\n",
        "      },\n",
        "      \"attention\": {\n",
        "          'values' : [True, False]\n",
        "      }\n",
        "  }"
      ]
    },
    {
      "cell_type": "code",
      "source": [
        "def sweep():\n",
        "  defaults = {\n",
        "      'embedding_size': 128,\n",
        "      'n_layers': 1,\n",
        "      'hl_size': 128,\n",
        "      'bidir': False,\n",
        "      'dropout': 0.2,\n",
        "      'cell_type': 'GRU',\n",
        "      'attention': False\n",
        "  }\n",
        "  wandb.init(config = defaults)\n",
        "  config = wandb.config\n",
        "\n",
        "  if config.attention:\n",
        "    model = seq2seq_attn(english, tamil, embedding_size = config.embedding_size, hl_size = config.hl_size, dropout = config.dropout, cell_type = config.cell_type, \\\n",
        "                         lr = 0.005, teacher_forcing_ratio = 0.5, bidirectional_flag = config.bidir)\n",
        "  else:\n",
        "    model = seq2seq_vanilla(english, tamil, embedding_size = config.embedding_size, n_layers = config.n_layers, hl_size = config.hl_size, dropout = config.dropout, \\\n",
        "                          cell_type = config.cell_type, lr = 0.01, teacher_forcing_ratio = 0.5, bidirectional_flag = config.bidir)\n",
        "  \n",
        "  train_loss = 0\n",
        "  for i in range(0, n_iters):\n",
        "    training_pair = training_pairs[i]\n",
        "    x = training_pair[0]\n",
        "    y = training_pair[1]\n",
        "    loss = model.train_step(x, y)\n",
        "    train_loss = train_loss + loss\n",
        "\n",
        "    if (i+1)%5000 == 0:\n",
        "      test_acc, char_acc = model.evaluate(val_data)\n",
        "      train_loss = train_loss/5000\n",
        "      log_dict = {\"train_loss\":train_loss, \"test_accuracy\":test_acc, \"test_similarity\":char_acc}\n",
        "      wandb.log(log_dict)\n",
        "      train_loss = 0\n",
        "  \n",
        "  sweep_name = str(config.cell_type) + \"_emb\" + str(config.embedding_size) + \"_hl\" + str(config.hl_size) + \"_d\" + \\\n",
        "  str(config.dropout) + \"_bidir\" + str(config.bidir) + \"_attn\" + str(config.attention)\n",
        "\n",
        "  wandb.run.name = sweep_name\n",
        "\n",
        "  wandb.run.save()\n",
        "  wandb.run.finish()"
      ],
      "metadata": {
        "id": "UtNrEIqaIj2P"
      },
      "execution_count": null,
      "outputs": []
    },
    {
      "cell_type": "code",
      "execution_count": null,
      "metadata": {
        "id": "aIOr7BkNHS2-"
      },
      "outputs": [],
      "source": [
        "sweep_configuration = {\n",
        "    'method': 'grid',\n",
        "    'name': 'attention_sweep',\n",
        "    'metric': {\n",
        "        'goal': 'maximize', \n",
        "        'name': 'test_similarity'\n",
        "        },\n",
        "    'parameters': hyperparameters\n",
        "}"
      ]
    },
    {
      "cell_type": "code",
      "execution_count": null,
      "metadata": {
        "id": "T222FjZUHS2-"
      },
      "outputs": [],
      "source": [
        "#sweep_id = wandb.sweep(sweep_configuration, entity=entity_name, project=project_name)\n",
        "sweep_id = '6l900368'"
      ]
    },
    {
      "cell_type": "code",
      "execution_count": null,
      "metadata": {
        "id": "2Vuz1HrUHS2-"
      },
      "outputs": [],
      "source": [
        "#wandb.agent(sweep_id, sweep, project = project_name)"
      ]
    },
    {
      "cell_type": "markdown",
      "source": [
        "#Best Vanilla Model"
      ],
      "metadata": {
        "id": "lpvi55EDGS4v"
      }
    },
    {
      "cell_type": "code",
      "source": [
        "best_params = {\n",
        "    'cell_type':'LSTM', 'dropout':0, 'embedding_size':128, 'hl_size':128, 'n_layers':3, 'bidirectional_flag':False\n",
        "}"
      ],
      "metadata": {
        "id": "r9s_hJYd4c85"
      },
      "execution_count": null,
      "outputs": []
    },
    {
      "cell_type": "code",
      "execution_count": null,
      "metadata": {
        "id": "DOpat_BRatpu"
      },
      "outputs": [],
      "source": [
        "model = seq2seq_vanilla(inp_language = english, out_language = tamil, **best_params)"
      ]
    },
    {
      "cell_type": "code",
      "execution_count": null,
      "metadata": {
        "id": "vipYXEV9atqC"
      },
      "outputs": [],
      "source": [
        "n_iters = 75000"
      ]
    },
    {
      "cell_type": "code",
      "execution_count": null,
      "metadata": {
        "id": "nu4UpeoqatqD"
      },
      "outputs": [],
      "source": [
        "training_pairs = [random.choice(train_data) for i in range(0, n_iters)]"
      ]
    },
    {
      "cell_type": "code",
      "execution_count": null,
      "metadata": {
        "id": "9yZGQ6xFatqD"
      },
      "outputs": [],
      "source": [
        "train_loss = 0\n",
        "for i in range(0, n_iters):\n",
        "  training_pair = training_pairs[i]\n",
        "  x = training_pair[0]\n",
        "  y = training_pair[1]\n",
        "  loss = model.train_step(x, y)\n",
        "  train_loss = train_loss + loss\n",
        "\n",
        "  if (i+1)%5000 == 0:\n",
        "    print('------------------------------------------------')\n",
        "    print('train loss is:', train_loss/5000)\n",
        "    test_acc, char_acc = model.evaluate(val_data)\n",
        "    print(f'test accuracy is {test_acc} and character-wise accuracy is {char_acc}')\n",
        "    train_loss = 0"
      ]
    },
    {
      "cell_type": "code",
      "source": [
        "with open('best_vanilla_model.pkl', 'wb') as file:\n",
        "  pickle.dump(model, file)\n",
        "  print('Object successfully saved.')"
      ],
      "metadata": {
        "id": "N_DGJ1J-oicd"
      },
      "execution_count": null,
      "outputs": []
    },
    {
      "cell_type": "code",
      "source": [
        "pickled_model = pickle.load(open('best_vanilla_model.pkl', 'rb'))"
      ],
      "metadata": {
        "id": "MzgtFB3I8aEM"
      },
      "execution_count": null,
      "outputs": []
    },
    {
      "cell_type": "markdown",
      "source": [
        "#Beam Search"
      ],
      "metadata": {
        "id": "zss0cVzw9eeT"
      }
    },
    {
      "cell_type": "code",
      "source": [
        "#we will now perform beam search for various values of B and compare the results\n",
        "# for b in range(2, 6):\n",
        "#   test_acc, char_acc = pickled_model.evaluate_beam(val_data, beam_size = b, print_flag = False)\n",
        "#   print(f'With beam size = {b}, we get a test accuracy of {test_acc} and a character-wise similarity as {char_acc}.')"
      ],
      "metadata": {
        "id": "df_QrEEN9Zfm"
      },
      "execution_count": null,
      "outputs": []
    },
    {
      "cell_type": "code",
      "source": [
        "b = [1, 2, 3, 4, 5]\n",
        "test_acc = [0.377685546875, 0.388671875, 0.3896484375, 0.3916015625, 0.39599609375]\n",
        "test_sim = [0.8217747135037511, 0.8271914291907654, 0.8307840395134558, 0.8324873635588594, 0.8336391599211628]\n",
        "\n",
        "plt.plot(b, test_acc)\n",
        "plt.title('Validation Accuracy v/s Beam Size')\n",
        "plt.xlabel('Beam Size')\n",
        "plt.ylabel('Validation Accuracy')"
      ],
      "metadata": {
        "colab": {
          "base_uri": "https://localhost:8080/",
          "height": 489
        },
        "id": "3GivbIFtNEaY",
        "outputId": "61fb5d71-1129-44bb-a7d7-0eb510a9681e"
      },
      "execution_count": null,
      "outputs": [
        {
          "output_type": "execute_result",
          "data": {
            "text/plain": [
              "Text(0, 0.5, 'Validation Accuracy')"
            ]
          },
          "metadata": {},
          "execution_count": 51
        },
        {
          "output_type": "display_data",
          "data": {
            "text/plain": [
              "<Figure size 640x480 with 1 Axes>"
            ],
            "image/png": "[encoded data removed]"
          },
          "metadata": {}
        }
      ]
    },
    {
      "cell_type": "code",
      "source": [
        "plt.plot(b, test_sim)\n",
        "plt.title('Validation Similarity v/s Beam Size')\n",
        "plt.xlabel('Beam Size')\n",
        "plt.ylabel('Validation Similarity')"
      ],
      "metadata": {
        "colab": {
          "base_uri": "https://localhost:8080/",
          "height": 489
        },
        "id": "8sRUqzcYOqNv",
        "outputId": "f41c6b74-857a-426e-904e-5134a67c7b7a"
      },
      "execution_count": null,
      "outputs": [
        {
          "output_type": "execute_result",
          "data": {
            "text/plain": [
              "Text(0, 0.5, 'Validation Similarity')"
            ]
          },
          "metadata": {},
          "execution_count": 52
        },
        {
          "output_type": "display_data",
          "data": {
            "text/plain": [
              "<Figure size 640x480 with 1 Axes>"
            ],
            "image/png": "[encoded data removed]"
          },
          "metadata": {}
        }
      ]
    },
    {
      "cell_type": "markdown",
      "source": [
        "#Best Attention Model"
      ],
      "metadata": {
        "id": "aUOXGR5iMdC5"
      }
    },
    {
      "cell_type": "code",
      "source": [
        "best_params = {\n",
        "    'cell_type':'GRU', 'dropout':0.2, 'embedding_size':128, 'hl_size':128, 'bidirectional_flag':True\n",
        "}"
      ],
      "metadata": {
        "id": "MN0CuzmM43ef"
      },
      "execution_count": null,
      "outputs": []
    },
    {
      "cell_type": "code",
      "source": [
        "model = seq2seq_attn(inp_language = english, out_language = tamil, **best_params)"
      ],
      "metadata": {
        "colab": {
          "base_uri": "https://localhost:8080/"
        },
        "id": "yga0HyWEMq1t",
        "outputId": "60d47649-6801-4d1c-ba26-d776cba6c43b"
      },
      "execution_count": null,
      "outputs": [
        {
          "output_type": "stream",
          "name": "stderr",
          "text": [
            "/usr/local/lib/python3.10/dist-packages/torch/nn/modules/rnn.py:71: UserWarning: dropout option adds dropout after all but last recurrent layer, so non-zero dropout expects num_layers greater than 1, but got dropout=0.2 and num_layers=1\n",
            "  warnings.warn(\"dropout option adds dropout after all but last \"\n"
          ]
        }
      ]
    },
    {
      "cell_type": "code",
      "source": [
        "train_loss = 0\n",
        "for i in range(0, n_iters):\n",
        "  training_pair = training_pairs[i]\n",
        "  x = training_pair[0]\n",
        "  y = training_pair[1]\n",
        "  loss = model.train_step(x, y)\n",
        "  train_loss = train_loss + loss\n",
        "\n",
        "  if (i+1)%5000 == 0:\n",
        "    print('------------------------------------------------')\n",
        "    print('train loss is:', train_loss/5000)\n",
        "    test_acc, char_acc = model.evaluate(val_data)\n",
        "    print(f'test accuracy is {test_acc} and character-wise accuracy is {char_acc}')\n",
        "    train_loss = 0"
      ],
      "metadata": {
        "colab": {
          "base_uri": "https://localhost:8080/"
        },
        "id": "Byhl-2rvM6fQ",
        "outputId": "b20a4b84-97ec-49ad-b629-d72bc7f53f0c"
      },
      "execution_count": null,
      "outputs": [
        {
          "output_type": "stream",
          "name": "stdout",
          "text": [
            "------------------------------------------------\n",
            "train loss is: 1.903665394523643\n",
            "test accuracy is 0.043701171875 and character-wise accuracy is 0.6178185361722799\n",
            "------------------------------------------------\n",
            "train loss is: 1.119872172133049\n",
            "test accuracy is 0.1669921875 and character-wise accuracy is 0.7318605761966062\n",
            "------------------------------------------------\n",
            "train loss is: 0.8010369807866555\n",
            "test accuracy is 0.299072265625 and character-wise accuracy is 0.7975959612835202\n",
            "------------------------------------------------\n",
            "train loss is: 0.5968623266388231\n",
            "test accuracy is 0.364013671875 and character-wise accuracy is 0.8230459448770827\n",
            "------------------------------------------------\n",
            "train loss is: 0.4952203252231501\n",
            "test accuracy is 0.3828125 and character-wise accuracy is 0.8301898847232598\n",
            "------------------------------------------------\n",
            "train loss is: 0.42420165220586803\n",
            "test accuracy is 0.414794921875 and character-wise accuracy is 0.8393633873834718\n",
            "------------------------------------------------\n",
            "train loss is: 0.3863839278969744\n",
            "test accuracy is 0.421142578125 and character-wise accuracy is 0.843775230974292\n",
            "------------------------------------------------\n",
            "train loss is: 0.3740708054971908\n",
            "test accuracy is 0.440185546875 and character-wise accuracy is 0.8477520920692774\n",
            "------------------------------------------------\n",
            "train loss is: 0.3472717947092251\n",
            "test accuracy is 0.45361328125 and character-wise accuracy is 0.8514962777667255\n",
            "------------------------------------------------\n",
            "train loss is: 0.33671376505050166\n",
            "test accuracy is 0.46435546875 and character-wise accuracy is 0.8526871368633189\n",
            "------------------------------------------------\n",
            "train loss is: 0.3413252448223062\n",
            "test accuracy is 0.45751953125 and character-wise accuracy is 0.8516383261656298\n",
            "------------------------------------------------\n",
            "train loss is: 0.3308446500447423\n",
            "test accuracy is 0.47265625 and character-wise accuracy is 0.853970973697839\n",
            "------------------------------------------------\n",
            "train loss is: 0.333306979548212\n",
            "test accuracy is 0.470703125 and character-wise accuracy is 0.854185014524833\n",
            "------------------------------------------------\n",
            "train loss is: 0.3196475235398716\n",
            "test accuracy is 0.46484375 and character-wise accuracy is 0.8548459217176734\n",
            "------------------------------------------------\n",
            "train loss is: 0.30728711889718124\n",
            "test accuracy is 0.47509765625 and character-wise accuracy is 0.8572123446253838\n"
          ]
        }
      ]
    },
    {
      "cell_type": "code",
      "source": [
        "with open('best_attn_model.pkl', 'wb') as file:\n",
        "  pickle.dump(model, file)\n",
        "  print('Object successfully saved.')"
      ],
      "metadata": {
        "id": "yCl2P4KcM7dG",
        "colab": {
          "base_uri": "https://localhost:8080/"
        },
        "outputId": "26be594a-ea5d-4de1-bc40-0935dc45b538"
      },
      "execution_count": null,
      "outputs": [
        {
          "output_type": "stream",
          "name": "stdout",
          "text": [
            "Object successfully saved.\n"
          ]
        }
      ]
    },
    {
      "cell_type": "markdown",
      "source": [
        "#Evaluation of Vanilla Model on Test-Dataset"
      ],
      "metadata": {
        "id": "WQLB_x7Gfym0"
      }
    },
    {
      "cell_type": "code",
      "source": [
        "vanilla_model = pickle.load(open('/content/gdrive/MyDrive/CS6910_A3/best_models/best_vanilla_model.pkl', 'rb'))"
      ],
      "metadata": {
        "id": "cjLAlp_kOyJx"
      },
      "execution_count": null,
      "outputs": []
    },
    {
      "cell_type": "code",
      "source": [
        "test_acc, test_sim = vanilla_model.evaluate(test_data, False)\n",
        "print(f'The model has test accuracy: {test_acc} and test similarity:{test_sim}.')"
      ],
      "metadata": {
        "colab": {
          "base_uri": "https://localhost:8080/"
        },
        "id": "G-Fm2ek3gjqh",
        "outputId": "8a98c1d1-46ea-4e09-9d58-e27b6f7b6dc2"
      },
      "execution_count": null,
      "outputs": [
        {
          "output_type": "stream",
          "name": "stderr",
          "text": [
            "/usr/local/lib/python3.10/dist-packages/torch/nn/modules/rnn.py:812: UserWarning: RNN module weights are not part of single contiguous chunk of memory. This means they need to be compacted at every call, possibly greatly increasing memory usage. To compact weights again call flatten_parameters(). (Triggered internally at ../aten/src/ATen/native/cudnn/RNN.cpp:982.)\n",
            "  result = _VF.lstm(input, hx, self._flat_weights, self.bias, self.num_layers,\n"
          ]
        },
        {
          "output_type": "stream",
          "name": "stdout",
          "text": [
            "The model has test accuracy: 0.320556640625 and test similarity:0.7873471098288715.\n"
          ]
        }
      ]
    },
    {
      "cell_type": "code",
      "source": [
        "vanilla_values = []\n",
        "for test_pair in test_data:\n",
        "  input = test_pair[0]\n",
        "  target = test_pair[1]\n",
        "  pred = vanilla_model.predict(input, target)\n",
        "\n",
        "  target = target.tolist()\n",
        "  target = [t[0] for t in target]\n",
        "  input = input.tolist()\n",
        "  input = [i[0] for i in input]\n",
        "\n",
        "  tar_word = decoded_word(tamil, target)\n",
        "  inp_word = decoded_word(english, input)\n",
        "  pred_word = decoded_word(tamil, pred)\n",
        "\n",
        "  vanilla_values.append([inp_word, tar_word, pred_word])"
      ],
      "metadata": {
        "id": "gkbOt25WkcPP"
      },
      "execution_count": null,
      "outputs": []
    },
    {
      "cell_type": "code",
      "source": [
        "import csv\n",
        "header = ['input', 'target', 'prediction']\n",
        "with open('vanilla.csv', 'w') as file:\n",
        "    writer = csv.writer(file)\n",
        "    writer.writerow(header)\n",
        "    writer.writerows(vanilla_values)"
      ],
      "metadata": {
        "id": "myhUq7g9luS5"
      },
      "execution_count": null,
      "outputs": []
    },
    {
      "cell_type": "code",
      "source": [
        "scores = []\n",
        "with_score = []\n",
        "for entry in vanilla_values:\n",
        "  input = entry[0]\n",
        "  tar_word = entry[1]\n",
        "  pred_word = entry[2]\n",
        "  score = 1 - min((Levenshtein.distance(pred_word, tar_word)/max(len(tar_word),len(pred_word))), 1)\n",
        "  entry.append(score)\n",
        "  with_score.append(entry)"
      ],
      "metadata": {
        "id": "UGVrLUPqyjk_"
      },
      "execution_count": null,
      "outputs": []
    },
    {
      "cell_type": "code",
      "source": [
        "from operator import itemgetter"
      ],
      "metadata": {
        "id": "GW4fVWpI0p-s"
      },
      "execution_count": null,
      "outputs": []
    },
    {
      "cell_type": "code",
      "source": [
        "sort = sorted(with_score, key=itemgetter(3))"
      ],
      "metadata": {
        "id": "j_K6w9Dt1HZm"
      },
      "execution_count": null,
      "outputs": []
    },
    {
      "cell_type": "code",
      "source": [
        "sort[0:20]"
      ],
      "metadata": {
        "colab": {
          "base_uri": "https://localhost:8080/"
        },
        "id": "sjZBAtmJ1Z5I",
        "outputId": "4c074593-77bd-43f2-c55a-82b6eafe4de0"
      },
      "execution_count": null,
      "outputs": [
        {
          "output_type": "execute_result",
          "data": {
            "text/plain": [
              "[['kartu', 'சிம்', 'கற்டு', 0.0],\n",
              " ['vendum', 'குளிக்க', 'வெண்டும்', 0.0],\n",
              " ['varukinrana', 'உலா', 'வருகின்றன', 0.0],\n",
              " ['vitum', 'கலந்து', 'விடும்', 0.0],\n",
              " ['okay', 'ஓகே', 'கசோய்', 0.0],\n",
              " ['bee', 'பீ', 'ீய', 0.0],\n",
              " ['vazhi', 'நல்ல', 'வழி', 0.0],\n",
              " ['kei', 'சாவி', 'கெய்', 0.0],\n",
              " ['veentum', 'குளிக்க', 'வீண்டும்', 0.0],\n",
              " ['nava', 'நவ', 'வா', 0.0],\n",
              " ['shankar', 'பிரபு', 'நாங்கர்', 0.0],\n",
              " ['civinki', 'ஒட்டகச்', 'வினிங்கி', 0.0],\n",
              " ['pirakaasa', 'சைவப்', 'பிராசசச', 0.0],\n",
              " ['qey', 'சாவி', 'ஜெய்', 0.0],\n",
              " ['baee', 'பை', 'ீமே', 0.0],\n",
              " ['iowa', 'ஐயோவா', 'ஹேய', 0.0],\n",
              " ['payanikalai', 'சுற்றுலாப்', 'பயனிகளை', 0.0],\n",
              " ['high', 'ஹை', 'விகி', 0.0],\n",
              " ['ina', 'ஐநா', 'னன', 0.0],\n",
              " ['sankar', 'பிரபு', 'சங்கர்', 0.0]]"
            ]
          },
          "metadata": {},
          "execution_count": 109
        }
      ]
    },
    {
      "cell_type": "code",
      "source": [
        "sort[-20:]"
      ],
      "metadata": {
        "colab": {
          "base_uri": "https://localhost:8080/"
        },
        "id": "a1D28Ri61xxM",
        "outputId": "3a5dc5c9-910c-4800-c446-9813ae0d194a"
      },
      "execution_count": null,
      "outputs": [
        {
          "output_type": "execute_result",
          "data": {
            "text/plain": [
              "[['chopra', 'சோப்ரா', 'சோப்ரா', 1.0],\n",
              " ['nanmai', 'நன்மை', 'நன்மை', 1.0],\n",
              " ['seidhen', 'செய்தேன்', 'செய்தேன்', 1.0],\n",
              " ['arivathu', 'அறிவது', 'அறிவது', 1.0],\n",
              " ['pali', 'பலி', 'பலி', 1.0],\n",
              " ['senti', 'சென்டி', 'சென்டி', 1.0],\n",
              " ['vaangkum', 'வாங்கும்', 'வாங்கும்', 1.0],\n",
              " ['thoalviyaith', 'தோல்வியைத்', 'தோல்வியைத்', 1.0],\n",
              " ['thimuka', 'திமுக', 'திமுக', 1.0],\n",
              " ['uyirinam', 'உயிரினம்', 'உயிரினம்', 1.0],\n",
              " ['ulagaip', 'உலகைப்', 'உலகைப்', 1.0],\n",
              " ['kattamaikka', 'கட்டமைக்க', 'கட்டமைக்க', 1.0],\n",
              " ['saerkkaiyaal', 'சேர்க்கையால்', 'சேர்க்கையால்', 1.0],\n",
              " ['puthumaigalai', 'புதுமைகளை', 'புதுமைகளை', 1.0],\n",
              " ['viradham', 'விரதம்', 'விரதம்', 1.0],\n",
              " ['thattaan', 'தட்டான்', 'தட்டான்', 1.0],\n",
              " ['scotch', 'ஸ்காட்ச்', 'ஸ்காட்ச்', 1.0],\n",
              " ['veechuthal', 'வீசுதல்', 'வீசுதல்', 1.0],\n",
              " ['thaathup', 'தாதுப்', 'தாதுப்', 1.0],\n",
              " ['sattama', 'சட்டமா', 'சட்டமா', 1.0]]"
            ]
          },
          "metadata": {},
          "execution_count": 110
        }
      ]
    },
    {
      "cell_type": "code",
      "source": [
        "confusion_matrix_vanilla = np.zeros([tamil.n_chars - 2,tamil.n_chars - 2])\n",
        "for entry in vanilla_values:\n",
        "  target = entry[1]\n",
        "  predicted = entry[2]\n",
        "  for i in range(0, min(len(target), len(predicted))):\n",
        "    t = target[i]\n",
        "    p = predicted[i]\n",
        "    a = tamil.get_index(t) - 2\n",
        "    b = tamil.get_index(p) - 2\n",
        "    confusion_matrix_vanilla[a, b] = confusion_matrix_vanilla[a, b] + 1"
      ],
      "metadata": {
        "id": "oscDbvHrG4gF"
      },
      "execution_count": null,
      "outputs": []
    },
    {
      "cell_type": "code",
      "source": [
        "labels = [u'{}'.format(tamil.get_character(i)) for i in range(2, tamil.n_chars)]"
      ],
      "metadata": {
        "id": "f4bTnMk-KiQh"
      },
      "execution_count": null,
      "outputs": []
    },
    {
      "cell_type": "code",
      "source": [
        "for i in range(0, tamil.n_chars - 2):\n",
        "  for j in range(0, tamil.n_chars - 2):\n",
        "    if confusion_matrix_vanilla[i][j]>500:\n",
        "      confusion_matrix_vanilla[i][j] = 0"
      ],
      "metadata": {
        "id": "UXQdcFCvJ-AJ"
      },
      "execution_count": null,
      "outputs": []
    },
    {
      "cell_type": "code",
      "source": [
        "# -*- coding: utf-8 -*-\n",
        "\n",
        "import matplotlib.pyplot as plt\n",
        "from matplotlib.pyplot import figure\n",
        "from matplotlib.font_manager import FontProperties\n",
        "import warnings\n",
        "warnings.filterwarnings('ignore') # setting ignore as a parameter\n",
        "\n",
        "\n",
        "font_prop = FontProperties(fname='/content/Latha.ttf', size=6)\n",
        "ax = plt.subplot()\n",
        "for label in (ax.get_xticklabels() + ax.get_yticklabels()):\n",
        "    label.set_fontproperties(font_prop)\n",
        "\n",
        "sns.heatmap(confusion_matrix_vanilla[:30, :30], xticklabels = labels[:30], yticklabels = labels[:30])"
      ],
      "metadata": {
        "id": "4DCSNBWlNVtV"
      },
      "execution_count": null,
      "outputs": []
    },
    {
      "cell_type": "markdown",
      "source": [
        "#Evaluation of Attention Model on Test-Dataset"
      ],
      "metadata": {
        "id": "R3-l1Dk5g6GJ"
      }
    },
    {
      "cell_type": "code",
      "source": [
        "attn_model = pickle.load(open('/content/gdrive/MyDrive/CS6910_A3/best_models/best_attn_model.pkl', 'rb'))"
      ],
      "metadata": {
        "id": "i7G5IEnrhBX_"
      },
      "execution_count": null,
      "outputs": []
    },
    {
      "cell_type": "code",
      "source": [
        "test_acc, test_sim = attn_model.evaluate(test_data)\n",
        "print(f'The model has test accuracy: {test_acc} and test similarity:{test_sim}.')"
      ],
      "metadata": {
        "colab": {
          "base_uri": "https://localhost:8080/"
        },
        "id": "brJh27VOg3E-",
        "outputId": "a430c71f-3ff5-4202-87ba-123eb03f5351"
      },
      "execution_count": null,
      "outputs": [
        {
          "output_type": "stream",
          "name": "stdout",
          "text": [
            "The model has test accuracy: 0.37548828125 and test similarity:0.8192080796912453.\n"
          ]
        }
      ]
    },
    {
      "cell_type": "code",
      "source": [
        "attn_values = []\n",
        "for test_pair in test_data:\n",
        "  input = test_pair[0]\n",
        "  target = test_pair[1]\n",
        "  pred = attn_model.predict(input, target)\n",
        "\n",
        "  target = target.tolist()\n",
        "  target = [t[0] for t in target]\n",
        "  input = input.tolist()\n",
        "  input = [i[0] for i in input]\n",
        "\n",
        "  tar_word = decoded_word(tamil, target)\n",
        "  inp_word = decoded_word(english, input)\n",
        "  pred_word = decoded_word(tamil, pred)\n",
        "\n",
        "  attn_values.append([inp_word, tar_word, pred_word])"
      ],
      "metadata": {
        "id": "8MVwdJgHhKbD"
      },
      "execution_count": null,
      "outputs": []
    },
    {
      "cell_type": "code",
      "source": [
        "import csv\n",
        "header = ['input', 'target', 'prediction']\n",
        "with open('attention.csv', 'w') as file:\n",
        "    writer = csv.writer(file)\n",
        "    writer.writerow(header)\n",
        "    writer.writerows(attn_values)"
      ],
      "metadata": {
        "id": "MLmIjgL1nE2d"
      },
      "execution_count": null,
      "outputs": []
    },
    {
      "cell_type": "code",
      "source": [
        "scores = []\n",
        "with_score2 = []\n",
        "for entry in vanilla_values:\n",
        "  input = entry[0]\n",
        "  tar_word = entry[1]\n",
        "  pred_word = entry[2]\n",
        "  score = 1 - min((Levenshtein.distance(pred_word, tar_word)/max(len(tar_word),len(pred_word))), 1)\n",
        "  entry.append(score)\n",
        "  with_score2.append(entry)"
      ],
      "metadata": {
        "id": "TiB4hJK_uRuU"
      },
      "execution_count": null,
      "outputs": []
    },
    {
      "cell_type": "code",
      "source": [
        "sort = sorted(with_score2, key=itemgetter(3))"
      ],
      "metadata": {
        "id": "lcxv9HG-EUkk"
      },
      "execution_count": null,
      "outputs": []
    },
    {
      "cell_type": "code",
      "source": [
        "sort[:20]"
      ],
      "metadata": {
        "colab": {
          "base_uri": "https://localhost:8080/"
        },
        "id": "vDCx8a9VEYGI",
        "outputId": "ae71ac16-8dd3-4afb-8766-bc5d4f714a94"
      },
      "execution_count": null,
      "outputs": [
        {
          "output_type": "execute_result",
          "data": {
            "text/plain": [
              "[['kartu', 'சிம்', 'கற்டு', 0.0, 0.0],\n",
              " ['vendum', 'குளிக்க', 'வெண்டும்', 0.0, 0.0],\n",
              " ['varukinrana', 'உலா', 'வருகின்றன', 0.0, 0.0],\n",
              " ['vitum', 'கலந்து', 'விடும்', 0.0, 0.0],\n",
              " ['okay', 'ஓகே', 'கசோய்', 0.0, 0.0],\n",
              " ['bee', 'பீ', 'ீய', 0.0, 0.0],\n",
              " ['vazhi', 'நல்ல', 'வழி', 0.0, 0.0],\n",
              " ['kei', 'சாவி', 'கெய்', 0.0, 0.0],\n",
              " ['veentum', 'குளிக்க', 'வீண்டும்', 0.0, 0.0],\n",
              " ['nava', 'நவ', 'வா', 0.0, 0.0],\n",
              " ['shankar', 'பிரபு', 'நாங்கர்', 0.0, 0.0],\n",
              " ['civinki', 'ஒட்டகச்', 'வினிங்கி', 0.0, 0.0],\n",
              " ['pirakaasa', 'சைவப்', 'பிராசசச', 0.0, 0.0],\n",
              " ['qey', 'சாவி', 'ஜெய்', 0.0, 0.0],\n",
              " ['baee', 'பை', 'ீமே', 0.0, 0.0],\n",
              " ['iowa', 'ஐயோவா', 'ஹேய', 0.0, 0.0],\n",
              " ['payanikalai', 'சுற்றுலாப்', 'பயனிகளை', 0.0, 0.0],\n",
              " ['high', 'ஹை', 'விகி', 0.0, 0.0],\n",
              " ['ina', 'ஐநா', 'னன', 0.0, 0.0],\n",
              " ['sankar', 'பிரபு', 'சங்கர்', 0.0, 0.0]]"
            ]
          },
          "metadata": {},
          "execution_count": 113
        }
      ]
    },
    {
      "cell_type": "code",
      "source": [
        "sort[-20:]"
      ],
      "metadata": {
        "colab": {
          "base_uri": "https://localhost:8080/"
        },
        "id": "qykfy0J_EZfL",
        "outputId": "8571680a-05c3-425f-8aeb-a0929b4bebe6"
      },
      "execution_count": null,
      "outputs": [
        {
          "output_type": "execute_result",
          "data": {
            "text/plain": [
              "[['chopra', 'சோப்ரா', 'சோப்ரா', 1.0, 1.0],\n",
              " ['nanmai', 'நன்மை', 'நன்மை', 1.0, 1.0],\n",
              " ['seidhen', 'செய்தேன்', 'செய்தேன்', 1.0, 1.0],\n",
              " ['arivathu', 'அறிவது', 'அறிவது', 1.0, 1.0],\n",
              " ['pali', 'பலி', 'பலி', 1.0, 1.0],\n",
              " ['senti', 'சென்டி', 'சென்டி', 1.0, 1.0],\n",
              " ['vaangkum', 'வாங்கும்', 'வாங்கும்', 1.0, 1.0],\n",
              " ['thoalviyaith', 'தோல்வியைத்', 'தோல்வியைத்', 1.0, 1.0],\n",
              " ['thimuka', 'திமுக', 'திமுக', 1.0, 1.0],\n",
              " ['uyirinam', 'உயிரினம்', 'உயிரினம்', 1.0, 1.0],\n",
              " ['ulagaip', 'உலகைப்', 'உலகைப்', 1.0, 1.0],\n",
              " ['kattamaikka', 'கட்டமைக்க', 'கட்டமைக்க', 1.0, 1.0],\n",
              " ['saerkkaiyaal', 'சேர்க்கையால்', 'சேர்க்கையால்', 1.0, 1.0],\n",
              " ['puthumaigalai', 'புதுமைகளை', 'புதுமைகளை', 1.0, 1.0],\n",
              " ['viradham', 'விரதம்', 'விரதம்', 1.0, 1.0],\n",
              " ['thattaan', 'தட்டான்', 'தட்டான்', 1.0, 1.0],\n",
              " ['scotch', 'ஸ்காட்ச்', 'ஸ்காட்ச்', 1.0, 1.0],\n",
              " ['veechuthal', 'வீசுதல்', 'வீசுதல்', 1.0, 1.0],\n",
              " ['thaathup', 'தாதுப்', 'தாதுப்', 1.0, 1.0],\n",
              " ['sattama', 'சட்டமா', 'சட்டமா', 1.0, 1.0]]"
            ]
          },
          "metadata": {},
          "execution_count": 114
        }
      ]
    },
    {
      "cell_type": "code",
      "source": [
        "confusion_matrix_attn = np.zeros([tamil.n_chars - 2,tamil.n_chars - 2])\n",
        "for entry in vanilla_values:\n",
        "  target = entry[1]\n",
        "  predicted = entry[2]\n",
        "  for i in range(0, min(len(target), len(predicted))):\n",
        "    t = target[i]\n",
        "    p = predicted[i]\n",
        "    a = tamil.get_index(t) - 2\n",
        "    b = tamil.get_index(p) - 2\n",
        "    confusion_matrix_attn[a, b] = confusion_matrix_attn[a, b] + 1"
      ],
      "metadata": {
        "id": "laa_em8TEb02"
      },
      "execution_count": null,
      "outputs": []
    },
    {
      "cell_type": "code",
      "source": [
        "for i in range(0, tamil.n_chars - 2):\n",
        "  for j in range(0, tamil.n_chars - 2):\n",
        "    if confusion_matrix_attn[i][j]>500:\n",
        "      confusion_matrix_attn[i][j] = 0"
      ],
      "metadata": {
        "id": "PgYWIUK2WI1a"
      },
      "execution_count": null,
      "outputs": []
    },
    {
      "cell_type": "code",
      "source": [
        "# -*- coding: utf-8 -*-\n",
        "\n",
        "import matplotlib.pyplot as plt\n",
        "from matplotlib.pyplot import figure\n",
        "from matplotlib.font_manager import FontProperties\n",
        "import warnings\n",
        "warnings.filterwarnings('ignore') # setting ignore as a parameter\n",
        "\n",
        "\n",
        "font_prop = FontProperties(fname='/content/Latha.ttf', size=6)\n",
        "ax = plt.subplot()\n",
        "for label in (ax.get_xticklabels() + ax.get_yticklabels()):\n",
        "    label.set_fontproperties(font_prop)\n",
        "\n",
        "sns.heatmap(confusion_matrix_attn[:30, :30], xticklabels = labels[:30], yticklabels = labels[:30])"
      ],
      "metadata": {
        "id": "vxV3AKYlVwSr"
      },
      "execution_count": null,
      "outputs": []
    },
    {
      "cell_type": "code",
      "source": [
        "#what predictions does attention get write that vanilla gets wrong?\n",
        "attention_better = []\n",
        "for i in range(0, len(attn_values)):\n",
        "  vanilla = vanilla_values[i]\n",
        "  attention = attn_values[i]\n",
        "  if attention[2] == attention[1] and vanilla[2] != vanilla[1]:\n",
        "    attention_better.append([attention[0], attention[1], vanilla[2], attention[2]])"
      ],
      "metadata": {
        "id": "SXttCZucV2QC"
      },
      "execution_count": null,
      "outputs": []
    },
    {
      "cell_type": "code",
      "source": [
        "len(attention_better)"
      ],
      "metadata": {
        "colab": {
          "base_uri": "https://localhost:8080/"
        },
        "id": "3KNrsR60X-8I",
        "outputId": "8bd56569-ff16-4483-f275-a6864ad13bdd"
      },
      "execution_count": null,
      "outputs": [
        {
          "output_type": "execute_result",
          "data": {
            "text/plain": [
              "504"
            ]
          },
          "metadata": {},
          "execution_count": 191
        }
      ]
    },
    {
      "cell_type": "code",
      "source": [
        "rand = random.sample(attention_better, 20)"
      ],
      "metadata": {
        "id": "s1goqt6sYGbS"
      },
      "execution_count": null,
      "outputs": []
    },
    {
      "cell_type": "code",
      "source": [
        "for entry in rand:\n",
        "  print(entry)"
      ],
      "metadata": {
        "colab": {
          "base_uri": "https://localhost:8080/"
        },
        "id": "YsjYp49bYeOf",
        "outputId": "bb9b6292-cbef-4c68-e8e5-ff139b204836"
      },
      "execution_count": null,
      "outputs": [
        {
          "output_type": "stream",
          "name": "stdout",
          "text": [
            "['vealaiyaiyum', 'வேலையையும்', 'வேளையையும்', 'வேலையையும்']\n",
            "['kaithal', 'கைதல்', 'கைத்ல', 'கைதல்']\n",
            "['oththuzhaikkinranar', 'ஒத்துழைக்கின்றனர்', 'ஒத்துழைக்கின்றர்', 'ஒத்துழைக்கின்றனர்']\n",
            "['maruththuvarai', 'மருத்துவரை', 'மறுத்துவரை', 'மருத்துவரை']\n",
            "['aayiraththai', 'ஆயிரத்தை', 'ஆயிர்ததை', 'ஆயிரத்தை']\n",
            "['kidaikkakkoodiya', 'கிடைக்கக்கூடிய', 'கிடைக்கட்கூடிய', 'கிடைக்கக்கூடிய']\n",
            "['piramukar', 'பிரமுகர்', 'பிரமுக்்', 'பிரமுகர்']\n",
            "['mutharkattamaaga', 'முதற்கட்டமாக', 'முதர்கட்டாக', 'முதற்கட்டமாக']\n",
            "['seiyappattiruppaar', 'செய்யப்பட்டிருப்பார்', 'செய்யப்பட்டுப்பார்', 'செய்யப்பட்டிருப்பார்']\n",
            "['mandabaththinullea', 'மண்டபத்தினுள்ளே', 'மண்டதத்தினில்லே', 'மண்டபத்தினுள்ளே']\n",
            "['karumpalakaiyil', 'கரும்பலகையில்', 'கர்ம்பகளைகளி்', 'கரும்பலகையில்']\n",
            "['magizhunthu', 'மகிழுந்து', 'கசிழுந்து', 'மகிழுந்து']\n",
            "['ontruthirandulla', 'ஒன்றுதிரண்டுள்ள', 'ஒன்றுதிர்்்்ல்', 'ஒன்றுதிரண்டுள்ள']\n",
            "['seimadhi', 'செய்மதி', 'செய்மாிி', 'செய்மதி']\n",
            "['melton', 'மெல்டன்', 'மெல்ட்ன்', 'மெல்டன்']\n",
            "['kodukkappattikkum', 'கொடுக்கப்பட்டிக்கும்', 'கொடுக்கப்படிட்குக்ம்', 'கொடுக்கப்பட்டிக்கும்']\n",
            "['purinthum', 'புரிந்தும்', 'புறிந்தும்', 'புரிந்தும்']\n",
            "['seithiyaalargalukum', 'செய்தியாளர்களுக்கும்', 'செய்தியாளர்களுகும்', 'செய்தியாளர்களுக்கும்']\n",
            "['purivadhu', 'புரிவது', 'புறிவது', 'புரிவது']\n",
            "['guha', 'குஹா', 'கு', 'குஹா']\n"
          ]
        }
      ]
    },
    {
      "cell_type": "markdown",
      "source": [
        "#Attention Heatmaps"
      ],
      "metadata": {
        "id": "nVWBcEL-d7kT"
      }
    },
    {
      "cell_type": "code",
      "source": [
        "random_test_data = random.sample(test_data, 9)"
      ],
      "metadata": {
        "id": "u3DRfFGYgoxD"
      },
      "execution_count": null,
      "outputs": []
    },
    {
      "cell_type": "code",
      "source": [
        "heatmaps = []\n",
        "out_words = []\n",
        "inputs = []\n",
        "\n",
        "for i in range(9):\n",
        "    sample = random_test_data[i]\n",
        "    input = sample[0]\n",
        "    input_w = input.tolist()\n",
        "    input_w = [a[0] for a in input_w]\n",
        "    word_in = decoded_word(english, input_w)\n",
        "\n",
        "    inputs.append(word_in)\n",
        "    target = sample[1]\n",
        "\n",
        "\n",
        "    with torch.no_grad():\n",
        "      encoder_hidden = attn_model.encoder.init_hidden()\n",
        "\n",
        "      if attn_model.bidir == True:\n",
        "        encoder_outputs = torch.zeros(attn_model.max_length, 2*attn_model.encoder.hl_size, device=device)\n",
        "      else:\n",
        "        encoder_outputs = torch.zeros(attn_model.max_length, attn_model.encoder.hl_size, device=device)\n",
        "\n",
        "      input_length = input.size(0)\n",
        "      for j in range(0, input_length):\n",
        "        encoder_output, encoder_hidden = attn_model.encoder.forward(input[j], encoder_hidden)\n",
        "        encoder_outputs[j] = encoder_output[0, 0]\n",
        "\n",
        "      decoder_input = torch.tensor([[start_token]], device=device)\n",
        "      decoder_hidden = encoder_hidden\n",
        "\n",
        "      outputs = []\n",
        "      decoder_attentions = torch.zeros(attn_model.max_length, attn_model.max_length)\n",
        "      for j in range(0, attn_model.max_length):\n",
        "        decoder_output, decoder_hidden, decoder_attention = attn_model.decoder.forward(decoder_input, decoder_hidden, encoder_outputs)\n",
        "        decoder_attentions[j] = decoder_attention.data\n",
        "\n",
        "        value, index = decoder_output.data.topk(1)\n",
        "        decoder_input = index.squeeze().detach()\n",
        "        outputs.append(decoder_input.item())\n",
        "        if decoder_input.item() == end_token:\n",
        "          break\n",
        "    \n",
        "    out_word = decoded_word(tamil, outputs)\n",
        "    \n",
        "    heatmaps.append(decoder_attentions[:j+1])\n",
        "    out_words.append(out_word)\n"
      ],
      "metadata": {
        "id": "gEBkioA3fwLU"
      },
      "execution_count": null,
      "outputs": []
    },
    {
      "cell_type": "code",
      "source": [
        "import matplotlib.pyplot as plt\n",
        "from matplotlib.pyplot import figure\n",
        "from matplotlib.font_manager import FontProperties\n",
        "import warnings\n",
        "warnings.filterwarnings('ignore') # setting ignore as a parameter"
      ],
      "metadata": {
        "id": "eAvAW4VUqZNS"
      },
      "execution_count": null,
      "outputs": []
    },
    {
      "cell_type": "code",
      "source": [
        "\n",
        "fig, axes = plt.subplots(3, 3, figsize=(25, 15))\n",
        "\n",
        "font_prop = FontProperties(fname='/content/Latha.ttf', size=7)\n",
        "#ax = plt.subplot()\n",
        "# for label in (axes.get_yticklabels()):\n",
        "#     label.set_fontproperties(font_prop)\n",
        "\n",
        "xlabels = [english.get_character(i) for i in range(0, english.n_chars)]\n",
        "\n",
        "for i, ax in enumerate(axes.flatten()):\n",
        "    ax.set_yticklabels(ax.get_yticklabels(), fontproperties=font_prop)\n",
        "    ylabels = [letter for letter in out_words[i]]\n",
        "    xlabels = [letter for letter in inputs[i]]\n",
        "    arr = np.array(heatmaps[i])\n",
        "    arr = arr[:,0:len(inputs[i])]\n",
        "    sns.heatmap(arr, ax=ax, cmap='YlGnBu', xticklabels = xlabels, yticklabels = ylabels)\n",
        "    ax.set_title(f'input - {inputs[i]}')\n",
        "\n"
      ],
      "metadata": {
        "colab": {
          "base_uri": "https://localhost:8080/",
          "height": 718
        },
        "id": "0v3sfayThRe6",
        "outputId": "5ce666a2-d11d-434c-852b-ded6417793b7"
      },
      "execution_count": null,
      "outputs": [
        {
          "output_type": "display_data",
          "data": {
            "text/plain": [
              "<Figure size 2500x1500 with 18 Axes>"
            ],
            "image/png": "[encoded data removed]"
          },
          "metadata": {}
        }
      ]
    },
    {
      "cell_type": "code",
      "source": [
        "print(english.n_chars)"
      ],
      "metadata": {
        "id": "S5HkWmcmhWGN",
        "colab": {
          "base_uri": "https://localhost:8080/"
        },
        "outputId": "cc703d6a-bbed-4a95-c2a1-928a35dc1c6b"
      },
      "execution_count": null,
      "outputs": [
        {
          "output_type": "stream",
          "name": "stdout",
          "text": [
            "29\n"
          ]
        }
      ]
    },
    {
      "cell_type": "code",
      "source": [],
      "metadata": {
        "id": "ssmZnrIOizHD"
      },
      "execution_count": null,
      "outputs": []
    }
  ],
  "metadata": {
    "accelerator": "GPU",
    "colab": {
      "provenance": [],
      "collapsed_sections": [
        "63vUwSCMWDMn",
        "lpvi55EDGS4v",
        "zss0cVzw9eeT",
        "aUOXGR5iMdC5"
      ],
      "include_colab_link": true
    },
    "gpuClass": "standard",
    "kernelspec": {
      "display_name": "Python 3",
      "name": "python3"
    },
    "language_info": {
      "name": "python"
    }
  },
  "nbformat": 4,
  "nbformat_minor": 0
}